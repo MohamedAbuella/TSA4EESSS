{
 "cells": [
  {
   "cell_type": "markdown",
   "metadata": {},
   "source": [
    "### Create an Output Folder\n",
    "The new folder will be created in the Current Directory.  \n",
    "The saved outputs of this notebook are located in this folder."
   ]
  },
  {
   "cell_type": "code",
   "execution_count": 1,
   "metadata": {},
   "outputs": [
    {
     "name": "stdout",
     "output_type": "stream",
     "text": [
      "Current directory: C:\\Users\\Mhdella\\iHelm\\CTs4_TSA\n"
     ]
    }
   ],
   "source": [
    "import os\n",
    "import time\n",
    "start_time_all = time.time()  ## to measure the timelapse \n",
    "\n",
    "# Get current working directory\n",
    "current_dir = os.getcwd()\n",
    "\n",
    "print(\"Current directory:\", current_dir)\n",
    "\n",
    "# Name the new folder\n",
    "Output_folder_main='KNN_Weathers_v1'"
   ]
  },
  {
   "cell_type": "code",
   "execution_count": 2,
   "metadata": {},
   "outputs": [],
   "source": [
    "# KNN_norm=1; # Normalized data for KNN   #### (Normalizing or not, it is not that big difference)\n",
    "KNN_norm=0; # Not Normalized data for KNN"
   ]
  },
  {
   "cell_type": "code",
   "execution_count": 3,
   "metadata": {},
   "outputs": [],
   "source": [
    "nth_mid_sth_fg='Cruising_Speeds' ##(North and South Route Segmentss)\n",
    "# nth_mid_sth_fg='All_Speeds'  ##(All Route Segments) \n",
    "\n",
    "gr_ock_fg=1  ## Select Groto to Ockero voyages only\n",
    "# gr_ock_fg=0  ## Select Ockero to Groto voyages only\n",
    "# gr_ock_fg=2  ## ALl data together\n",
    "\n",
    "top_test_fg=1 ## Reserve some voyages with top eff-scores for test data\n",
    "###top_test_fg=0\n",
    "\n",
    "# Eff_limit_combs=[1]\n",
    "Eff_limit_combs=['Top10'] \n",
    "# Eff_limit_combs=['Top25'] \n",
    "# Eff_limit_combs=['Top50'] \n",
    "# Eff_limit_combs=['Top75'] "
   ]
  },
  {
   "cell_type": "code",
   "execution_count": 4,
   "metadata": {},
   "outputs": [],
   "source": [
    "Reg_Mod_inps=5\n",
    "\n",
    "###############################\n",
    "disp=8  ## Display the results by rounding to cetain decimal digits\n",
    "# disp=4\n",
    "\n",
    "###################\n",
    "#### ypred_allseq=0 ## To evaluate the predicted SOG for the horizon timesteps in the sequence                                  \n",
    "ypred_allseq=1 ## To evaluate the predicted SOG for the all sequence (timesteps=all Seq. length, wd_sz)     \n",
    "###################\n",
    "\n",
    "inputs_str='Default' ##Default; \n",
    "\n",
    "# var_inputs_combs=[5] \n",
    "var_inputs_combs=[12]; inputs_str='Weathers'\n",
    "\n",
    "###################\n",
    "lag_test_combs=[1]\n",
    "# lag_test_combs=[5]\n",
    "\n",
    "#####################\n",
    "wd_sz=27\n",
    "\n",
    "rt_len=27\n",
    "\n",
    "Hrz_test=lag_test_combs[0]\n",
    "#####################\n",
    "\n",
    "out_sw='SOG'  ## Output is SpeedOverGround\n",
    "# out_sw='Eff_Score'## output is eff_score\n",
    "###################\n",
    "\n",
    "### gr_ok_dt_fg=0  ##use ockero to groto data\n",
    "# gr_ok_dt_fg=1  ##use groto to ockero data\n",
    "gr_ok_dt_fg='alldata'  ##use groto to ockero data"
   ]
  },
  {
   "cell_type": "code",
   "execution_count": 5,
   "metadata": {},
   "outputs": [],
   "source": [
    "### LSTM options ###\n",
    "train_pt=0.70  ## partition data between training and test\n",
    "test_pt=0.81   ## partition data between valid and test\n",
    "###################\n",
    "\n",
    "# SampNo_lstm=100\n",
    "SampNo_lstm=32\n",
    "###################\n",
    "\n",
    "Stand_norm_combs=[1]\n",
    "\n",
    "lyr_combs=[3]\n",
    "\n",
    "neo_combs=[50]\n",
    "\n",
    "epcs_combs=[50]\n",
    "\n",
    "learn_rt=[0.01]\n",
    "\n",
    "act_fn=['relu']\n",
    "\n",
    "optimizer = ['Adam']\n"
   ]
  },
  {
   "cell_type": "code",
   "execution_count": 6,
   "metadata": {},
   "outputs": [],
   "source": [
    "# tm_stps=1  ### 1 step forecasting\n",
    "tm_stps=2  ### multiple-steps forecasting, It is the sequence length>20 steps\n",
    "################\n",
    "stml_fg=0 \n",
    "# stml_fg=1  ## stml with drop layer4\n",
    "################\n",
    "\n",
    "# tempo_res='5min'  \n",
    "tempo_res='1min'  \n",
    "# tempo_res='30S'  \n",
    "\n",
    "#####################\n",
    "\n",
    "seq_idx=5\n",
    "\n",
    "save_sw=0  ### No saving models"
   ]
  },
  {
   "cell_type": "code",
   "execution_count": 7,
   "metadata": {},
   "outputs": [],
   "source": [
    "Output_folder = Output_folder_main+'/SampLSTM_'+str(SampNo_lstm)+'/NMS_'+str(nth_mid_sth_fg)+'/EffTp_'+str(Eff_limit_combs[0])+'/GrOck_'+str(gr_ock_fg)+'_loc_'+'_inps_'+str(var_inputs_combs[0])+'_lag_'+str(lag_test_combs[0])"
   ]
  },
  {
   "cell_type": "code",
   "execution_count": 8,
   "metadata": {},
   "outputs": [],
   "source": [
    "## Create the output folder\n",
    "folder_path = r''+Output_folder\n",
    "if not os.path.exists(folder_path):\n",
    "    os.makedirs(folder_path)"
   ]
  },
  {
   "cell_type": "code",
   "execution_count": 9,
   "metadata": {},
   "outputs": [],
   "source": [
    "import os\n",
    "import pandas as pd\n",
    "import numpy as np\n",
    "import pickle\n",
    "from datetime import timedelta\n",
    "\n",
    "import netCDF4 as nc\n",
    "import plotly.express as px\n",
    "import matplotlib.pyplot as plt\n",
    "import plotly.express as px\n",
    "\n",
    "\n",
    "from sklearn.model_selection import train_test_split, GridSearchCV\n",
    "from sklearn import preprocessing\n",
    "from sklearn.preprocessing import StandardScaler, MinMaxScaler\n",
    "from sklearn.model_selection import train_test_split\n",
    "from sklearn.metrics import mean_absolute_error, mean_squared_error, r2_score\n",
    "\n",
    "\n",
    "import keras\n",
    "from keras.models import Sequential\n",
    "from keras.layers import Dense, LSTM, LeakyReLU\n",
    "from keras import backend as k\n",
    "from keras.callbacks import ModelCheckpoint, EarlyStopping, ReduceLROnPlateau\n",
    "from keras.losses import MeanSquaredError\n",
    "from keras.metrics import RootMeanSquaredError\n",
    "from tensorflow.keras.optimizers import Adam, SGD, RMSprop\n",
    "\n",
    "\n",
    "import tensorflow as tf\n",
    "tf.random.set_seed(42)\n",
    "from numpy.random import seed\n",
    "seed(0)\n",
    "\n",
    "import warnings\n",
    "warnings.filterwarnings(\"ignore\")"
   ]
  },
  {
   "cell_type": "code",
   "execution_count": 10,
   "metadata": {},
   "outputs": [
    {
     "data": {
      "text/plain": [
       "(39193, 71)"
      ]
     },
     "execution_count": 10,
     "metadata": {},
     "output_type": "execute_result"
    }
   ],
   "source": [
    "##import data\n",
    "#############\n",
    "df = pd.read_csv('Data/Data.csv') ## if the data in CSV file\n",
    "\n",
    "df.shape"
   ]
  },
  {
   "cell_type": "code",
   "execution_count": 11,
   "metadata": {},
   "outputs": [
    {
     "data": {
      "text/html": [
       "<div>\n",
       "<style scoped>\n",
       "    .dataframe tbody tr th:only-of-type {\n",
       "        vertical-align: middle;\n",
       "    }\n",
       "\n",
       "    .dataframe tbody tr th {\n",
       "        vertical-align: top;\n",
       "    }\n",
       "\n",
       "    .dataframe thead th {\n",
       "        text-align: right;\n",
       "    }\n",
       "</style>\n",
       "<table border=\"1\" class=\"dataframe\">\n",
       "  <thead>\n",
       "    <tr style=\"text-align: right;\">\n",
       "      <th></th>\n",
       "      <th>RT_id</th>\n",
       "      <th>time_xPorts</th>\n",
       "      <th>eff_score</th>\n",
       "      <th>latitude</th>\n",
       "      <th>longitude</th>\n",
       "      <th>accelPedalPos</th>\n",
       "      <th>headingMagnetic</th>\n",
       "      <th>courseOverGroundTrue</th>\n",
       "      <th>speedOverGround</th>\n",
       "      <th>pitch</th>\n",
       "      <th>...</th>\n",
       "      <th>windDirection_cds</th>\n",
       "      <th>wind_head_diff</th>\n",
       "      <th>date</th>\n",
       "      <th>local_eff_score</th>\n",
       "      <th>Gr_Ock_fg</th>\n",
       "      <th>Direct_RT</th>\n",
       "      <th>accel_data</th>\n",
       "      <th>F1_score</th>\n",
       "      <th>Eff_new</th>\n",
       "      <th>eff_score_old</th>\n",
       "    </tr>\n",
       "  </thead>\n",
       "  <tbody>\n",
       "    <tr>\n",
       "      <th>0</th>\n",
       "      <td>248</td>\n",
       "      <td>1</td>\n",
       "      <td>0.410889</td>\n",
       "      <td>57.711047</td>\n",
       "      <td>11.659483</td>\n",
       "      <td>29.336750</td>\n",
       "      <td>239.203157</td>\n",
       "      <td>63.764782</td>\n",
       "      <td>1.738404</td>\n",
       "      <td>0.014409</td>\n",
       "      <td>...</td>\n",
       "      <td>228.614059</td>\n",
       "      <td>239.203157</td>\n",
       "      <td>2020-01-16 13:10:00</td>\n",
       "      <td>0.680602</td>\n",
       "      <td>0</td>\n",
       "      <td>0</td>\n",
       "      <td>0.000000</td>\n",
       "      <td>0.589111</td>\n",
       "      <td>0.410889</td>\n",
       "      <td>0.702661</td>\n",
       "    </tr>\n",
       "    <tr>\n",
       "      <th>1</th>\n",
       "      <td>248</td>\n",
       "      <td>2</td>\n",
       "      <td>0.410889</td>\n",
       "      <td>57.711401</td>\n",
       "      <td>11.660977</td>\n",
       "      <td>61.683917</td>\n",
       "      <td>130.172187</td>\n",
       "      <td>82.782518</td>\n",
       "      <td>2.088625</td>\n",
       "      <td>0.031427</td>\n",
       "      <td>...</td>\n",
       "      <td>228.516052</td>\n",
       "      <td>130.172187</td>\n",
       "      <td>2020-01-16 13:11:00</td>\n",
       "      <td>0.129180</td>\n",
       "      <td>0</td>\n",
       "      <td>0</td>\n",
       "      <td>0.350221</td>\n",
       "      <td>0.589111</td>\n",
       "      <td>0.410889</td>\n",
       "      <td>0.702661</td>\n",
       "    </tr>\n",
       "    <tr>\n",
       "      <th>2</th>\n",
       "      <td>248</td>\n",
       "      <td>3</td>\n",
       "      <td>0.410889</td>\n",
       "      <td>57.712142</td>\n",
       "      <td>11.664302</td>\n",
       "      <td>64.696250</td>\n",
       "      <td>66.558752</td>\n",
       "      <td>63.644947</td>\n",
       "      <td>4.688200</td>\n",
       "      <td>0.020384</td>\n",
       "      <td>...</td>\n",
       "      <td>228.418045</td>\n",
       "      <td>66.558752</td>\n",
       "      <td>2020-01-16 13:12:00</td>\n",
       "      <td>0.403199</td>\n",
       "      <td>0</td>\n",
       "      <td>0</td>\n",
       "      <td>2.599575</td>\n",
       "      <td>0.589111</td>\n",
       "      <td>0.410889</td>\n",
       "      <td>0.702661</td>\n",
       "    </tr>\n",
       "    <tr>\n",
       "      <th>3</th>\n",
       "      <td>248</td>\n",
       "      <td>4</td>\n",
       "      <td>0.410889</td>\n",
       "      <td>57.713221</td>\n",
       "      <td>11.668567</td>\n",
       "      <td>64.650250</td>\n",
       "      <td>70.919434</td>\n",
       "      <td>66.850144</td>\n",
       "      <td>4.658400</td>\n",
       "      <td>0.020279</td>\n",
       "      <td>...</td>\n",
       "      <td>228.320023</td>\n",
       "      <td>70.919434</td>\n",
       "      <td>2020-01-16 13:13:00</td>\n",
       "      <td>0.400802</td>\n",
       "      <td>0</td>\n",
       "      <td>0</td>\n",
       "      <td>-0.029800</td>\n",
       "      <td>0.589111</td>\n",
       "      <td>0.410889</td>\n",
       "      <td>0.702661</td>\n",
       "    </tr>\n",
       "    <tr>\n",
       "      <th>4</th>\n",
       "      <td>248</td>\n",
       "      <td>5</td>\n",
       "      <td>0.410889</td>\n",
       "      <td>57.714124</td>\n",
       "      <td>11.672979</td>\n",
       "      <td>64.538967</td>\n",
       "      <td>74.650272</td>\n",
       "      <td>71.377441</td>\n",
       "      <td>4.734000</td>\n",
       "      <td>0.019694</td>\n",
       "      <td>...</td>\n",
       "      <td>228.222015</td>\n",
       "      <td>74.650272</td>\n",
       "      <td>2020-01-16 13:14:00</td>\n",
       "      <td>0.421207</td>\n",
       "      <td>0</td>\n",
       "      <td>0</td>\n",
       "      <td>0.075600</td>\n",
       "      <td>0.589111</td>\n",
       "      <td>0.410889</td>\n",
       "      <td>0.702661</td>\n",
       "    </tr>\n",
       "  </tbody>\n",
       "</table>\n",
       "<p>5 rows × 71 columns</p>\n",
       "</div>"
      ],
      "text/plain": [
       "   RT_id  time_xPorts  eff_score   latitude  longitude  accelPedalPos  \\\n",
       "0    248            1   0.410889  57.711047  11.659483      29.336750   \n",
       "1    248            2   0.410889  57.711401  11.660977      61.683917   \n",
       "2    248            3   0.410889  57.712142  11.664302      64.696250   \n",
       "3    248            4   0.410889  57.713221  11.668567      64.650250   \n",
       "4    248            5   0.410889  57.714124  11.672979      64.538967   \n",
       "\n",
       "   headingMagnetic  courseOverGroundTrue  speedOverGround     pitch  ...  \\\n",
       "0       239.203157             63.764782         1.738404  0.014409  ...   \n",
       "1       130.172187             82.782518         2.088625  0.031427  ...   \n",
       "2        66.558752             63.644947         4.688200  0.020384  ...   \n",
       "3        70.919434             66.850144         4.658400  0.020279  ...   \n",
       "4        74.650272             71.377441         4.734000  0.019694  ...   \n",
       "\n",
       "   windDirection_cds  wind_head_diff                 date  local_eff_score  \\\n",
       "0         228.614059      239.203157  2020-01-16 13:10:00         0.680602   \n",
       "1         228.516052      130.172187  2020-01-16 13:11:00         0.129180   \n",
       "2         228.418045       66.558752  2020-01-16 13:12:00         0.403199   \n",
       "3         228.320023       70.919434  2020-01-16 13:13:00         0.400802   \n",
       "4         228.222015       74.650272  2020-01-16 13:14:00         0.421207   \n",
       "\n",
       "   Gr_Ock_fg  Direct_RT  accel_data  F1_score   Eff_new  eff_score_old  \n",
       "0          0          0    0.000000  0.589111  0.410889       0.702661  \n",
       "1          0          0    0.350221  0.589111  0.410889       0.702661  \n",
       "2          0          0    2.599575  0.589111  0.410889       0.702661  \n",
       "3          0          0   -0.029800  0.589111  0.410889       0.702661  \n",
       "4          0          0    0.075600  0.589111  0.410889       0.702661  \n",
       "\n",
       "[5 rows x 71 columns]"
      ]
     },
     "execution_count": 11,
     "metadata": {},
     "output_type": "execute_result"
    }
   ],
   "source": [
    "dforig=df\n",
    "df.head()"
   ]
  },
  {
   "cell_type": "code",
   "execution_count": 12,
   "metadata": {},
   "outputs": [
    {
     "data": {
      "text/plain": [
       "1754"
      ]
     },
     "execution_count": 12,
     "metadata": {},
     "output_type": "execute_result"
    }
   ],
   "source": [
    "df.RT_id.max()\n",
    "len(df.RT_id.unique())"
   ]
  },
  {
   "cell_type": "code",
   "execution_count": 13,
   "metadata": {},
   "outputs": [
    {
     "data": {
      "text/plain": [
       "Index(['RT_id', 'time_xPorts', 'eff_score', 'latitude', 'longitude',\n",
       "       'accelPedalPos', 'headingMagnetic', 'courseOverGroundTrue',\n",
       "       'speedOverGround', 'pitch', 'roll', 'windSpeedOverGround',\n",
       "       'windDirectionTrue', 'fuelPerStep', 'deltaDistance',\n",
       "       'courseHeadingDiff', 'distanceFromDock', 'distanceToNextDock',\n",
       "       'distanceToPreviousDock', 'accumDistLeg', 'accumFuelLeg',\n",
       "       'accumTimeLeg', 'directionTrue', 'EngineFuelRate', 'speedApparent',\n",
       "       'wind_course_diff', 'distance', 'fuel', 'time', 'time_norm',\n",
       "       'distance_norm', 'fuel_norm', 'duration', 'fuel_total', 'time_total',\n",
       "       'distance_total', 'engineFuelRate', 'windSpeed', 'windDirection',\n",
       "       'waveheight', 'wavedirect', 'waveperiod', 'wavedrag_coeff',\n",
       "       'speedOverGround_poly2', 'speedOverGround_poly3', 'fuel_Sp_formula',\n",
       "       'speedOverGround_poly3_2', 'waveheight_poly3', 'windspeed_poly1_5',\n",
       "       'meanwaveperiod', 'heading_wave', 'heading_wind', 'Cos_HWaveP',\n",
       "       'Cos_HWindP', 'currentSpeed', 'currentDirection', 'windSpeed_sg',\n",
       "       'windDirection_sg', 'windSpeed_onboard', 'windDirection_onboard',\n",
       "       'windSpeed_cds', 'windDirection_cds', 'wind_head_diff', 'date',\n",
       "       'local_eff_score', 'Gr_Ock_fg', 'Direct_RT', 'accel_data', 'F1_score',\n",
       "       'Eff_new', 'eff_score_old'],\n",
       "      dtype='object')"
      ]
     },
     "execution_count": 13,
     "metadata": {},
     "output_type": "execute_result"
    }
   ],
   "source": [
    "df.columns"
   ]
  },
  {
   "cell_type": "code",
   "execution_count": 14,
   "metadata": {
    "scrolled": true
   },
   "outputs": [],
   "source": [
    "# st=stop"
   ]
  },
  {
   "cell_type": "code",
   "execution_count": 15,
   "metadata": {},
   "outputs": [
    {
     "name": "stdout",
     "output_type": "stream",
     "text": [
      "(20436, 71)\n",
      "[1]\n"
     ]
    }
   ],
   "source": [
    "if gr_ock_fg==1:\n",
    "    df=df[df.Gr_Ock_fg==1]   \n",
    "if gr_ock_fg==0:\n",
    "    df=df[df.Gr_Ock_fg==0]\n",
    "if gr_ock_fg==2:\n",
    "    df=df\n",
    "    \n",
    "print(df.shape)\n",
    "print(df.Gr_Ock_fg.unique())"
   ]
  },
  {
   "cell_type": "code",
   "execution_count": 16,
   "metadata": {},
   "outputs": [
    {
     "data": {
      "text/plain": [
       "(396, 71)"
      ]
     },
     "execution_count": 16,
     "metadata": {},
     "output_type": "execute_result"
    }
   ],
   "source": [
    "df[(df.Direct_RT==1)].shape"
   ]
  },
  {
   "cell_type": "code",
   "execution_count": 17,
   "metadata": {},
   "outputs": [
    {
     "name": "stdout",
     "output_type": "stream",
     "text": [
      "(10665, 71)\n",
      "Cruising_Speeds\n"
     ]
    },
    {
     "data": {
      "text/plain": [
       "(10665, 71)"
      ]
     },
     "execution_count": 17,
     "metadata": {},
     "output_type": "execute_result"
    }
   ],
   "source": [
    "if nth_mid_sth_fg=='Cruising_Speeds':\n",
    "    df_NS=df[(df.Direct_RT==0) & \n",
    "              (((df.latitude>57.71) & (df.longitude<11.679)) | ((df.latitude<57.705) & (df.longitude>11.686)))]\n",
    "    NS_idx=df_NS.index\n",
    "    print(df_NS.shape)\n",
    "    df=df_NS\n",
    "    \n",
    "    \n",
    "if nth_mid_sth_fg=='All_Speeds':\n",
    "    df=df[(df.Direct_RT==0)]\n",
    "    \n",
    "print(nth_mid_sth_fg)\n",
    "df.shape"
   ]
  },
  {
   "cell_type": "code",
   "execution_count": 18,
   "metadata": {},
   "outputs": [
    {
     "data": {
      "text/plain": [
       "(10665, 71)"
      ]
     },
     "execution_count": 18,
     "metadata": {},
     "output_type": "execute_result"
    }
   ],
   "source": [
    "df1=df\n",
    "df1.shape"
   ]
  },
  {
   "cell_type": "code",
   "execution_count": 19,
   "metadata": {},
   "outputs": [
    {
     "name": "stdout",
     "output_type": "stream",
     "text": [
      "(10665, 71)\n"
     ]
    }
   ],
   "source": [
    "top_test_rts=[5, 66, 131, 280, 326, 444, 458, 464, 513, 602]  ##eff_score > df.eff_score.quantile(0.75)\n",
    "df1_eff_sort=pd.DataFrame([])\n",
    "\n",
    "df1_eff_sort1=df1[~df1['RT_id'].isin(top_test_rts)].sort_values(by=['eff_score'], ascending=[False])\n",
    "\n",
    "rt_id=df1_eff_sort1.RT_id.unique().tolist()\n",
    "for id in rt_id:\n",
    "    if id in top_test_rts:\n",
    "        df1_eff_sort=df1_eff_sort.append(df1[(df1.RT_id==id)])\n",
    "    else:\n",
    "##         rt_id=df1_eff_sort1.RT_id[0]\n",
    "        df1_eff_sort=df1_eff_sort.append(df1_eff_sort1[(df1_eff_sort1.RT_id==id)].sort_values(by=['time_xPorts'], ascending=[True]))\n",
    "\n",
    "df1_eff_sort=df1_eff_sort.append(df1[df1['RT_id'].isin(top_test_rts)])\n",
    "\n",
    "print(df1_eff_sort.shape)"
   ]
  },
  {
   "cell_type": "markdown",
   "metadata": {},
   "source": [
    "#### User-defined functions"
   ]
  },
  {
   "cell_type": "code",
   "execution_count": 20,
   "metadata": {},
   "outputs": [],
   "source": [
    "def discrete_cmap(N, base_cmap=None):\n",
    "    \"\"\"Create an N-bin discrete colormap from the specified input map\"\"\"\n",
    "\n",
    "    # Note that if base_cmap is a string or None, you can simply do\n",
    "    #    return plt.cm.get_cmap(base_cmap, N)\n",
    "    # The following works for string, None, or a colormap instance:\n",
    "\n",
    "    base = plt.cm.get_cmap(base_cmap)\n",
    "    color_list = base(np.linspace(0, 1, N))\n",
    "    cmap_name = base.name + str(N)\n",
    "    return base.from_list(cmap_name, color_list, N)\n",
    "\n",
    "# num=11\n",
    "\n",
    "def df_to_seq(df, wd_sz, inputs, outputs):\n",
    "    from keras.preprocessing.sequence import pad_sequences\n",
    "    maxlen = wd_sz\n",
    "    i_rt = df['RT_id'].unique()\n",
    "    df2 = df.to_numpy()\n",
    "\n",
    "    x = []\n",
    "    y = []\n",
    "\n",
    "    inps_index = [df.columns.get_loc(col) for col in inputs]\n",
    "    outs_index = [df.columns.get_loc(col) for col in outputs]\n",
    "\n",
    "    for k in i_rt:\n",
    "        df_rt = df2[df2[:, 0] == k, :]\n",
    "        rows = df_rt[:, inps_index]\n",
    "        labels = df_rt[:, outs_index]\n",
    "\n",
    "        x.append(rows)\n",
    "        y.append(labels)\n",
    "\n",
    "    X = pad_sequences(x, maxlen=maxlen, padding='post', dtype='float32')\n",
    "    Y = pad_sequences(y, maxlen=maxlen, padding='post', dtype='float32')\n",
    "\n",
    "    return X, Y\n",
    "\n",
    "\n",
    "def prep_data(X, Y, lag_test, wd_sz, inputs, outputs):\n",
    "    if inputs==['speedOverGround']:\n",
    "        X = X[:, 0:lag_test]\n",
    "        Y = Y[:, lag_test:wd_sz]\n",
    "        timesteps=lag_test\n",
    "        numFeatures = 1\n",
    "        exag_list=[]\n",
    "    else:                                    \n",
    "        out_idx=inputs.index(outputs[0])\n",
    "        exag_list=list(range(X.shape[-1]))\n",
    "#         exag_list.pop(out_idx)\n",
    "        X = X[:, :,exag_list]\n",
    "        Y = Y[:, lag_test:wd_sz]\n",
    "        timesteps=wd_sz\n",
    "        numFeatures = len(exag_list)\n",
    "    return X, Y, numFeatures, timesteps, exag_list\n",
    "\n",
    "\n",
    "def create_model(Numfeats, timesteps, neurons, layers, act_fn, optimizer, learn_rt, Y_train):\n",
    "    model = Sequential()\n",
    "    if act_fn=='relu':\n",
    "        model.add(LSTM(SampNo_lstm, input_shape=(timesteps, Numfeats),activation='relu', kernel_initializer='normal'))\n",
    "\n",
    "    if act_fn=='LeakyReLU':\n",
    "        model.add(LSTM(SampNo_lstm, input_shape=(timesteps, Numfeats),activation='LeakyReLU', kernel_initializer='normal'))\n",
    "    \n",
    "    for i in range(lyr_no):\n",
    "        model.add(Dense(units=neo,  kernel_initializer='normal'))\n",
    "        \n",
    "    model.add(Dense(Y_train.shape[1], kernel_initializer='normal'))\n",
    "    \n",
    "    if optimizer=='Adam':\n",
    "        model.compile(loss=MeanSquaredError(), optimizer=Adam(learning_rate=learn_rt), metrics=[r2_keras])\n",
    "    if optimizer=='SGD':\n",
    "        model.compile(loss=MeanSquaredError(), optimizer=SGD(learning_rate=learn_rt), metrics=[r2_keras])\n",
    "    if optimizer=='RMSprop':\n",
    "        model.compile(loss=MeanSquaredError(), optimizer=RMSprop(learning_rate=learn_rt), metrics=[r2_keras])\n",
    "    return model\n",
    "\n",
    "def metrics_eval(Y_act, Y_pred):\n",
    "    mse_1 = mean_squared_error(Y_act, Y_pred, squared=True)\n",
    "    rmse_1 = mean_squared_error(Y_act, Y_pred, squared=False)\n",
    "    R2_1=r2_score(Y_act, Y_pred)\n",
    "    mae=mean_absolute_error(Y_act, Y_pred,)\n",
    "    rmse_n1=rmse_1/Y_act.max()\n",
    "    rmse_n1\n",
    "\n",
    "    print(' MSE: {:.6f}'.format(mse_1))\n",
    "    print(' RMSE: {:.6f}'.format(rmse_1))\n",
    "    print('Normalized RMSE: {:.6f}'.format(rmse_n1))\n",
    "    print('R2: {:.6f}'.format(R2_1))\n",
    "    print('MAE: {:.6f}'.format(mae))\n",
    "\n",
    "    return mse_1, rmse_1, R2_1, mae, rmse_n1\n",
    "\n",
    "# Define r2_keras as an accuracy metrics\n",
    "def r2_keras(y_true, y_pred):\n",
    "\n",
    "    ss_res = k.sum(k.square(y_true - y_pred))\n",
    "    ss_tot = k.sum(k.square(y_true - k.mean(y_true)))\n",
    "    return 1-ss_res/(ss_tot + k.epsilon())\n",
    "\n",
    "# Define rmse as a loss function\n",
    "def rmse(y_true, y_pred):\n",
    "\n",
    "    return k.sqrt(k.mean(k.square(y_true - y_pred)))# Create the model\n",
    "\n",
    "def DTW(x, y):\n",
    "    from sklearn.metrics.pairwise import euclidean_distances\n",
    "    # Calculate the Euclidean distance\n",
    "    dist = euclidean_distances(x, y)\n",
    "    # Initialize the DTW matrix\n",
    "    DTW = np.zeros((len(x), len(y)))\n",
    "    DTW[:, 0] = np.inf\n",
    "    DTW[0, :] = np.inf\n",
    "    DTW[0,0] = 0\n",
    "    # Calculate DTW matrix\n",
    "    for i in range(1, len(x)):\n",
    "        for j in range(1, len(y)):\n",
    "            cost = dist[i, j]\n",
    "            DTW[i, j] = cost + min(DTW[i-1, j], DTW[i, j-1], DTW[i-1, j-1])\n",
    "    # Return the DTW matrix\n",
    "    return DTW[-1][-1]"
   ]
  },
  {
   "cell_type": "code",
   "execution_count": 21,
   "metadata": {},
   "outputs": [],
   "source": [
    "# st=stop"
   ]
  },
  {
   "cell_type": "markdown",
   "metadata": {},
   "source": [
    "#### Visualization of the Eff-Scores for the vessel's trips in terms of fuel and time domains"
   ]
  },
  {
   "cell_type": "code",
   "execution_count": 22,
   "metadata": {},
   "outputs": [
    {
     "data": {
      "image/png": "[encoded data removed]",
      "text/plain": [
       "<Figure size 1296x576 with 2 Axes>"
      ]
     },
     "metadata": {
      "needs_background": "light"
     },
     "output_type": "display_data"
    }
   ],
   "source": [
    "import matplotlib.ticker as ticker\n",
    "\n",
    "num=11\n",
    "\n",
    "fig = plt.figure(figsize=(18,8))\n",
    "\n",
    "im=plt.scatter(x=df1.time_total, y=df1.fuel_total, c=df1.Eff_new,  cmap=discrete_cmap(num, 'jet'), s=25, label='Eff-Score')\n",
    "cb=plt.colorbar(im)\n",
    "cb.set_label(\"Eff-Score\", labelpad=3, fontsize=18)\n",
    "\n",
    "plt.ylabel('Fuel (L)', fontsize=18, labelpad=10)\n",
    "plt.xlabel('Time (Min)', fontsize=18, labelpad=10)\n",
    "plt.yticks(fontsize=16);\n",
    "plt.xticks(fontsize=16, rotation = 0);\n",
    "plt.title('Fuel vs. Time. (with Eff-Score)',fontsize=18)\n",
    "# plt.legend(loc='upper left', fontsize=14)\n",
    "plt.grid()\n",
    "\n",
    "\n",
    "plt.tight_layout()\n",
    "# plt.savefig(Output_folder+'/Plot_New_Effscore_fltm_'+'_gr_ock_'+str(gr_ock_fg)+'_NmidS_'+str(nth_mid_sth_fg)+'.png', dpi=300)\n",
    "\n",
    "plt.show();"
   ]
  },
  {
   "cell_type": "code",
   "execution_count": 23,
   "metadata": {},
   "outputs": [],
   "source": [
    "# st=stop"
   ]
  },
  {
   "cell_type": "markdown",
   "metadata": {},
   "source": [
    "### Combinations of variety of options"
   ]
  },
  {
   "cell_type": "code",
   "execution_count": 24,
   "metadata": {},
   "outputs": [],
   "source": [
    "Res_eff_sog_stats=pd.DataFrame([])\n",
    "dfst_iter=[]; dfst_var_inputs=[]; dfst_inps=[]; dfst_Reginps=[]; dfst_Stand_norm=[]; \n",
    "dfst_Stand_norm=[]; \n",
    "dfst_inps_list=[]; dfst_outs_list=[];\n",
    "\n",
    "dfst_Lyrs=[]; dfst_Neo=[]; dfst_epcs=[]; dfst_learn_rt=[]\n",
    "dfst_gr_ok_dt_fg=[]; dfst_Eff_limit_fg=[]; dfst_lag_test=[]; dfst_hrz=[]\n",
    "\n",
    "dfst_sog_meas_avg=[]; dfst_sog_pred_avg=[]; \n",
    "dfst_eff_meas_avg=[];dfst_eff_pred_avg=[];dfst_eff_pred_meas_avg=[];\n",
    "\n",
    "dfst_MSE_sog=[];dfst_RMSE_sog=[];dfst_R2_sog=[];dfst_MAE_sog=[];\n",
    "dfst_MSE_eff_pred=[];dfst_RMSE_eff_pred=[];dfst_R2_eff_pred=[];dfst_MAE_eff_pred=[];\n",
    "dfst_MSE_eff_meas=[];dfst_RMSE_eff_meas=[];dfst_R2_eff_meas=[];dfst_MAE_eff_meas=[];\n",
    "                                \n",
    "dfst_improv_meas=[]; dfst_improv_pred_meas=[];\n",
    "\n",
    "kk=0"
   ]
  },
  {
   "cell_type": "code",
   "execution_count": 25,
   "metadata": {
    "scrolled": true
   },
   "outputs": [
    {
     "name": "stdout",
     "output_type": "stream",
     "text": [
      "(848, 27, 12)\n",
      "(848, 26, 1)\n",
      "162\n",
      "\n",
      " Metrics for SOG predictions, the accuracy here is not a priority!\n",
      " MSE: 0.305117\n",
      " RMSE: 0.552374\n",
      "Normalized RMSE: 0.092770\n",
      "R2: 0.923467\n",
      "MAE: 0.283144\n",
      "8.830318e-09\n",
      "1.0\n",
      "-0.02422914\n",
      "0.9541964\n",
      "Epoch 1/50\n",
      "21/21 [==============================] - 3s 53ms/step - loss: 0.3159 - r2_keras: -1044.5580 - val_loss: 0.0032 - val_r2_keras: -37274.0547\n",
      "Epoch 2/50\n",
      "21/21 [==============================] - 1s 27ms/step - loss: 0.0064 - r2_keras: -23.8582 - val_loss: 0.0392 - val_r2_keras: -473209.0625\n",
      "Epoch 3/50\n",
      "21/21 [==============================] - 1s 32ms/step - loss: 0.0024 - r2_keras: -4.1283 - val_loss: 0.0391 - val_r2_keras: -472753.4375\n",
      "Epoch 4/50\n",
      "21/21 [==============================] - 1s 30ms/step - loss: 0.0020 - r2_keras: -2.8005 - val_loss: 0.0284 - val_r2_keras: -344231.6250\n",
      "Epoch 5/50\n",
      "21/21 [==============================] - 1s 29ms/step - loss: 0.0016 - r2_keras: -2.1086 - val_loss: 0.0151 - val_r2_keras: -184362.9062\n",
      "Epoch 6/50\n",
      "21/21 [==============================] - 1s 39ms/step - loss: 0.0018 - r2_keras: -7.7293 - val_loss: 0.0327 - val_r2_keras: -395956.9375\n",
      "Epoch 7/50\n",
      "21/21 [==============================] - 1s 35ms/step - loss: 0.0022 - r2_keras: -4.4148 - val_loss: 0.0139 - val_r2_keras: -169926.4688\n",
      "Epoch 8/50\n",
      "21/21 [==============================] - 1s 36ms/step - loss: 0.0021 - r2_keras: -4.3040 - val_loss: 0.0258 - val_r2_keras: -312691.2812\n",
      "Epoch 9/50\n",
      "21/21 [==============================] - 1s 34ms/step - loss: 0.0019 - r2_keras: -12.7677 - val_loss: 0.0302 - val_r2_keras: -365470.4688\n",
      "Epoch 10/50\n",
      "21/21 [==============================] - 1s 34ms/step - loss: 0.0023 - r2_keras: -3.5982 - val_loss: 0.0126 - val_r2_keras: -153373.6875\n",
      "Epoch 11/50\n",
      "21/21 [==============================] - 1s 33ms/step - loss: 0.0030 - r2_keras: -5.2589 - val_loss: 0.0143 - val_r2_keras: -174753.2344\n",
      "Epoch 12/50\n",
      "21/21 [==============================] - 1s 32ms/step - loss: 0.0025 - r2_keras: -3.4639 - val_loss: 0.0285 - val_r2_keras: -345951.8125\n",
      "Epoch 13/50\n",
      "21/21 [==============================] - 1s 32ms/step - loss: 0.0014 - r2_keras: -2.7272 - val_loss: 0.0208 - val_r2_keras: -252435.5781\n",
      "Epoch 14/50\n",
      "21/21 [==============================] - 1s 33ms/step - loss: 0.0014 - r2_keras: -1235.4362 - val_loss: 0.0325 - val_r2_keras: -392439.5938\n",
      "Epoch 15/50\n",
      "21/21 [==============================] - 1s 29ms/step - loss: 0.0017 - r2_keras: -2.3031 - val_loss: 0.0205 - val_r2_keras: -249613.0000\n",
      "Epoch 16/50\n",
      "21/21 [==============================] - 1s 34ms/step - loss: 0.0019 - r2_keras: -3.3322 - val_loss: 0.0220 - val_r2_keras: -266699.1250\n",
      "Epoch 17/50\n",
      "21/21 [==============================] - 1s 29ms/step - loss: 0.0015 - r2_keras: -3.4110 - val_loss: 0.0167 - val_r2_keras: -203960.2031\n",
      "Epoch 18/50\n",
      "21/21 [==============================] - 1s 27ms/step - loss: 0.0019 - r2_keras: -3.7245 - val_loss: 0.0281 - val_r2_keras: -340888.9062\n",
      "Epoch 19/50\n",
      "21/21 [==============================] - 1s 26ms/step - loss: 0.0015 - r2_keras: -3.0992 - val_loss: 0.0299 - val_r2_keras: -361170.1250\n",
      "Epoch 20/50\n",
      "21/21 [==============================] - 1s 28ms/step - loss: 0.0030 - r2_keras: -5.0727 - val_loss: 0.0358 - val_r2_keras: -432460.3125\n",
      "Epoch 21/50\n",
      "21/21 [==============================] - 1s 25ms/step - loss: 0.0017 - r2_keras: -2.6403 - val_loss: 0.0177 - val_r2_keras: -215475.1875\n",
      "Epoch 22/50\n",
      "21/21 [==============================] - 1s 28ms/step - loss: 0.0015 - r2_keras: -10.1729 - val_loss: 0.0253 - val_r2_keras: -306769.5000\n",
      "Epoch 23/50\n",
      "21/21 [==============================] - 1s 34ms/step - loss: 0.0013 - r2_keras: -0.6189 - val_loss: 0.0293 - val_r2_keras: -355236.7188\n",
      "Epoch 24/50\n",
      "21/21 [==============================] - 1s 31ms/step - loss: 0.0019 - r2_keras: -2.4209 - val_loss: 0.0217 - val_r2_keras: -262974.7500\n",
      "Epoch 25/50\n",
      "21/21 [==============================] - 1s 34ms/step - loss: 0.0015 - r2_keras: -2.1964 - val_loss: 0.0204 - val_r2_keras: -247776.4844\n",
      "Epoch 26/50\n",
      "21/21 [==============================] - 1s 39ms/step - loss: 0.0012 - r2_keras: -0.6817 - val_loss: 0.0175 - val_r2_keras: -212092.0625\n",
      "Epoch 27/50\n",
      "21/21 [==============================] - 1s 34ms/step - loss: 0.0014 - r2_keras: -55.0854 - val_loss: 0.0244 - val_r2_keras: -295348.4062\n",
      "Epoch 28/50\n",
      "21/21 [==============================] - 1s 32ms/step - loss: 0.0012 - r2_keras: -0.6917 - val_loss: 0.0201 - val_r2_keras: -243878.1250\n",
      "Epoch 29/50\n",
      "21/21 [==============================] - 1s 33ms/step - loss: 0.0012 - r2_keras: -1.7048 - val_loss: 0.0201 - val_r2_keras: -238956.7656\n",
      "Epoch 30/50\n",
      "21/21 [==============================] - 1s 31ms/step - loss: 0.0016 - r2_keras: -4.2270 - val_loss: 0.0208 - val_r2_keras: -252331.7031\n",
      "Epoch 31/50\n",
      "21/21 [==============================] - 1s 31ms/step - loss: 0.0013 - r2_keras: -1.3450 - val_loss: 0.0225 - val_r2_keras: -271977.0625\n",
      "Epoch 32/50\n",
      "21/21 [==============================] - 1s 33ms/step - loss: 0.0012 - r2_keras: -1.1374 - val_loss: 0.0210 - val_r2_keras: -254921.4844\n",
      "Epoch 33/50\n",
      "21/21 [==============================] - 1s 28ms/step - loss: 0.0012 - r2_keras: -1.4266 - val_loss: 0.0185 - val_r2_keras: -222536.2344\n",
      "Epoch 34/50\n",
      "21/21 [==============================] - 1s 34ms/step - loss: 0.0011 - r2_keras: -19.6046 - val_loss: 0.0256 - val_r2_keras: -308627.4062\n",
      "Epoch 35/50\n",
      "21/21 [==============================] - 1s 31ms/step - loss: 0.0012 - r2_keras: -1.5311 - val_loss: 0.0247 - val_r2_keras: -298211.9062\n",
      "Epoch 36/50\n",
      "21/21 [==============================] - 1s 30ms/step - loss: 0.0014 - r2_keras: -5.1154 - val_loss: 0.0190 - val_r2_keras: -231552.9219\n",
      "Epoch 37/50\n",
      "21/21 [==============================] - 1s 32ms/step - loss: 0.0014 - r2_keras: -0.7003 - val_loss: 0.0167 - val_r2_keras: -203698.0625\n",
      "Epoch 38/50\n",
      "21/21 [==============================] - 1s 32ms/step - loss: 0.0014 - r2_keras: -6.8507 - val_loss: 0.0166 - val_r2_keras: -201337.1719\n",
      "Epoch 39/50\n",
      "21/21 [==============================] - 1s 33ms/step - loss: 0.0013 - r2_keras: -3.8086 - val_loss: 0.0261 - val_r2_keras: -315312.4062\n",
      "Epoch 40/50\n",
      "21/21 [==============================] - 1s 32ms/step - loss: 0.0011 - r2_keras: -2.2830 - val_loss: 0.0189 - val_r2_keras: -229316.6875\n",
      "Epoch 41/50\n",
      "21/21 [==============================] - 1s 32ms/step - loss: 0.0016 - r2_keras: -2.1075 - val_loss: 0.0245 - val_r2_keras: -296439.9062\n",
      "Epoch 42/50\n",
      "21/21 [==============================] - 1s 31ms/step - loss: 0.0013 - r2_keras: -3.1538 - val_loss: 0.0181 - val_r2_keras: -219407.7969\n",
      "Epoch 43/50\n",
      "21/21 [==============================] - 1s 36ms/step - loss: 0.0015 - r2_keras: -1.3939 - val_loss: 0.0166 - val_r2_keras: -202633.0156\n",
      "Epoch 44/50\n",
      "21/21 [==============================] - 1s 37ms/step - loss: 0.0015 - r2_keras: -2.0564 - val_loss: 0.0205 - val_r2_keras: -248758.0938\n",
      "Epoch 45/50\n",
      "21/21 [==============================] - 1s 44ms/step - loss: 0.0018 - r2_keras: -3.0784 - val_loss: 0.0233 - val_r2_keras: -282908.3438\n",
      "Epoch 46/50\n",
      "21/21 [==============================] - 1s 39ms/step - loss: 0.0013 - r2_keras: -0.6709 - val_loss: 0.0193 - val_r2_keras: -234825.9844\n",
      "Epoch 47/50\n",
      "21/21 [==============================] - 1s 38ms/step - loss: 0.0014 - r2_keras: -1.4884 - val_loss: 0.0197 - val_r2_keras: -238605.4844\n",
      "Epoch 48/50\n",
      "21/21 [==============================] - 1s 39ms/step - loss: 0.0012 - r2_keras: -2.4032 - val_loss: 0.0261 - val_r2_keras: -316887.8125\n",
      "Epoch 49/50\n",
      "21/21 [==============================] - 1s 34ms/step - loss: 0.0011 - r2_keras: -1.0098 - val_loss: 0.0189 - val_r2_keras: -230245.3438\n",
      "Epoch 50/50\n",
      "21/21 [==============================] - 1s 34ms/step - loss: 0.0010 - r2_keras: -0.6822 - val_loss: 0.0174 - val_r2_keras: -211682.0312\n",
      "\n",
      " Metrics for Eff-score predictions using predicted SOG\n",
      " MSE: 0.063067\n",
      " RMSE: 0.251131\n",
      "Normalized RMSE: 0.417067\n",
      "R2: -20.101833\n",
      "MAE: 0.245172\n",
      "\n",
      " Metrics for Eff-score predictions using measured values\n",
      " MSE: 0.062951\n",
      " RMSE: 0.250901\n",
      "Normalized RMSE: 0.416684\n",
      "R2: -20.063139\n",
      "MAE: 0.244957\n",
      "Time taken: 37.85803008079529 seconds\n"
     ]
    }
   ],
   "source": [
    "import time\n",
    "start_time = time.time()  ## to measure the timelapse \n",
    "\n",
    "for Eff_limit_fg in Eff_limit_combs:\n",
    "    for var_inputs in var_inputs_combs:\n",
    "        for lag_test in lag_test_combs:\n",
    "            for lyr_no in lyr_combs:\n",
    "                for neo in neo_combs:\n",
    "                    for epcs in epcs_combs:\n",
    "                        \n",
    "                        import tensorflow as tf\n",
    "                        tf.random.set_seed(42)\n",
    "                        from numpy.random import seed\n",
    "                        seed(0)\n",
    "\n",
    "                        ##########################################################################################################\n",
    "                        outputs=['speedOverGround']\n",
    "\n",
    "                        if var_inputs==0:\n",
    "                            inputs=['speedOverGround']\n",
    "\n",
    "                        if var_inputs==1:\n",
    "                            inputs=['speedOverGround', 'latitude', 'longitude','headingMagnetic']\n",
    "\n",
    "                        if var_inputs==2:\n",
    "                            inputs=['speedOverGround', 'windSpeed_onboard', 'windDirection_onboard','wind_head_diff']\n",
    "\n",
    "                        if var_inputs==3:\n",
    "                            inputs=['speedOverGround', 'latitude', 'longitude','headingMagnetic', 'windSpeed_onboard', 'windDirection_onboard',\n",
    "                               'wind_head_diff']\n",
    "\n",
    "                        if var_inputs==4:\n",
    "                            inputs=['speedOverGround', 'latitude', 'longitude', 'headingMagnetic', 'windSpeed_onboard', 'windDirection_onboard', \n",
    "                               'wind_course_diff', 'windSpeed_cds','windDirection_cds','windSpeed_sg', 'windDirection_sg',\n",
    "                               'waveheight','wavedirect', 'currentSpeed', 'currentDirection'] \n",
    "\n",
    "                        if var_inputs==5: \n",
    "                            inputs=['speedOverGround', 'courseOverGroundTrue','distanceFromDock', 'accumDistLeg', 'accumTimeLeg',\n",
    "                               'distanceToNextDock', 'speedApparent', 'pitch', 'wind_course_diff', 'roll', 'latitude', 'longitude', \n",
    "                               'windSpeed_onboard','windDirection_onboard', 'currentSpeed','currentDirection', 'windSpeed_sg','windDirection_sg',\n",
    "                               'windSpeed_cds','windDirection_cds', 'waveheight','wavedirect']\n",
    "                            \n",
    "                        if var_inputs==6:\n",
    "                            inputs=['speedOverGround', 'courseOverGroundTrue',\n",
    "                                'distanceFromDock', 'accumDistLeg','distanceToNextDock',\n",
    "                                'latitude', 'longitude', \n",
    "                                'windSpeed_onboard', 'windDirection_onboard', 'currentSpeed','currentDirection', 'windSpeed_sg','windDirection_sg',\n",
    "                                 'windSpeed_cds','windDirection_cds', 'waveheight','wavedirect']\n",
    "            \n",
    "                        if var_inputs==7:\n",
    "                            inputs=['speedOverGround', 'courseOverGroundTrue',\n",
    "                                'latitude', 'longitude', 'waveheight', 'wavedirect']\n",
    "\n",
    "                        if var_inputs==8:\n",
    "                            inputs=['speedOverGround', 'courseOverGroundTrue',\n",
    "                                    'distanceFromDock', 'accumDistLeg','distanceToNextDock',\n",
    "                                    'latitude', 'longitude', 'waveheight', 'wavedirect']\n",
    "                            \n",
    "                        if var_inputs==9:\n",
    "                            inputs=['speedOverGround', 'courseOverGroundTrue',\n",
    "                                    'latitude', 'longitude', 'wavedirect']\n",
    "\n",
    "                        if var_inputs==10:\n",
    "                            inputs=['speedOverGround', 'courseOverGroundTrue',\n",
    "                                    'currentSpeed','currentDirection', 'windSpeed_sg','windDirection_sg',\n",
    "                                    'windSpeed_cds','windDirection_cds', 'waveheight','wavedirect']\n",
    "                            \n",
    "                        if var_inputs==11:\n",
    "                            inputs=['speedOverGround', 'courseOverGroundTrue',\n",
    "                                     'wavedirect']            \n",
    "                            \n",
    "                        if var_inputs==12:\n",
    "                            inputs=['speedOverGround', 'courseOverGroundTrue',\n",
    "                                'windSpeed_onboard', 'windDirection_onboard', 'currentSpeed','currentDirection', 'windSpeed_sg','windDirection_sg',\n",
    "                                 'windSpeed_cds','windDirection_cds', 'waveheight','wavedirect']\n",
    "\n",
    "                        var_inputs_index = var_inputs\n",
    "\n",
    "#                        file_nm_ext='_Efflm'+str(Eff_limit_fg)+'_inp_'+str(var_inputs)+'_lag_'+str(lag_test)+'_lyr_'+str(lyr_no)+'_Neo_'+str(neo)+'_epc_'+str(epcs)\n",
    "                        file_nm_ext='_Efflm'+str(Eff_limit_fg)\n",
    "############################################################################################################################  \n",
    "                        if Eff_limit_fg==1:\n",
    "                            X, Y=df_to_seq(df1, wd_sz, inputs, outputs)\n",
    "                            X_orig, Y_orig=X, Y\n",
    "                            rt_id=df1.RT_id.unique()\n",
    "\n",
    "                            ##### Preparing data for multiple-steps  forcasting with multiple-step lags\n",
    "                            X, Y, numFeatures, timesteps, exag_list=prep_data(X, Y, lag_test, wd_sz, inputs, outputs)\n",
    "\n",
    "                        if Eff_limit_fg!=1:\n",
    "\n",
    "                            if Eff_limit_fg=='Top10':\n",
    "                                Qlim=df['eff_score'].quantile(0.90)\n",
    "                            if Eff_limit_fg=='Top25':\n",
    "                                Qlim=df['eff_score'].quantile(0.75)\n",
    "                            if Eff_limit_fg=='Top50':\n",
    "                                Qlim=df['eff_score'].quantile(0.50)\n",
    "                            if Eff_limit_fg=='Top75':\n",
    "                                Qlim=df['eff_score'].quantile(0.25)\n",
    "\n",
    "                            X, Y=df_to_seq(df1_eff_sort, wd_sz, inputs, outputs)\n",
    "                            X_orig, Y_orig=X, Y\n",
    "                            rt_id=df1_eff_sort.RT_id.unique()\n",
    "\n",
    "                            if top_test_fg==0:\n",
    "                                df1_eff_top=df1_eff_sort[df1_eff_sort.eff_score>=Qlim]\n",
    "                            if top_test_fg==1:\n",
    "                                df1_eff_top=df1_eff_sort[(df1_eff_sort.eff_score>=Qlim) & (~df1_eff_sort.RT_id.isin(top_test_rts))]\n",
    "\n",
    "                            top2bot=len(df1_eff_top)/len(df1)\n",
    "                            train_pt=top2bot\n",
    "                            X, Y, numFeatures, timesteps, exag_list=prep_data(X, Y, lag_test, wd_sz, inputs, outputs)\n",
    "\n",
    "                        print(X.shape)\n",
    "                        print(Y.shape)\n",
    "\n",
    "                        scaler = StandardScaler()\n",
    "                        X_scaled = scaler.fit_transform(X.reshape(-1, X.shape[-1]))\n",
    "                        Y_scaled = scaler.fit_transform(Y.reshape(-1, Y.shape[-1]))\n",
    "                        X=X_scaled.reshape(X.shape)\n",
    "                        Y=Y_scaled.reshape(Y.shape)\n",
    "\n",
    "                        X_train,X_valid,X_test = np.split(X,[int(train_pt*len(X)),int(test_pt*len(X))])\n",
    "                        Y_train,Y_valid,Y_test = np.split(Y,[int(train_pt*len(Y)),int(test_pt*len(Y))])\n",
    "                        rt_id_train,rt_id_valid,rt_id_test = np.split(rt_id,[int(train_pt*len(rt_id)),int(test_pt*len(rt_id))])\n",
    "\n",
    "                        #############################\n",
    "                        scaler = StandardScaler()\n",
    "                        X_orig_scaled = scaler.fit_transform(X_orig.reshape(-1, X_orig.shape[-1]))\n",
    "                        X_orig_scaled = X_orig_scaled.reshape(X_orig.shape)\n",
    "                        Y_orig_scaled = scaler.fit_transform(Y_orig.reshape(-1, Y_orig.shape[-1]))\n",
    "                        Y_orig_scaled = Y_orig_scaled.reshape(Y_orig.shape)\n",
    "\n",
    "                        X_orig_sc_train,X_orig_sc_valid,X_orig_sc_test = np.split(X_orig_scaled,[int(train_pt*len(X_orig_scaled)),int(test_pt*len(X_orig_scaled))])\n",
    "                        X_orig_train,X_orig_valid,X_orig_test = np.split(X_orig,[int(train_pt*len(X_orig)),int(test_pt*len(X_orig))])\n",
    "\n",
    "                        Y_orig_sc_train,Y_orig_sc_valid,Y_orig_sc_test = np.split(Y_orig_scaled,[int(train_pt*len(Y_orig_scaled)),int(test_pt*len(Y_orig_scaled))])\n",
    "                        Y_orig_train,Y_orig_valid,Y_orig_test = np.split(Y_orig,[int(train_pt*len(Y_orig)),int(test_pt*len(Y_orig))])\n",
    "\n",
    "#                         st=stop\n",
    "\n",
    "# ########################################################################################################################\n",
    "###################################################################################################################################\n",
    "\n",
    "                        # Use KNN to calculate similarity for test dataset using the nearest neighbors\n",
    "\n",
    "                        from sklearn.neighbors import NearestNeighbors\n",
    "\n",
    "                        # Extract weather data from the array\n",
    "\n",
    "                        if KNN_norm == 0:\n",
    "                            W_test = X_orig_test\n",
    "                            W_train = X_orig_train\n",
    "\n",
    "                        if KNN_norm == 1:\n",
    "                            W_test = X_orig_sc_test\n",
    "                            W_train = X_orig_sc_train\n",
    "\n",
    "                        weather_data_train = W_train[:, :26, 2:]\n",
    "                        weather_data_test = W_test[:, :26, 2:]\n",
    "\n",
    "                        # Number of neighbors to consider (you can adjust this as needed)\n",
    "                        n_neighbors = 1  # Set the desired number of neighbors\n",
    "\n",
    "                        # Reshape weather data to 2D arrays\n",
    "                        weather_data_train_2d = weather_data_train.reshape(weather_data_train.shape[0], -1)\n",
    "                        weather_data_test_2d = weather_data_test.reshape(weather_data_test.shape[0], -1)\n",
    "\n",
    "                        # Create a KNN model\n",
    "                        knn = NearestNeighbors(n_neighbors=n_neighbors, metric='euclidean')  # You can choose a different metric if needed\n",
    "\n",
    "                        # Fit the KNN model on observed weather data\n",
    "                        knn.fit(weather_data_train_2d)\n",
    "\n",
    "                        Simi_dict = {}\n",
    "\n",
    "                        for i in range(W_test.shape[0]):\n",
    "                            weathers_test = W_test[i, :26, 2:]\n",
    "                            weathers_test_2d = weathers_test.reshape(1, -1)\n",
    "\n",
    "                            # Find the nearest neighbors and their distances\n",
    "                            distances, indices = knn.kneighbors(weathers_test_2d)\n",
    "\n",
    "                            # The nearest neighbor's index is stored in indices[0, 0]\n",
    "                            min_index = indices[0, 0]\n",
    "                            Simi_dict[i] = min_index\n",
    "\n",
    "                        # Create a list sim_rts_test with the indices of nearest neighbors\n",
    "                        sim_rts_test = list(Simi_dict.values())\n",
    "                        print(len(sim_rts_test))\n",
    "                        \n",
    "#                         st=stop\n",
    "##########################################################################################################################\n",
    "####Arrangement of the Predicted Profiles of SOG from the Similarity Algo. (DTW) above #####\n",
    "                        \n",
    "                        Ypred1=[]\n",
    "                        y_pred1=Y_orig_sc_train[sim_rts_test,Hrz_test:, 0]\n",
    "\n",
    "                        Ypred1=np.concatenate((Y_orig_sc_test[:,:lag_test,0], y_pred1), axis=1)\n",
    "                        Ytest1=np.concatenate((Y_orig_sc_test[:,:lag_test,0], Y_test[:, :, 0]), axis=1)\n",
    "\n",
    "                        YPred1 = scaler.inverse_transform(Ypred1.reshape(-1, Ypred1.shape[-1]))\n",
    "                        YPred1=YPred1.reshape(Ypred1.shape)\n",
    "                        YTest1 = Y_orig_test\n",
    "                        \n",
    "                        # Set Ypred max values to Ytest max if greater\n",
    "                        if YPred1.max() > YTest1.max():\n",
    "                            YPred1[YPred1 > YTest1.max()] = YTest1.max()\n",
    "\n",
    "                        # Set Ypred min values to Ytest min if smaller\n",
    "                        if YPred1.min() < YTest1.min():\n",
    "                            YPred1[YPred1 < YTest1.min()] = YTest1.min()\n",
    "\n",
    "                        Ypred_sog_avg1=YPred1.mean(axis=1)  ## average speed (predicted)\n",
    "                        Ypred_sog_avg1\n",
    "\n",
    "                        Ytest_sog_avg1=YTest1.reshape(Ytest1.shape).mean(axis=1)  ## average speed (measured)\n",
    "                        Ytest_sog_avg1\n",
    "                        \n",
    "                        Y_pred=YPred1.reshape(-1,1)\n",
    "                        Y_act=YTest1.reshape(-1,1)\n",
    "\n",
    "                        Y_pred[np.isnan(Y_pred)] = 0\n",
    "\n",
    "                        ### Metrics for the predictions for all sequences\n",
    "                        print('\\n Metrics for SOG predictions, the accuracy here is not a priority!')\n",
    "                        mse_sog, rmse_sog, R2_sog, mae_sog, rmse_n_sog=metrics_eval(Y_act, Y_pred)\n",
    "\n",
    "                        hrz=wd_sz-lag_test\n",
    "                        Res_sog_avg_stats1=pd.DataFrame({'Gr_Ock_idx':gr_ok_dt_fg,\n",
    "                            'Top_Samps_idx':Eff_limit_fg,'Time_Steps_Lag':lag_test,'Time_Steps_Ahead':hrz,\n",
    "                                                        'Inputs_index': var_inputs,'No_inputs':len(inputs),'inputs':[inputs], 'outputs':[outputs], \n",
    "                                                    'No#_layers':lyr_no,'No# neurons':neo, 'epochs':epcs,'Learn Rate':learn_rt,\n",
    "                                                    'MSE_sog':round(mse_sog,4), 'RMSE_sog':round(rmse_sog,4), 'R2_sog':round(R2_sog,4), 'MAE_sog':round(mae_sog,4)})\n",
    "\n",
    "                        Res_sog_avg_stats1.index=['Avg_Stats']\n",
    "                        SOG_avg_stats1=Res_sog_avg_stats1\n",
    "\n",
    "\n",
    "                        scaler = StandardScaler()\n",
    "                        y_pred_scaled = scaler.fit_transform(Ypred1.reshape(-1, Y_orig.shape[-1]))\n",
    "                        y_pred_scaled = y_pred_scaled.reshape(Ypred1.shape)\n",
    "\n",
    "                        print(y_pred_scaled.mean())  ###data scaled mean should be 0\n",
    "                        print(y_pred_scaled.std())  ###data scaled std should be 1\n",
    "\n",
    "                        Ypred_sog_sqs1=np.concatenate((X_test[:,:lag_test,0], y_pred1), axis=1) \n",
    "\n",
    "                        print(Ypred_sog_sqs1.mean())  ### Mean is not 0, because SOG_pred congated with SOG_meas\n",
    "                        print(Ypred_sog_sqs1.std())  ###Std is not 1, because SOG_pred congated with SOG_meas\n",
    "\n",
    "#                         st=stop\n",
    "########################################################################################################################\n",
    "                        #### Eff-Score Prediction from Predicted SOG ###\n",
    "\n",
    "                        out_sw='Eff_Score'\n",
    "\n",
    "                        if Reg_Mod_inps==0:\n",
    "                            inputs=['speedOverGround']\n",
    "                        if Reg_Mod_inps==1:\n",
    "                            inputs=['speedOverGround', 'windSpeedOverGround', 'windDirectionTrue', 'wind_head_diff']\n",
    "                        if Reg_Mod_inps==2:\n",
    "                            inputs=['speedOverGround', 'headingMagnetic', 'latitude', 'longitude']\n",
    "                        if Reg_Mod_inps==3:\n",
    "                            inputs=['speedOverGround', 'headingMagnetic', 'latitude', 'longitude',\n",
    "                                   'windSpeedOverGround', 'windDirectionTrue', 'wind_head_diff']\n",
    "\n",
    "                        if Reg_Mod_inps==5: \n",
    "                            inputs=['speedOverGround', 'courseOverGroundTrue','distanceFromDock', 'accumDistLeg', 'accumTimeLeg',\n",
    "                               'distanceToNextDock', 'speedApparent', 'pitch', 'wind_course_diff', 'roll', 'latitude', 'longitude', \n",
    "                               'windSpeed_onboard','windDirection_onboard', 'currentSpeed','currentDirection', 'windSpeed_sg','windDirection_sg',\n",
    "                               'windSpeed_cds','windDirection_cds', 'waveheight', 'wavedirect']                                       \n",
    "\n",
    "\n",
    "                        if out_sw=='SOG':\n",
    "                            outputs=['speedOverGround']\n",
    "\n",
    "                        if out_sw=='Eff_Score':\n",
    "                            outputs=['eff_score']\n",
    "\n",
    "                        if Eff_limit_fg==1:\n",
    "                            X2, Y2=df_to_seq(df1, wd_sz, inputs, outputs)\n",
    "                            X_orig2, Y_orig2=X2, Y2\n",
    "\n",
    "                        if Eff_limit_fg!=1:\n",
    "\n",
    "                            if Eff_limit_fg=='Top10':\n",
    "                                Qlim=df['eff_score'].quantile(0.90)\n",
    "                            if Eff_limit_fg=='Top25':\n",
    "                                Qlim=df['eff_score'].quantile(0.75)\n",
    "                            if Eff_limit_fg=='Top50':\n",
    "                                Qlim=df['eff_score'].quantile(0.50)\n",
    "                            if Eff_limit_fg=='Top75':\n",
    "                                Qlim=df['eff_score'].quantile(0.25)\n",
    "\n",
    "                            X2, Y2=df_to_seq(df1_eff_sort, wd_sz, inputs, outputs)\n",
    "\n",
    "                        if var_inputs==0:\n",
    "                            numFeatures = 1\n",
    "                        if var_inputs!=0:\n",
    "                            numFeatures = len(inputs)\n",
    "\n",
    "                        Y2=Y2[:,0,0]  ### one value for Eff_score, the first because the last value padded\n",
    "                        Y2=Y2.reshape(Y.shape[0],1)\n",
    "\n",
    "                        scaler = StandardScaler()\n",
    "                        X_scaled2 = scaler.fit_transform(X2.reshape(-1, X2.shape[-1]))\n",
    "                        X2=X_scaled2.reshape(X2.shape)\n",
    "\n",
    "                        X_train2,X_valid2,X_test2 = np.split(X2,[int(train_pt*len(X2)),int(test_pt*len(X2))])\n",
    "                        Y_train2,Y_valid2,Y_test2 = np.split(Y2,[int(train_pt*len(Y2)),int(test_pt*len(Y2))])\n",
    "\n",
    "#                         st=stop                                \n",
    "    ##################################################################################################################\n",
    "\n",
    "                        X_at_sog_meas=X_test2\n",
    "\n",
    "                        X_test_2d = X_at_sog_meas.reshape(X_at_sog_meas.shape[0], -1)\n",
    "\n",
    "                        # saving reshaped array to file.\n",
    "                        np.savetxt(\"x_test_2dlastseqvalue12.txt\", X_test_2d)\n",
    "\n",
    "#                         st=stop\n",
    "\n",
    "    #####################################################################################################################\n",
    "                        ### Predcition Eff-Score by using LSTM, when SOG is Predicted from LSTM\n",
    "                        ###### Replacing the SOG in Test dataset by the predicted SOG from the LSTM\n",
    "            \n",
    "                        if save_sw==0:\n",
    "                            batch_size=round(0.05*X_train.shape[0])  ###fixed batch size base on size of Training dataset\n",
    "\n",
    "                            Eff_model = create_model(numFeatures, wd_sz, neo, lyr_no, act_fn[0], optimizer[0], learn_rt[0], Y_train2)\n",
    "                            history = Eff_model.fit(X_train2, Y_train2, batch_size, validation_data=(X_valid2, Y_valid2), epochs=epcs,  verbose=1)\n",
    "\n",
    "                            #### Plot Train and Valid\n",
    "#                             if kk==0:\n",
    "#                                 fig = plt.figure(figsize=(14,5))\n",
    "#                                 plt.subplot(1,2, 1)\n",
    "#                                 plt.plot(history.history['loss'], label='Training')\n",
    "#                                 plt.plot(history.history['val_loss'], label='Validation')\n",
    "#                                 plt.title('Training and Validation')\n",
    "#                                 plt.xlabel('Epochs')\n",
    "#                                 plt.ylabel('Loss')\n",
    "#                                 plt.ylim(0,1)\n",
    "#                                 plt.legend()\n",
    "#                                 plt.grid()\n",
    "\n",
    "\n",
    "#                                 plt.subplot(1,2, 2)\n",
    "#                                 plt.plot(history.history['r2_keras'], label='Training')\n",
    "#                                 plt.plot(history.history['val_r2_keras'], label='Validation')\n",
    "#                                 plt.title('Training and Validation')\n",
    "#                                 plt.xlabel('Epochs')\n",
    "#                                 plt.ylabel('R2')\n",
    "#                                 plt.ylim(0,1)\n",
    "#                                 plt.legend()\n",
    "#                                 plt.grid()\n",
    "\n",
    "#                                 plt.tight_layout()\n",
    "#                                 plt.savefig(Output_folder+'/TrainPlt'+file_nm_ext+'.png', dpi=300)\n",
    "#                                 plt.show()\n",
    "\n",
    "#                             st=stop\n",
    "\n",
    "                        ### prediction  ###\n",
    "\n",
    "                        SOG_index=inputs.index(\"speedOverGround\")\n",
    "                        SOG_index\n",
    "                        X_test2[:,:,SOG_index]=Ypred_sog_sqs1\n",
    "\n",
    "                        X_test2.shape\n",
    "\n",
    "                        ###Predict EFF\n",
    "                        #########################################                                               \n",
    "                        if save_sw==1:\n",
    "                            if gr_ock_fg==1:\n",
    "                                from keras.models import load_model\n",
    "                                Eff_model= load_model('Data/Saved_Models/Eff_model_gr_ock_fg_1.h5',\n",
    "                                         custom_objects={'rmse':rmse, 'r2_keras':r2_keras}) \n",
    "                        ##########################################\n",
    "                        y_pred2 = Eff_model.predict(X_test2)\n",
    "\n",
    "                        Y_act2=Y_test2[:,0]\n",
    "\n",
    "                        Y_pred2=y_pred2.reshape(-1)\n",
    "                        Y_pred2[np.isnan(Y_pred2)] = 0\n",
    "\n",
    "                        ### Evaluation of Eff_Score for all Sequences in Testing dataset\n",
    "\n",
    "                        Ytest_eff_avg=Y_act2.mean()  ## average speed (measured)\n",
    "                        Ytest_eff_avg\n",
    "\n",
    "                        Ypred_eff_avg=Y_pred2.mean()  ## average speed (predicted)\n",
    "                        Ypred_eff_avg\n",
    "\n",
    "                        ### Metrics for the predictions for all sequences\n",
    "                        print('\\n Metrics for Eff-score predictions using predicted SOG')\n",
    "                        mse_eff, rmse_eff, R2_eff, mae_eff, rmse_n_eff=metrics_eval(Y_act2, Y_pred2)\n",
    "\n",
    "                        Res_eff_sog_pred=pd.DataFrame({'Gr_Ock_idx':gr_ok_dt_fg,\n",
    "                            'Top_Samps_idx':Eff_limit_fg,'Time_Steps_Lag':lag_test,'Time_Steps_Ahead':hrz,\n",
    "                                                        'Inputs_index': var_inputs,'No_inputs':len(inputs),'inputs':[inputs], 'outputs':[outputs], \n",
    "\n",
    "                                                    'Ytest_eff_avg':round(Ytest_eff_avg,4), 'Pred_eff_avg':round(Ypred_eff_avg,4),\n",
    "\n",
    "                                                    'MSE_sog':round(mse_sog,4), 'RMSE_sog':round(rmse_sog,4), 'R2_sog':round(R2_sog,4), 'MAE_sog':round(mae_sog,4),\n",
    "\n",
    "                                                    'MSE_eff':round(mse_eff,4), 'RMSE_eff':round(rmse_eff,4), 'R2_eff':round(R2_eff,4), 'MAE_eff':round(mae_eff,4)})\n",
    "\n",
    "                        Res_eff_sog_pred.index=['Avg_Stats']\n",
    "                        Res_eff_sog_pred\n",
    "\n",
    "                        Res_eff_sog_pred[[ 'Ytest_eff_avg','Pred_eff_avg']]\n",
    "\n",
    "                        Res_eff_sog_pred[['MSE_sog', 'RMSE_sog', 'R2_sog', 'MAE_sog', 'MSE_eff', 'RMSE_eff', 'R2_eff', 'MAE_eff']]\n",
    "\n",
    "#                         st=stop\n",
    "    #####################################################################################################################\n",
    "                        ### Predcition Eff-Score by using LSTM with measured variables from onboard data\n",
    "                        #### Here SOG in Test dataset is the measured SOG from Onboard data\n",
    "\n",
    "                        # x_test=x_test_sog_meas\n",
    "                        ### retrieving data from file.\n",
    "                        X_test_arr = np.loadtxt(\"x_test_2dlastseqvalue12.txt\")\n",
    "                        X_test3=X_test_arr\n",
    "                        Y_test3=Y_test2\n",
    "\n",
    "                        X_test_arr=X_test_arr.reshape(X_test2.shape)\n",
    "\n",
    "                        ####Predict\n",
    "                        #### saved Model (The same model that used with optimal predicted SOG)\n",
    "                        y_pred3 = Eff_model.predict(X_test_arr)\n",
    "\n",
    "                        Y_act3=Y_test3[:,0]\n",
    "                        Y_pred3=y_pred3.reshape(-1)\n",
    "                        Y_pred3[np.isnan(Y_pred3)] = 0\n",
    "\n",
    "                        ### Evaluation of Eff_Score for all Sequences in Testing dataset\n",
    "\n",
    "                        Ytest_eff_avg=Y_act3.mean()  ## average speed (measured)\n",
    "                        Ytest_eff_avg\n",
    "\n",
    "                        Ypred_eff_avg=Y_pred3.mean()  ## average speed (predicted)\n",
    "                        Ypred_eff_avg\n",
    "\n",
    "                        #### Metrics for the predictions for all sequences\n",
    "                        print('\\n Metrics for Eff-score predictions using measured values')\n",
    "                        mse_eff, rmse_eff, R2_eff, mae_eff, rmse_n_eff=metrics_eval(Y_act3, Y_pred3)\n",
    "\n",
    "                        Res_eff_sog_meas=pd.DataFrame({'Gr_Ock_idx':gr_ok_dt_fg,\n",
    "                            'Top_Samps_idx':Eff_limit_fg,'Time_Steps_Lag':lag_test,'Time_Steps_Ahead':hrz,\n",
    "                                                        'Inputs_index': var_inputs,'No_inputs':len(inputs),'inputs':[inputs], 'outputs':[outputs], \n",
    "\n",
    "                                                    'Ytest_eff_avg':round(Ytest_eff_avg,4), 'Pred_eff_avg':round(Ypred_eff_avg,4),\n",
    "\n",
    "                                                    'MSE_sog':round(mse_sog,4), 'RMSE_sog':round(rmse_sog,4), 'R2_sog':round(R2_sog,4), 'MAE_sog':round(mae_sog,4),\n",
    "\n",
    "                                                    'MSE_eff':round(mse_eff,4), 'RMSE_eff':round(rmse_eff,4), 'R2_eff':round(R2_eff,4), 'MAE_eff':round(mae_eff,4)})\n",
    "\n",
    "                        Res_eff_sog_meas.index=['Avg_Stats']\n",
    "\n",
    "    ################################### Evaluation of Test sequences (routes)  #######################################\n",
    "\n",
    "                        df_eff_sog_seqs=pd.DataFrame([])\n",
    "                        dfst_sogtest=[]; dfst_sogpred=[]; \n",
    "                        dfst_eff_meas=[]; dfst_eff_pred_meas_sog=[];dfst_eff_pred_sog=[]\n",
    "                        dfst_improv_eff_vs_meas=[]; dfst_improv_eff_vs_pred_meas=[]\n",
    "\n",
    "                        dfst_sogtest=np.round(Ytest_sog_avg1,4)\n",
    "                        dfst_sogpred=np.round(Ypred_sog_avg1,4)\n",
    "                        dfst_eff_meas=np.round(Y_act3,disp)\n",
    "                        dfst_eff_pred_meas_sog=np.round(Y_pred3,disp)\n",
    "                        dfst_eff_pred_sog=np.round(Y_pred2,disp)\n",
    "                        dfst_improv_eff_vs_meas=dfst_eff_pred_sog-dfst_eff_meas\n",
    "                        dfst_improv_eff_vs_pred_meas=dfst_eff_pred_sog-dfst_eff_pred_meas_sog\n",
    "\n",
    "                        df_eff_sog_seqs=pd.DataFrame({'Sog_test': dfst_sogtest, 'Sog_pred': dfst_sogpred,\n",
    "                                                  'Eff_meas': dfst_eff_meas, 'Eff_pred_meas_sog': dfst_eff_pred_meas_sog, \n",
    "                                                  'Eff_pred_sog': dfst_eff_pred_sog,\n",
    "                                                  'Improve_Eff_vs_meas': dfst_improv_eff_vs_meas,\n",
    "                                                  'Improve_Eff_vs_pred_meas': dfst_improv_eff_vs_pred_meas})\n",
    "                        df_eff_sog_seqs\n",
    "\n",
    "                        sym=str(round(df_eff_sog_seqs.Improve_Eff_vs_pred_meas.mean(),4))\n",
    "\n",
    "#                         df_eff_sog_seqs.to_excel(Output_folder+'/Stats_Eff'+str(Eff_limit_fg)+'_inp_'+str(var_inputs)+'_lag_'+str(lag_test)+'.xlsx')\n",
    "\n",
    "                        kk=kk+1\n",
    "                        if kk==1:break\n",
    "\n",
    "\n",
    "end_time = time.time()\n",
    "elapsed_time = end_time - start_time\n",
    "print(f\"Time taken: {elapsed_time} seconds\")"
   ]
  },
  {
   "cell_type": "code",
   "execution_count": 26,
   "metadata": {},
   "outputs": [],
   "source": [
    "# st=stop"
   ]
  },
  {
   "cell_type": "code",
   "execution_count": 27,
   "metadata": {
    "scrolled": true
   },
   "outputs": [
    {
     "name": "stdout",
     "output_type": "stream",
     "text": [
      "(162,)\n"
     ]
    }
   ],
   "source": [
    "print(rt_id_test.shape)"
   ]
  },
  {
   "cell_type": "code",
   "execution_count": 28,
   "metadata": {},
   "outputs": [
    {
     "data": {
      "text/plain": [
       "5"
      ]
     },
     "execution_count": 28,
     "metadata": {},
     "output_type": "execute_result"
    }
   ],
   "source": [
    "if gr_ock_fg==2:\n",
    "    seq_idx=270\n",
    "else:\n",
    "    seq_idx=5\n",
    "    \n",
    "seq_idx"
   ]
  },
  {
   "cell_type": "code",
   "execution_count": 29,
   "metadata": {},
   "outputs": [
    {
     "data": {
      "image/png": "[encoded data removed]",
      "text/plain": [
       "<Figure size 1152x576 with 2 Axes>"
      ]
     },
     "metadata": {
      "needs_background": "light"
     },
     "output_type": "display_data"
    }
   ],
   "source": [
    "#Plot\n",
    "\n",
    "if tempo_res=='1min':\n",
    "    tm='(Min.)'\n",
    "if tempo_res=='1S':\n",
    "    tm='(Sec.)' \n",
    "Ypred2= y_pred2.reshape(-1)\n",
    "Ytest2= Y_test2[:,0]\n",
    "\n",
    "fig, ax1 = plt.subplots(figsize=(16,8))\n",
    "\n",
    "x_ticks = np.arange(0, len(YPred1[seq_idx]))+1\n",
    "\n",
    "ax2 = ax1.twinx()\n",
    "# ax1.plot(range(lag_test, wd_sz),YPred1[seq_idx, lag_test:wd_sz], 'orange',label=\"SOG_Pred (Normalized)\")\n",
    "ax1.plot(x_ticks, YPred1[seq_idx], 'orange',label=\"SOG_Pred (Normalized)\")\n",
    "ax1.plot(x_ticks, YTest1[seq_idx], 'b',label=\"SOG_Meas (Normalized)\")\n",
    "ax2.plot(x_ticks, [Ytest2[seq_idx]]*wd_sz, ':b', label=\"Measured Eff_Score\", linewidth = 4);\n",
    "ax2.plot(x_ticks, [Ypred2[seq_idx]]*wd_sz, ':', color='orange', label=\"Predicted Eff_Score\",  linewidth = 4)\n",
    "ax2.axvline(x=lag_test, linestyle='--', color='red')\n",
    "\n",
    "# Calculate the x-tick positions\n",
    "ax1.set_xticks(x_ticks)\n",
    "ax1.set_xticklabels([1] + list(x_ticks[1:]))\n",
    "\n",
    "plt.xticks(x_ticks);\n",
    "\n",
    "\n",
    "plt.title('Eff_Score and SpeedOverGround for Seq.'+str(seq_idx)+', Eff-Score_meas='+str(np.round(Y_test2[seq_idx,0],4))\n",
    "          +', Eff-Score_pred='+str(np.round(Ypred2[seq_idx],4))+', Inps_idx.'+str(var_inputs_index),  fontsize=18)\n",
    "ax1.set_xlabel('Waypoints',  fontsize=15)\n",
    "ax1.set_ylabel('SpeedOverGround (m/s)', fontsize=15)\n",
    "ax2.set_ylabel('Eff_Score (Normalized)', fontsize=15)\n",
    "\n",
    "ax1.tick_params(axis='y', labelsize=16) \n",
    "ax2.tick_params(axis='y', labelsize=16) \n",
    "ax1.tick_params(axis='x', labelsize=16) \n",
    "\n",
    "ax1.set_ylim(-0.5, 6)\n",
    "ax2.set_ylim(0, 1.2)\n",
    "\n",
    "ax1.legend(loc=\"lower left\", bbox_to_anchor=(0.0, 0.15), ncol=1, borderaxespad=0, frameon=False, fontsize=14)\n",
    "ax2.legend(loc=\"lower left\", bbox_to_anchor=(0.0, 0.05), ncol=1, borderaxespad=0, frameon=False, fontsize=14)\n",
    "\n",
    "ax1.grid(linestyle='--')\n",
    "ax2.grid(linestyle=':')\n",
    "\n",
    "\n",
    "ax2.yaxis.grid(True, which='minor', linestyle=':', color='#cccccc')\n",
    "\n",
    "ax1.xaxis.set_minor_locator(plt.MultipleLocator(1))\n",
    "ax1.grid(which='minor', linestyle='--', alpha=0.5)\n",
    "\n",
    "plt.tight_layout()\n",
    "plt.savefig(Output_folder+'/Plt_Indv_OUPUT_EffSOG_seq'+str(seq_idx)+file_nm_ext+'.png', dpi=300)\n",
    "\n",
    "plt.show()  "
   ]
  },
  {
   "cell_type": "code",
   "execution_count": 30,
   "metadata": {},
   "outputs": [],
   "source": [
    "# st=stop"
   ]
  },
  {
   "cell_type": "markdown",
   "metadata": {},
   "source": [
    "### Check the std div of predicted speed and compare it with the measured speed"
   ]
  },
  {
   "cell_type": "code",
   "execution_count": 31,
   "metadata": {},
   "outputs": [
    {
     "data": {
      "text/html": [
       "<div>\n",
       "<style scoped>\n",
       "    .dataframe tbody tr th:only-of-type {\n",
       "        vertical-align: middle;\n",
       "    }\n",
       "\n",
       "    .dataframe tbody tr th {\n",
       "        vertical-align: top;\n",
       "    }\n",
       "\n",
       "    .dataframe thead th {\n",
       "        text-align: right;\n",
       "    }\n",
       "</style>\n",
       "<table border=\"1\" class=\"dataframe\">\n",
       "  <thead>\n",
       "    <tr style=\"text-align: right;\">\n",
       "      <th></th>\n",
       "      <th>SOG_meas</th>\n",
       "      <th>SOG_pred</th>\n",
       "    </tr>\n",
       "  </thead>\n",
       "  <tbody>\n",
       "    <tr>\n",
       "      <th>count</th>\n",
       "      <td>4374.000000</td>\n",
       "      <td>4.374000e+03</td>\n",
       "    </tr>\n",
       "    <tr>\n",
       "      <th>mean</th>\n",
       "      <td>1.665287</td>\n",
       "      <td>1.572734e+00</td>\n",
       "    </tr>\n",
       "    <tr>\n",
       "      <th>std</th>\n",
       "      <td>1.996925</td>\n",
       "      <td>1.834772e+00</td>\n",
       "    </tr>\n",
       "    <tr>\n",
       "      <th>min</th>\n",
       "      <td>0.000000</td>\n",
       "      <td>3.697175e-08</td>\n",
       "    </tr>\n",
       "    <tr>\n",
       "      <th>25%</th>\n",
       "      <td>0.000000</td>\n",
       "      <td>3.697175e-08</td>\n",
       "    </tr>\n",
       "    <tr>\n",
       "      <th>50%</th>\n",
       "      <td>0.000000</td>\n",
       "      <td>3.697175e-08</td>\n",
       "    </tr>\n",
       "    <tr>\n",
       "      <th>75%</th>\n",
       "      <td>4.004475</td>\n",
       "      <td>3.659750e+00</td>\n",
       "    </tr>\n",
       "    <tr>\n",
       "      <th>max</th>\n",
       "      <td>5.954200</td>\n",
       "      <td>5.040775e+00</td>\n",
       "    </tr>\n",
       "  </tbody>\n",
       "</table>\n",
       "</div>"
      ],
      "text/plain": [
       "          SOG_meas      SOG_pred\n",
       "count  4374.000000  4.374000e+03\n",
       "mean      1.665287  1.572734e+00\n",
       "std       1.996925  1.834772e+00\n",
       "min       0.000000  3.697175e-08\n",
       "25%       0.000000  3.697175e-08\n",
       "50%       0.000000  3.697175e-08\n",
       "75%       4.004475  3.659750e+00\n",
       "max       5.954200  5.040775e+00"
      ]
     },
     "execution_count": 31,
     "metadata": {},
     "output_type": "execute_result"
    }
   ],
   "source": [
    "YPred1.reshape(-1,1).shape\n",
    "YTest1.reshape(-1,1).shape\n",
    "YTest1.reshape(-1,1)[:,0]\n",
    "dfsog_pred_meas=pd.DataFrame({'SOG_meas':YTest1.reshape(-1,1)[:,0], 'SOG_pred':YPred1.reshape(-1,1)[:,0]})\n",
    "dfsog_pred_meas.describe()"
   ]
  },
  {
   "cell_type": "code",
   "execution_count": 32,
   "metadata": {},
   "outputs": [
    {
     "data": {
      "text/html": [
       "<div>\n",
       "<style scoped>\n",
       "    .dataframe tbody tr th:only-of-type {\n",
       "        vertical-align: middle;\n",
       "    }\n",
       "\n",
       "    .dataframe tbody tr th {\n",
       "        vertical-align: top;\n",
       "    }\n",
       "\n",
       "    .dataframe thead th {\n",
       "        text-align: right;\n",
       "    }\n",
       "</style>\n",
       "<table border=\"1\" class=\"dataframe\">\n",
       "  <thead>\n",
       "    <tr style=\"text-align: right;\">\n",
       "      <th></th>\n",
       "      <th>Sog_test</th>\n",
       "      <th>Sog_pred</th>\n",
       "      <th>Eff_meas</th>\n",
       "      <th>Eff_pred_meas_sog</th>\n",
       "      <th>Eff_pred_sog</th>\n",
       "      <th>Improve_Eff_vs_meas</th>\n",
       "      <th>Improve_Eff_vs_pred_meas</th>\n",
       "    </tr>\n",
       "  </thead>\n",
       "  <tbody>\n",
       "    <tr>\n",
       "      <th>count</th>\n",
       "      <td>162.000000</td>\n",
       "      <td>162.000000</td>\n",
       "      <td>162.000000</td>\n",
       "      <td>162.000000</td>\n",
       "      <td>162.000000</td>\n",
       "      <td>162.000000</td>\n",
       "      <td>162.000000</td>\n",
       "    </tr>\n",
       "    <tr>\n",
       "      <th>mean</th>\n",
       "      <td>1.665291</td>\n",
       "      <td>1.572730</td>\n",
       "      <td>0.351359</td>\n",
       "      <td>0.596316</td>\n",
       "      <td>0.596531</td>\n",
       "      <td>0.245172</td>\n",
       "      <td>0.000215</td>\n",
       "    </tr>\n",
       "    <tr>\n",
       "      <th>std</th>\n",
       "      <td>0.095597</td>\n",
       "      <td>0.060793</td>\n",
       "      <td>0.054838</td>\n",
       "      <td>0.008328</td>\n",
       "      <td>0.008937</td>\n",
       "      <td>0.054550</td>\n",
       "      <td>0.000799</td>\n",
       "    </tr>\n",
       "    <tr>\n",
       "      <th>min</th>\n",
       "      <td>1.462500</td>\n",
       "      <td>1.426000</td>\n",
       "      <td>0.227908</td>\n",
       "      <td>0.590497</td>\n",
       "      <td>0.590541</td>\n",
       "      <td>0.006418</td>\n",
       "      <td>-0.000830</td>\n",
       "    </tr>\n",
       "    <tr>\n",
       "      <th>25%</th>\n",
       "      <td>1.599975</td>\n",
       "      <td>1.526250</td>\n",
       "      <td>0.328145</td>\n",
       "      <td>0.591790</td>\n",
       "      <td>0.591812</td>\n",
       "      <td>0.220582</td>\n",
       "      <td>-0.000006</td>\n",
       "    </tr>\n",
       "    <tr>\n",
       "      <th>50%</th>\n",
       "      <td>1.660300</td>\n",
       "      <td>1.579000</td>\n",
       "      <td>0.353162</td>\n",
       "      <td>0.593490</td>\n",
       "      <td>0.593532</td>\n",
       "      <td>0.243932</td>\n",
       "      <td>0.000023</td>\n",
       "    </tr>\n",
       "    <tr>\n",
       "      <th>75%</th>\n",
       "      <td>1.726275</td>\n",
       "      <td>1.611425</td>\n",
       "      <td>0.375675</td>\n",
       "      <td>0.596854</td>\n",
       "      <td>0.597450</td>\n",
       "      <td>0.268737</td>\n",
       "      <td>0.000084</td>\n",
       "    </tr>\n",
       "    <tr>\n",
       "      <th>max</th>\n",
       "      <td>2.007700</td>\n",
       "      <td>1.722400</td>\n",
       "      <td>0.602137</td>\n",
       "      <td>0.653353</td>\n",
       "      <td>0.658543</td>\n",
       "      <td>0.369964</td>\n",
       "      <td>0.005392</td>\n",
       "    </tr>\n",
       "  </tbody>\n",
       "</table>\n",
       "</div>"
      ],
      "text/plain": [
       "         Sog_test    Sog_pred    Eff_meas  Eff_pred_meas_sog  Eff_pred_sog  \\\n",
       "count  162.000000  162.000000  162.000000         162.000000    162.000000   \n",
       "mean     1.665291    1.572730    0.351359           0.596316      0.596531   \n",
       "std      0.095597    0.060793    0.054838           0.008328      0.008937   \n",
       "min      1.462500    1.426000    0.227908           0.590497      0.590541   \n",
       "25%      1.599975    1.526250    0.328145           0.591790      0.591812   \n",
       "50%      1.660300    1.579000    0.353162           0.593490      0.593532   \n",
       "75%      1.726275    1.611425    0.375675           0.596854      0.597450   \n",
       "max      2.007700    1.722400    0.602137           0.653353      0.658543   \n",
       "\n",
       "       Improve_Eff_vs_meas  Improve_Eff_vs_pred_meas  \n",
       "count           162.000000                162.000000  \n",
       "mean              0.245172                  0.000215  \n",
       "std               0.054550                  0.000799  \n",
       "min               0.006418                 -0.000830  \n",
       "25%               0.220582                 -0.000006  \n",
       "50%               0.243932                  0.000023  \n",
       "75%               0.268737                  0.000084  \n",
       "max               0.369964                  0.005392  "
      ]
     },
     "execution_count": 32,
     "metadata": {},
     "output_type": "execute_result"
    }
   ],
   "source": [
    "### sog average for each route\n",
    "df_eff_sog_seqs\n",
    "df_eff_sog_seqs.describe()"
   ]
  },
  {
   "cell_type": "code",
   "execution_count": 33,
   "metadata": {},
   "outputs": [],
   "source": [
    "# st=stop"
   ]
  },
  {
   "cell_type": "markdown",
   "metadata": {},
   "source": [
    "### Prepare data for calcualtion of fuel, distance and time "
   ]
  },
  {
   "cell_type": "code",
   "execution_count": 34,
   "metadata": {},
   "outputs": [],
   "source": [
    "def Prep_cal_data(df, wd_sz):\n",
    "    for k in ['df']:    ### Test data\n",
    "        df_k=eval(k)    \n",
    "        i_rt=list(df_k.RT_id.unique())\n",
    "        dfnew=[]\n",
    "        dftemp=[]\n",
    "        result=pd.DataFrame([])\n",
    "\n",
    "        rt_len=wd_sz\n",
    "\n",
    "        for i in list(df_k.RT_id.unique()):\n",
    "            dftemp=df_k[df_k.RT_id==i]\n",
    "            if len(dftemp)<rt_len:\n",
    "                rp=rt_len-len(dftemp)\n",
    "                last_row=df_k[df_k.RT_id==i].iloc[-1]\n",
    "                last_row=last_row.to_frame().T\n",
    "                dfadd=pd.DataFrame(last_row.values.repeat(rp, axis=0), columns=last_row.columns)\n",
    "\n",
    "                zero_cols=last_row.columns.drop(['RT_id','time_xPorts','eff_score'])  \n",
    "\n",
    "                dfadd[zero_cols]=dfadd[zero_cols]*0\n",
    "                df_add = pd.concat([dftemp, dfadd]).reset_index()\n",
    "\n",
    "                df_add = df_add.drop(['index'],axis=1)\n",
    "            if len(dftemp)==rt_len:\n",
    "                df_add=dftemp\n",
    "            result=result.append(df_add)\n",
    "\n",
    "        dfnew=result\n",
    "        dfnew['time_xport']=dfnew.index\n",
    "        dfnew=dfnew.reset_index()\n",
    "        dfnew = dfnew.drop(['index'],axis=1)\n",
    "        return dfnew"
   ]
  },
  {
   "cell_type": "markdown",
   "metadata": {},
   "source": [
    "### Fuel Seq2Seq Reg. Model with 22 variables usign LSTM"
   ]
  },
  {
   "cell_type": "code",
   "execution_count": 35,
   "metadata": {},
   "outputs": [
    {
     "name": "stdout",
     "output_type": "stream",
     "text": [
      "(848, 27, 22)\n",
      "(848, 27, 1)\n",
      "Model: \"sequential_1\"\n",
      "_________________________________________________________________\n",
      " Layer (type)                Output Shape              Param #   \n",
      "=================================================================\n",
      " lstm_1 (LSTM)               (None, 32)                7040      \n",
      "                                                                 \n",
      " dense_11 (Dense)            (None, 100)               3300      \n",
      "                                                                 \n",
      " dense_12 (Dense)            (None, 100)               10100     \n",
      "                                                                 \n",
      " dense_13 (Dense)            (None, 27)                2727      \n",
      "                                                                 \n",
      "=================================================================\n",
      "Total params: 23,167\n",
      "Trainable params: 23,167\n",
      "Non-trainable params: 0\n",
      "_________________________________________________________________\n",
      " MSE: 194.328018\n",
      " RMSE: 13.940159\n",
      "Normalized RMSE: 0.209714\n",
      "R2: 0.344035\n",
      "MAE: 10.627447\n",
      " MSE: 222.094589\n",
      " RMSE: 14.902839\n",
      "Normalized RMSE: 0.224197\n",
      "R2: 0.250307\n",
      "MAE: 11.425454\n"
     ]
    }
   ],
   "source": [
    "out_sw='EngineFuelRate'\n",
    "\n",
    "Reg_Mod_inps=5\n",
    "#################################################################################################################\n",
    "if Reg_Mod_inps==0:\n",
    "    inputs=['speedOverGround']\n",
    "if Reg_Mod_inps==1:\n",
    "    inputs=['speedOverGround', 'windSpeedOverGround', 'windDirectionTrue', 'wind_head_diff']\n",
    "if Reg_Mod_inps==2:\n",
    "    inputs=['speedOverGround', 'headingMagnetic', 'latitude', 'longitude']\n",
    "if Reg_Mod_inps==3:\n",
    "    inputs=['speedOverGround', 'headingMagnetic', 'latitude', 'longitude',\n",
    "           'windSpeedOverGround', 'windDirectionTrue', 'wind_head_diff']\n",
    "if Reg_Mod_inps==4:\n",
    "    inputs=['speedOverGround', 'latitude', 'longitude','headingMagnetic', 'windSpeed_onboard', 'windDirection_onboard', \n",
    "       'wind_course_diff', 'windSpeed_cds','windDirection_cds','windSpeed_sg', 'windDirection_sg',\n",
    "       'waveheight','wavedirect', 'currentSpeed', 'currentDirection', 'EngineFuelRate'] \n",
    "    \n",
    "if Reg_Mod_inps==5:\n",
    "    inputs=['speedOverGround', 'courseOverGroundTrue','distanceFromDock', 'accumDistLeg', 'accumTimeLeg',\n",
    "       'distanceToNextDock', 'speedApparent', 'pitch', 'wind_course_diff', 'roll', 'latitude', 'longitude', \n",
    "       'windSpeed_onboard','windDirection_onboard', 'currentSpeed','currentDirection', 'windSpeed_sg','windDirection_sg',\n",
    "       'windSpeed_cds','windDirection_cds', 'waveheight','wavedirect']\n",
    "    \n",
    "\n",
    "if out_sw=='SOG':\n",
    "    outputs=['speedOverGround']\n",
    "\n",
    "if out_sw=='Eff_Score':\n",
    "    outputs=['eff_score']\n",
    "    \n",
    "if out_sw=='EngineFuelRate':\n",
    "    outputs=['EngineFuelRate']\n",
    "##################################################################################################################\n",
    "X7, Y7=df_to_seq(df1, wd_sz, inputs, outputs)\n",
    "X_orig7, Y_orig7=X7, Y7\n",
    "\n",
    "# if Eff_limit_fg==1:\n",
    "##### Preparing data for multiple-steps  forcasting with multiple-step lags\n",
    "\n",
    "if Eff_limit_fg!=1:\n",
    "\n",
    "    if Eff_limit_fg=='Top10':\n",
    "        Qlim=df['eff_score'].quantile(0.90)\n",
    "    if Eff_limit_fg=='Top25':\n",
    "        Qlim=df['eff_score'].quantile(0.75)\n",
    "    if Eff_limit_fg=='Top50':\n",
    "        Qlim=df['eff_score'].quantile(0.50)\n",
    "    if Eff_limit_fg=='Top75':\n",
    "        Qlim=df['eff_score'].quantile(0.25)\n",
    "\n",
    "    X7, Y7=df_to_seq(df1_eff_sort, wd_sz, inputs, outputs)\n",
    "\n",
    "if var_inputs==0:\n",
    "    numFeatures = 1\n",
    "if var_inputs!=0:\n",
    "    numFeatures = len(inputs)\n",
    "\n",
    "print(X7.shape)\n",
    "print(Y7.shape)\n",
    "\n",
    "scaler = StandardScaler()\n",
    "X_scaled7 = scaler.fit_transform(X7.reshape(-1, X7.shape[-1]))\n",
    "X7=X_scaled7.reshape(X7.shape)\n",
    "\n",
    "X_train7,X_valid7,X_test7 = np.split(X7,[int(train_pt*len(X7)),int(test_pt*len(X7))])\n",
    "Y_train7,Y_valid7,Y_test7 = np.split(Y7,[int(train_pt*len(Y7)),int(test_pt*len(Y7))])\n",
    "\n",
    "# st=stop                                \n",
    "##################################################################################################################\n",
    "\n",
    "X_at_sog_meas=X_test7\n",
    "\n",
    "X_test_2d = X_at_sog_meas.reshape(X_at_sog_meas.shape[0], -1)\n",
    "\n",
    "# saving reshaped array to file.\n",
    "np.savetxt(\"x_test_2dlastseqvalue7.txt\", X_test_2d)\n",
    "\n",
    "#                                 st=stop\n",
    "\n",
    "#####################################################################################################################\n",
    "##### Load a save LSTM Model, which trained without biased data (not top 50 or 25%)\n",
    "\n",
    "from keras.models import load_model\n",
    "\n",
    "if Reg_Mod_inps==3:\n",
    "    Fuel_model = load_model('Data/Saved_Models/EFF_FL_STML_Seq2Seq_Reg_Mod_Alldata_var_inps_3_lag_0_norm_1_1min_outs_EngineFuelRate_lyrs_2_epc_100_Neo_25_R2_BM_0.5657.hdf5',\n",
    "                    custom_objects={'rmse':rmse, 'r2_keras':r2_keras}) \n",
    "if Reg_Mod_inps==5:\n",
    "    Fuel_model = load_model('Data/Saved_Models/EFFnew_FL_STML_Seq2Seq_Reg_Mod_Alldata_Efflm1_var_inps_5_lag_0_norm_1_1min_outs_EngineFuelRate_lyrs_2_epc_50_Neo_100_R2_BM_0.5992.hdf5',\n",
    "                    custom_objects={'rmse':rmse, 'r2_keras':r2_keras}) \n",
    "    \n",
    "Fuel_model.summary()\n",
    "# st=stop\n",
    "\n",
    "###################### Fuel prediction from predicted speed #################\n",
    "\n",
    "SOG_index=inputs.index(\"speedOverGround\")\n",
    "SOG_index\n",
    "X_test7[:,:,SOG_index]=Ypred_sog_sqs1\n",
    "\n",
    "X_test7.shape\n",
    "\n",
    "#Predict\n",
    "#### saved Model\n",
    "y_pred7 = Fuel_model.predict(X_test7)\n",
    "\n",
    "\n",
    "# ### Evaluation of Eff_Score for all Sequences in Testing dataset\n",
    "\n",
    "Y_act7=Y_test7.reshape(-1,1)\n",
    "Y_pred7=y_pred7.reshape(-1,1)\n",
    "\n",
    "mse_fl, rmse_fl, R2_fl, mae_fl, rmse_n_fl=metrics_eval(Y_act7, Y_pred7)\n",
    "\n",
    "\n",
    "###################### Fuel prediction from measured speed #################\n",
    "\n",
    "# x_test=x_test_sog_meas\n",
    "### retrieving data from file.\n",
    "X_test_arr7 = np.loadtxt(\"x_test_2dlastseqvalue7.txt\")\n",
    "\n",
    "X_test7_sog_meas=X_test_arr7.reshape(X_test7.shape)\n",
    "\n",
    "\n",
    "####Predict\n",
    "#### saved Model\n",
    "y_pred7_sog_meas = Fuel_model.predict(X_test7_sog_meas)               \n",
    "\n",
    "# ### Evaluation of Eff_Score for all Sequences in Testing dataset\n",
    "\n",
    "Y_act7=Y_test7.reshape(-1,1)\n",
    "Y_pred7_sog_meas=y_pred7_sog_meas.reshape(-1,1)\n",
    "\n",
    "mse_fl_sog_meas, rmse_fl_sog_meas, R2_fl_sog_meas, mae_fl_sog_meas, rmse_n_fl_sog_meas=metrics_eval(Y_act7, Y_pred7_sog_meas)\n",
    "\n",
    "##################################   \n",
    "r2_sym=round(R2_fl_sog_meas,4) \n"
   ]
  },
  {
   "cell_type": "code",
   "execution_count": 36,
   "metadata": {},
   "outputs": [],
   "source": [
    "# fig = plt.subplots(figsize=(10,5))\n",
    "\n",
    "# plt.plot(Y_test7[seq_idx,:,0], label='Meas_FuelRate')\n",
    "# plt.plot(y_pred7[seq_idx],'orange', label='Pred_FuelRate_sog_pred')\n",
    "# plt.plot(y_pred7_sog_meas[seq_idx],'green', label='Pred_FuelRate_sog_meas')\n",
    "\n",
    "\n",
    "# plt.title('Fuel-Rate Seq2Seq Regression, LSTM'+', MAE_sog_pred='+str(round(mae_fl, 4))\n",
    "#           +', MAE_sog_meas='+str(round(mae_fl_sog_meas, 4))+'.  Seq.='+str(seq_idx), fontsize=15)\n",
    "# plt.xlabel('Time_steps '+tm,  fontsize=15)\n",
    "# plt.ylabel('FuelRate (L/h)', fontsize=15)\n",
    "\n",
    "# plt.legend()\n",
    "# plt.grid(linestyle='--')\n",
    "\n",
    "# plt.tight_layout()\n",
    "# # plt.savefig(Output_folder+'/Plot_Indiv_Fuel_Seq_'+str(seq_idx)+file_nm_ext+'.png', dpi=300)\n",
    "\n",
    "# plt.show()  "
   ]
  },
  {
   "cell_type": "code",
   "execution_count": 37,
   "metadata": {},
   "outputs": [],
   "source": [
    "# st=stop"
   ]
  },
  {
   "cell_type": "markdown",
   "metadata": {},
   "source": [
    "### Preparing data for calcualtion of fuel, distance and time "
   ]
  },
  {
   "cell_type": "code",
   "execution_count": 38,
   "metadata": {},
   "outputs": [],
   "source": [
    "def Prep_cal_data(df, wd_sz):\n",
    "    for k in ['df']:    ### Test data\n",
    "        df_k=eval(k)    \n",
    "        i_rt=list(df_k.RT_id.unique())\n",
    "        dfnew=[]\n",
    "        dftemp=[]\n",
    "        result=pd.DataFrame([])\n",
    "\n",
    "        rt_len=wd_sz\n",
    "\n",
    "        for i in list(df_k.RT_id.unique()):\n",
    "            dftemp=df_k[df_k.RT_id==i]\n",
    "            if len(dftemp)<rt_len:\n",
    "                rp=rt_len-len(dftemp)\n",
    "                last_row=df_k[df_k.RT_id==i].iloc[-1]\n",
    "                last_row=last_row.to_frame().T\n",
    "                dfadd=pd.DataFrame(last_row.values.repeat(rp, axis=0), columns=last_row.columns)\n",
    "\n",
    "                zero_cols=last_row.columns.drop(['RT_id','time_xPorts','eff_score'])  \n",
    "                dfadd[zero_cols]=0\n",
    "                dfadd[zero_cols]=dfadd[zero_cols]\n",
    "                df_add = pd.concat([dftemp, dfadd]).reset_index()\n",
    "\n",
    "                df_add = df_add.drop(['index'],axis=1)\n",
    "            if len(dftemp)==rt_len:\n",
    "                df_add=dftemp\n",
    "            result=result.append(df_add)\n",
    "\n",
    "        dfnew=result\n",
    "        dfnew['time_xport']=dfnew.index\n",
    "        dfnew=dfnew.reset_index()\n",
    "        dfnew = dfnew.drop(['index'],axis=1)\n",
    "        return dfnew"
   ]
  },
  {
   "cell_type": "code",
   "execution_count": 39,
   "metadata": {},
   "outputs": [],
   "source": [
    "Exclud_port=0; ### include ports data\n",
    "# Exclud_port=1; ### exclude ports data\n",
    "dist_latlon=0 ## not using lat and lot regression model from sog&cog predictions\n",
    "# dist_latlon=1 ## Using lat and lot regression model from sog&cog predictions.../iHelm/ANN_iHelm/MHD_ANN_SOG_COG_Lat_Lon_Model.ipynb#"
   ]
  },
  {
   "cell_type": "code",
   "execution_count": 40,
   "metadata": {},
   "outputs": [
    {
     "name": "stdout",
     "output_type": "stream",
     "text": [
      "(162,)\n"
     ]
    },
    {
     "data": {
      "text/plain": [
       "(2032, 71)"
      ]
     },
     "execution_count": 40,
     "metadata": {},
     "output_type": "execute_result"
    }
   ],
   "source": [
    "df1_eff_test_sort=pd.DataFrame([])\n",
    "rt_id_test=rt_id_test.tolist()\n",
    "for id in rt_id_test:\n",
    "#     rt_id=df1_eff_sort.RT_id[0]\n",
    "    rt_id=df1_eff_sort.RT_id.iloc[0]\n",
    "    df1_eff_test_sort=df1_eff_test_sort.append(df1_eff_sort[(df1_eff_sort.RT_id==id)])\n",
    "    \n",
    "\n",
    "print(df1_eff_test_sort.RT_id.unique().shape)\n",
    "df1_eff_test_sort.shape"
   ]
  },
  {
   "cell_type": "code",
   "execution_count": 41,
   "metadata": {},
   "outputs": [],
   "source": [
    "# st=stop"
   ]
  },
  {
   "cell_type": "code",
   "execution_count": 42,
   "metadata": {},
   "outputs": [
    {
     "name": "stdout",
     "output_type": "stream",
     "text": [
      "(162,)\n"
     ]
    },
    {
     "data": {
      "text/plain": [
       "(4374, 72)"
      ]
     },
     "execution_count": 42,
     "metadata": {},
     "output_type": "execute_result"
    }
   ],
   "source": [
    "# dfnew=Prep_cal_data(df1, wd_sz)\n",
    "# dfnew=Prep_cal_data(df1_eff_sort, wd_sz)\n",
    "dfnew=Prep_cal_data(df1_eff_test_sort, wd_sz)\n",
    "\n",
    "print(dfnew.RT_id.unique().shape)\n",
    "dfnew.shape"
   ]
  },
  {
   "cell_type": "markdown",
   "metadata": {},
   "source": [
    "### Calculate fuel and time from measured data... (Test data)"
   ]
  },
  {
   "cell_type": "code",
   "execution_count": 43,
   "metadata": {},
   "outputs": [
    {
     "data": {
      "text/html": [
       "<div>\n",
       "<style scoped>\n",
       "    .dataframe tbody tr th:only-of-type {\n",
       "        vertical-align: middle;\n",
       "    }\n",
       "\n",
       "    .dataframe tbody tr th {\n",
       "        vertical-align: top;\n",
       "    }\n",
       "\n",
       "    .dataframe thead th {\n",
       "        text-align: right;\n",
       "    }\n",
       "</style>\n",
       "<table border=\"1\" class=\"dataframe\">\n",
       "  <thead>\n",
       "    <tr style=\"text-align: right;\">\n",
       "      <th></th>\n",
       "      <th>Measured</th>\n",
       "    </tr>\n",
       "  </thead>\n",
       "  <tbody>\n",
       "    <tr>\n",
       "      <th>fuel</th>\n",
       "      <td>978.339189</td>\n",
       "    </tr>\n",
       "    <tr>\n",
       "      <th>time</th>\n",
       "      <td>22.316846</td>\n",
       "    </tr>\n",
       "    <tr>\n",
       "      <th>distance</th>\n",
       "      <td>349.203543</td>\n",
       "    </tr>\n",
       "    <tr>\n",
       "      <th>sog_avg</th>\n",
       "      <td>1.665288</td>\n",
       "    </tr>\n",
       "  </tbody>\n",
       "</table>\n",
       "</div>"
      ],
      "text/plain": [
       "            Measured\n",
       "fuel      978.339189\n",
       "time       22.316846\n",
       "distance  349.203543\n",
       "sog_avg     1.665288"
      ]
     },
     "execution_count": 43,
     "metadata": {},
     "output_type": "execute_result"
    }
   ],
   "source": [
    "df_all_present1=dfnew\n",
    "df_R=dfnew\n",
    "\n",
    "R_rt={}; R_t={}; R_d={}; R_f={}; \n",
    "\n",
    "df_stats1={}\n",
    "\n",
    "dfst_time_ExPorts=[]\n",
    "dist=[]\n",
    "tmsan=[]\n",
    "fuelcns=[]\n",
    "df_st=pd.DataFrame([])\n",
    "df_st_rt1=pd.DataFrame([])\n",
    "\n",
    "# df_st_rt.index=['fuel', 'time', 'distance', 'Time_ExPorts','Time_dtsp_avg']\n",
    "# df_st_rt.index=['fuel', 'time', 'distance', 'sog_avg','Time_dtsp_avg']\n",
    "df_st_rt1.index=['fuel', 'time', 'distance', 'sog_avg']\n",
    "\n",
    "\n",
    "dfst_fuel=pd.DataFrame([])\n",
    "dfst_distance=pd.DataFrame([])\n",
    "dfst_time=pd.DataFrame([])\n",
    "\n",
    "\n",
    "if Exclud_port==0:\n",
    "    dfcor=df_all_present1\n",
    "if Exclud_port==1:\n",
    "#     dfcor=df_all_present1[~(df_all_present1.speedOverGround<0.5) & ~(df_all_present1.deltaDistance<0.1)]\n",
    "    dfcor=df_all_present1[~(df_all_present1.speedOverGround<0.5) & ~(df_all_present1.accumDistLeg<50)]\n",
    "\n",
    "\n",
    "dfcor['lat1']=dfcor['latitude']\n",
    "dfcor['lat2']=dfcor['latitude'].shift(-1)\n",
    "dfcor['lon1']=dfcor['longitude']\n",
    "dfcor['lon2']=dfcor['longitude'].shift(-1)\n",
    "\n",
    "\n",
    "dfcor['dfr1']=dfcor['EngineFuelRate']\n",
    "dfcor = dfcor.reset_index(drop=True)\n",
    "dfcr=dfcor[['lat1', 'lat2', 'lon1', 'lon2']]\n",
    "dfcr.iloc[-1]=dfcr.iloc[-2] \n",
    "Radious = 6373.0\n",
    "lat1=np.radians(dfcr['lat1'])\n",
    "lon1=np.radians(dfcr['lon1'])\n",
    "lat2=np.radians(dfcr['lat2'])\n",
    "lon2=np.radians(dfcr['lon2'])\n",
    "dlon = lon2 - lon1\n",
    "dlat = lat2 - lat1\n",
    "a = np.sin(dlat/2)**2 + np.cos(lat1) * np.cos(lat2) * np.sin(dlon/2)**2\n",
    "c = 2 * np.arctan2(np.sqrt(a), np.sqrt(1 - a))\n",
    "\n",
    "if dist_latlon==0:\n",
    "    distance = Radious * c\n",
    "\n",
    "if dist_latlon==1:\n",
    "    distance=dfcor['accumDistLeg']/1000\n",
    "    \n",
    "distance[(distance>distance.quantile(0.9))]=distance[(distance<distance.quantile(0.9))].mean()\n",
    "\n",
    "if tempo_res=='5min':\n",
    "    d_feulcns=dfcor['dfr1']/(12)   \n",
    "if tempo_res=='2min':\n",
    "    d_feulcns=dfcor['dfr1']/(30)   \n",
    "if tempo_res=='1min':\n",
    "    d_feulcns=dfcor['dfr1']/(60)\n",
    "if tempo_res=='1S':\n",
    "    d_feulcns=dfcor['dfr1']/(60*60)\n",
    "if tempo_res=='10S':\n",
    "    d_feulcns=dfcor['dfr1']/(60*60)*10\n",
    "if tempo_res=='30S':\n",
    "    d_feulcns=dfcor['dfr1']/(60*60)*30\n",
    "    \n",
    "if tempo_res=='5min':\n",
    "    dfst_time_ExPorts.append(int(len(dfcor)/5))\n",
    "if tempo_res=='2min':\n",
    "    dfst_time_ExPorts.append(int(len(dfcor)/2))\n",
    "if tempo_res=='1min':\n",
    "    dfst_time_ExPorts.append(len(dfcor))\n",
    "if tempo_res=='1S':\n",
    "    dfst_time_ExPorts.append(int(len(dfcor))/60)\n",
    "if tempo_res=='10S':\n",
    "    dfst_time_ExPorts.append(int(len(dfcor))/60*10)\n",
    "if tempo_res=='30S':\n",
    "    dfst_time_ExPorts.append(int(len(dfcor))/60*30)\n",
    "\n",
    "time_i=distance/dfcor['speedOverGround']*1000/3600\n",
    "time_i=time_i.replace(np.inf,0)\n",
    "time_i=time_i.replace(np.nan,0)\n",
    "\n",
    "time_i_meas=time_i\n",
    "distance_meas=distance\n",
    "sog_meas=dfcor['speedOverGround']\n",
    "\n",
    "indx_t1=time_i[~(time_i>time_i.quantile(0.90))].index\n",
    "\n",
    "\n",
    "# R_t=time_i.sum()\n",
    "# R_d=distance.sum()\n",
    "R_t=time_i.iloc[indx_t1].sum()\n",
    "R_d=distance.iloc[indx_t1].sum()\n",
    "R_f=d_feulcns.sum()\n",
    "df_st['date']=df_R.index\n",
    "df_st['fuel']=R_f\n",
    "df_st['time']=R_t\n",
    "df_st['distance']=R_d\n",
    "df_st['Time_ExPorts']=dfst_time_ExPorts[0]\n",
    "\n",
    "df_st_rt1['Measured']=np.nan\n",
    "\n",
    "df_st_rt1['Measured'].loc['fuel']=R_f\n",
    "df_st_rt1['Measured'].loc['time']=R_t\n",
    "df_st_rt1['Measured'].loc['distance']=R_d\n",
    "df_st_rt1['Measured'].loc['Time_ExPorts']=dfst_time_ExPorts[0]\n",
    "df_st_rt1['Measured'].loc['sog_avg']=dfcor['speedOverGround'].mean()\n",
    "\n",
    "# Time_dtsp_avg=distance.mean()/(dfcor['speedOverGround']).mean()*1000/60\n",
    "# df_st_rt['meas_rt'].loc['Time_dtsp_avg']=Time_dtsp_avg\n",
    "\n",
    "df_st=df_st.set_index(['date'])\n",
    "# df_st.T\n",
    "\n",
    "df_stats1['Measured']=df_st_rt1\n",
    "df_st_rt1"
   ]
  },
  {
   "cell_type": "markdown",
   "metadata": {},
   "source": [
    "### Calculate fuel and time but now using predicted sog and predicted fuel... (Test data)"
   ]
  },
  {
   "cell_type": "code",
   "execution_count": 44,
   "metadata": {},
   "outputs": [
    {
     "name": "stdout",
     "output_type": "stream",
     "text": [
      "2032\n",
      "4374\n"
     ]
    }
   ],
   "source": [
    "dfnew['sog_pred']=YPred1.reshape(-1)\n",
    "\n",
    "print((dfnew.speedOverGround>0).sum())\n",
    "print((dfnew.sog_pred>0).sum())"
   ]
  },
  {
   "cell_type": "code",
   "execution_count": 45,
   "metadata": {},
   "outputs": [
    {
     "name": "stdout",
     "output_type": "stream",
     "text": [
      "4374\n"
     ]
    }
   ],
   "source": [
    "# dfnew.loc[dfnew['speedOverGround'] == 0, 'sog_pred'] = 0\n",
    "dfnew.loc[dfnew['sog_pred']< 0, 'sog_pred'] = 0\n",
    "print((dfnew.sog_pred>=0).sum())"
   ]
  },
  {
   "cell_type": "code",
   "execution_count": 46,
   "metadata": {},
   "outputs": [],
   "source": [
    "dfnew['fuel_sog_pred']=y_pred7.reshape(-1)"
   ]
  },
  {
   "cell_type": "code",
   "execution_count": 47,
   "metadata": {},
   "outputs": [
    {
     "data": {
      "text/html": [
       "<div>\n",
       "<style scoped>\n",
       "    .dataframe tbody tr th:only-of-type {\n",
       "        vertical-align: middle;\n",
       "    }\n",
       "\n",
       "    .dataframe tbody tr th {\n",
       "        vertical-align: top;\n",
       "    }\n",
       "\n",
       "    .dataframe thead th {\n",
       "        text-align: right;\n",
       "    }\n",
       "</style>\n",
       "<table border=\"1\" class=\"dataframe\">\n",
       "  <thead>\n",
       "    <tr style=\"text-align: right;\">\n",
       "      <th></th>\n",
       "      <th>SOG_Pred</th>\n",
       "    </tr>\n",
       "  </thead>\n",
       "  <tbody>\n",
       "    <tr>\n",
       "      <th>fuel</th>\n",
       "      <td>1118.428589</td>\n",
       "    </tr>\n",
       "    <tr>\n",
       "      <th>time</th>\n",
       "      <td>23.748259</td>\n",
       "    </tr>\n",
       "    <tr>\n",
       "      <th>distance</th>\n",
       "      <td>336.281866</td>\n",
       "    </tr>\n",
       "    <tr>\n",
       "      <th>sog_avg</th>\n",
       "      <td>1.572734</td>\n",
       "    </tr>\n",
       "  </tbody>\n",
       "</table>\n",
       "</div>"
      ],
      "text/plain": [
       "             SOG_Pred\n",
       "fuel      1118.428589\n",
       "time        23.748259\n",
       "distance   336.281866\n",
       "sog_avg      1.572734"
      ]
     },
     "execution_count": 47,
     "metadata": {},
     "output_type": "execute_result"
    }
   ],
   "source": [
    "df_all_present1=dfnew\n",
    "df_R=dfnew\n",
    "\n",
    "R_rt={}; R_t={}; R_d={}; R_f={}; \n",
    "\n",
    "df_stats2={}\n",
    "\n",
    "dfst_time_ExPorts=[]\n",
    "dist=[]\n",
    "tmsan=[]\n",
    "fuelcns=[]\n",
    "df_st=pd.DataFrame([])\n",
    "df_st_rt2=pd.DataFrame([])\n",
    "\n",
    "# df_st_rt.index=['fuel', 'time', 'distance', 'Time_ExPorts','Time_dtsp_avg']\n",
    "# df_st_rt.index=['fuel', 'time', 'distance', 'sog_avg','Time_dtsp_avg']\n",
    "df_st_rt2.index=['fuel', 'time', 'distance', 'sog_avg']\n",
    "\n",
    "\n",
    "dfst_fuel=pd.DataFrame([])\n",
    "dfst_distance=pd.DataFrame([])\n",
    "dfst_time=pd.DataFrame([])\n",
    "\n",
    "\n",
    "if Exclud_port==0:\n",
    "    dfcor=df_all_present1\n",
    "if Exclud_port==1:\n",
    "#     dfcor=df_all_present1[~(df_all_present1.speedOverGround<0.5) & ~(df_all_present1.deltaDistance<0.1)]\n",
    "    dfcor=df_all_present1[~(df_all_present1.speedOverGround<0.5) & ~(df_all_present1.accumDistLeg<50)]\n",
    "\n",
    "\n",
    "dfcor['lat1']=dfcor['latitude']\n",
    "dfcor['lat2']=dfcor['latitude'].shift(-1)\n",
    "dfcor['lon1']=dfcor['longitude']\n",
    "dfcor['lon2']=dfcor['longitude'].shift(-1)\n",
    "\n",
    "\n",
    "dfcor['dfr1']=dfcor['fuel_sog_pred']\n",
    "dfcor = dfcor.reset_index(drop=True)\n",
    "dfcr=dfcor[['lat1', 'lat2', 'lon1', 'lon2']]\n",
    "dfcr.iloc[-1]=dfcr.iloc[-2] \n",
    "Radious = 6373.0\n",
    "lat1=np.radians(dfcr['lat1'])\n",
    "lon1=np.radians(dfcr['lon1'])\n",
    "lat2=np.radians(dfcr['lat2'])\n",
    "lon2=np.radians(dfcr['lon2'])\n",
    "dlon = lon2 - lon1\n",
    "dlat = lat2 - lat1\n",
    "a = np.sin(dlat/2)**2 + np.cos(lat1) * np.cos(lat2) * np.sin(dlon/2)**2\n",
    "c = 2 * np.arctan2(np.sqrt(a), np.sqrt(1 - a))\n",
    "\n",
    "if dist_latlon==0:\n",
    "    distance = Radious * c\n",
    "\n",
    "if dist_latlon==1:\n",
    "    distance=dfcor['accumDistLeg']/1000\n",
    "    \n",
    "distance[(distance>distance.quantile(0.9))]=distance[(distance<distance.quantile(0.9))].mean()\n",
    "\n",
    "if tempo_res=='5min':\n",
    "    d_feulcns=dfcor['dfr1']/(12)   \n",
    "if tempo_res=='2min':\n",
    "    d_feulcns=dfcor['dfr1']/(30)   \n",
    "if tempo_res=='1min':\n",
    "    d_feulcns=dfcor['dfr1']/(60)\n",
    "if tempo_res=='1S':\n",
    "    d_feulcns=dfcor['dfr1']/(60*60)\n",
    "if tempo_res=='10S':\n",
    "    d_feulcns=dfcor['dfr1']/(60*60)*10\n",
    "if tempo_res=='30S':\n",
    "    d_feulcns=dfcor['dfr1']/(60*60)*30\n",
    "    \n",
    "if tempo_res=='5min':\n",
    "    dfst_time_ExPorts.append(int(len(dfcor)/5))\n",
    "if tempo_res=='2min':\n",
    "    dfst_time_ExPorts.append(int(len(dfcor)/2))\n",
    "if tempo_res=='1min':\n",
    "    dfst_time_ExPorts.append(len(dfcor))\n",
    "if tempo_res=='1S':\n",
    "    dfst_time_ExPorts.append(int(len(dfcor))/60)\n",
    "if tempo_res=='10S':\n",
    "    dfst_time_ExPorts.append(int(len(dfcor))/60*10)\n",
    "if tempo_res=='30S':\n",
    "    dfst_time_ExPorts.append(int(len(dfcor))/60*30)\n",
    "\n",
    "sog_small_idx=(dfcor['sog_pred']< 0.1)\n",
    "dfcor.loc[sog_small_idx, ['sog_pred', 'distance']] = 0\n",
    "\n",
    "time_i=distance/dfcor['sog_pred']*1000/3600\n",
    "time_i=time_i.replace(np.inf,0)\n",
    "time_i=time_i.replace(np.nan,0)\n",
    "\n",
    "time_i_meas=time_i\n",
    "distance_meas=distance\n",
    "sog_meas=dfcor['sog_pred']\n",
    "\n",
    "indx_t1=time_i[~(time_i>time_i.quantile(0.90))].index\n",
    "\n",
    "\n",
    "# R_t=time_i.sum()\n",
    "# R_d=distance.sum()\n",
    "R_t=time_i.iloc[indx_t1].sum()\n",
    "R_d=distance.iloc[indx_t1].sum()\n",
    "R_f=d_feulcns.sum()\n",
    "df_st['date']=df_R.index\n",
    "df_st['fuel']=R_f\n",
    "df_st['time']=R_t\n",
    "df_st['distance']=R_d\n",
    "df_st['Time_ExPorts']=dfst_time_ExPorts[0]\n",
    "\n",
    "df_st_rt2['SOG_Pred']=np.nan\n",
    "\n",
    "df_st_rt2['SOG_Pred'].loc['fuel']=R_f\n",
    "df_st_rt2['SOG_Pred'].loc['time']=R_t\n",
    "df_st_rt2['SOG_Pred'].loc['distance']=R_d\n",
    "df_st_rt2['SOG_Pred'].loc['Time_ExPorts']=dfst_time_ExPorts[0]\n",
    "df_st_rt2['SOG_Pred'].loc['sog_avg']=dfcor['sog_pred'].mean()\n",
    "\n",
    "# Time_dtsp_avg=distance.mean()/(dfcor['speedOverGround']).mean()*1000/60\n",
    "# df_st_rt['meas_rt'].loc['Time_dtsp_avg']=Time_dtsp_avg\n",
    "\n",
    "df_st=df_st.set_index(['date'])\n",
    "# df_st.T\n",
    "\n",
    "df_stats2['SOG_Pred']=df_st_rt2\n",
    "df_st_rt2"
   ]
  },
  {
   "cell_type": "markdown",
   "metadata": {},
   "source": [
    "### Calculate fuel and time but now using  predicted sog  and predicted fuel from sog_meas... (Test data)"
   ]
  },
  {
   "cell_type": "code",
   "execution_count": 48,
   "metadata": {},
   "outputs": [],
   "source": [
    "dfnew['fuel_sog_meas']=y_pred7_sog_meas.reshape(-1)"
   ]
  },
  {
   "cell_type": "code",
   "execution_count": 49,
   "metadata": {},
   "outputs": [
    {
     "data": {
      "text/html": [
       "<div>\n",
       "<style scoped>\n",
       "    .dataframe tbody tr th:only-of-type {\n",
       "        vertical-align: middle;\n",
       "    }\n",
       "\n",
       "    .dataframe tbody tr th {\n",
       "        vertical-align: top;\n",
       "    }\n",
       "\n",
       "    .dataframe thead th {\n",
       "        text-align: right;\n",
       "    }\n",
       "</style>\n",
       "<table border=\"1\" class=\"dataframe\">\n",
       "  <thead>\n",
       "    <tr style=\"text-align: right;\">\n",
       "      <th></th>\n",
       "      <th>SOG_Meas</th>\n",
       "    </tr>\n",
       "  </thead>\n",
       "  <tbody>\n",
       "    <tr>\n",
       "      <th>fuel</th>\n",
       "      <td>1256.619141</td>\n",
       "    </tr>\n",
       "    <tr>\n",
       "      <th>time</th>\n",
       "      <td>22.316846</td>\n",
       "    </tr>\n",
       "    <tr>\n",
       "      <th>distance</th>\n",
       "      <td>349.203543</td>\n",
       "    </tr>\n",
       "    <tr>\n",
       "      <th>sog_avg</th>\n",
       "      <td>1.665288</td>\n",
       "    </tr>\n",
       "  </tbody>\n",
       "</table>\n",
       "</div>"
      ],
      "text/plain": [
       "             SOG_Meas\n",
       "fuel      1256.619141\n",
       "time        22.316846\n",
       "distance   349.203543\n",
       "sog_avg      1.665288"
      ]
     },
     "execution_count": 49,
     "metadata": {},
     "output_type": "execute_result"
    }
   ],
   "source": [
    "df_all_present1=dfnew\n",
    "df_R=dfnew\n",
    "\n",
    "R_rt={}; R_t={}; R_d={}; R_f={}; \n",
    "\n",
    "df_stats3={}\n",
    "\n",
    "dfst_time_ExPorts=[]\n",
    "dist=[]\n",
    "tmsan=[]\n",
    "fuelcns=[]\n",
    "df_st=pd.DataFrame([])\n",
    "df_st_rt3=pd.DataFrame([])\n",
    "\n",
    "# df_st_rt.index=['fuel', 'time', 'distance', 'Time_ExPorts','Time_dtsp_avg']\n",
    "# df_st_rt.index=['fuel', 'time', 'distance', 'sog_avg','Time_dtsp_avg']\n",
    "df_st_rt3.index=['fuel', 'time', 'distance', 'sog_avg']\n",
    "\n",
    "\n",
    "dfst_fuel=pd.DataFrame([])\n",
    "dfst_distance=pd.DataFrame([])\n",
    "dfst_time=pd.DataFrame([])\n",
    "\n",
    "\n",
    "if Exclud_port==0:\n",
    "    dfcor=df_all_present1\n",
    "if Exclud_port==1:\n",
    "#     dfcor=df_all_present1[~(df_all_present1.speedOverGround<0.5) & ~(df_all_present1.deltaDistance<0.1)]\n",
    "    dfcor=df_all_present1[~(df_all_present1.speedOverGround<0.5) & ~(df_all_present1.accumDistLeg<50)]\n",
    "\n",
    "\n",
    "dfcor['lat1']=dfcor['latitude']\n",
    "dfcor['lat2']=dfcor['latitude'].shift(-1)\n",
    "dfcor['lon1']=dfcor['longitude']\n",
    "dfcor['lon2']=dfcor['longitude'].shift(-1)\n",
    "\n",
    "\n",
    "dfcor['dfr1']=dfcor['fuel_sog_meas']\n",
    "dfcor = dfcor.reset_index(drop=True)\n",
    "dfcr=dfcor[['lat1', 'lat2', 'lon1', 'lon2']]\n",
    "dfcr.iloc[-1]=dfcr.iloc[-2] \n",
    "Radious = 6373.0\n",
    "lat1=np.radians(dfcr['lat1'])\n",
    "lon1=np.radians(dfcr['lon1'])\n",
    "lat2=np.radians(dfcr['lat2'])\n",
    "lon2=np.radians(dfcr['lon2'])\n",
    "dlon = lon2 - lon1\n",
    "dlat = lat2 - lat1\n",
    "a = np.sin(dlat/2)**2 + np.cos(lat1) * np.cos(lat2) * np.sin(dlon/2)**2\n",
    "c = 2 * np.arctan2(np.sqrt(a), np.sqrt(1 - a))\n",
    "\n",
    "if dist_latlon==0:\n",
    "    distance = Radious * c\n",
    "\n",
    "if dist_latlon==1:\n",
    "    distance=dfcor['accumDistLeg']/1000\n",
    "    \n",
    "distance[(distance>distance.quantile(0.9))]=distance[(distance<distance.quantile(0.9))].mean()\n",
    "\n",
    "if tempo_res=='5min':\n",
    "    d_feulcns=dfcor['dfr1']/(12)   \n",
    "if tempo_res=='2min':\n",
    "    d_feulcns=dfcor['dfr1']/(30)   \n",
    "if tempo_res=='1min':\n",
    "    d_feulcns=dfcor['dfr1']/(60)\n",
    "if tempo_res=='1S':\n",
    "    d_feulcns=dfcor['dfr1']/(60*60)\n",
    "if tempo_res=='10S':\n",
    "    d_feulcns=dfcor['dfr1']/(60*60)*10\n",
    "if tempo_res=='30S':\n",
    "    d_feulcns=dfcor['dfr1']/(60*60)*30\n",
    "    \n",
    "if tempo_res=='5min':\n",
    "    dfst_time_ExPorts.append(int(len(dfcor)/5))\n",
    "if tempo_res=='2min':\n",
    "    dfst_time_ExPorts.append(int(len(dfcor)/2))\n",
    "if tempo_res=='1min':\n",
    "    dfst_time_ExPorts.append(len(dfcor))\n",
    "if tempo_res=='1S':\n",
    "    dfst_time_ExPorts.append(int(len(dfcor))/60)\n",
    "if tempo_res=='10S':\n",
    "    dfst_time_ExPorts.append(int(len(dfcor))/60*10)\n",
    "if tempo_res=='30S':\n",
    "    dfst_time_ExPorts.append(int(len(dfcor))/60*30)\n",
    "\n",
    "time_i=distance/dfcor['speedOverGround']*1000/3600\n",
    "time_i=time_i.replace(np.inf,0)\n",
    "time_i=time_i.replace(np.nan,0)\n",
    "\n",
    "time_i_meas=time_i\n",
    "distance_meas=distance\n",
    "sog_meas=dfcor['speedOverGround']\n",
    "\n",
    "indx_t1=time_i[~(time_i>time_i.quantile(0.90))].index\n",
    "\n",
    "\n",
    "# R_t=time_i.sum()\n",
    "# R_d=distance.sum()\n",
    "R_t=time_i.iloc[indx_t1].sum()\n",
    "R_d=distance.iloc[indx_t1].sum()\n",
    "R_f=d_feulcns.sum()\n",
    "df_st['date']=df_R.index\n",
    "df_st['fuel']=R_f\n",
    "df_st['time']=R_t\n",
    "df_st['distance']=R_d\n",
    "df_st['Time_ExPorts']=dfst_time_ExPorts[0]\n",
    "\n",
    "df_st_rt3['SOG_Meas']=np.nan\n",
    "\n",
    "df_st_rt3['SOG_Meas'].loc['fuel']=R_f\n",
    "df_st_rt3['SOG_Meas'].loc['time']=R_t\n",
    "df_st_rt3['SOG_Meas'].loc['distance']=R_d\n",
    "df_st_rt3['SOG_Meas'].loc['Time_ExPorts']=dfst_time_ExPorts[0]\n",
    "df_st_rt3['SOG_Meas'].loc['sog_avg']=dfcor['speedOverGround'].mean()\n",
    "\n",
    "# Time_dtsp_avg=distance.mean()/(dfcor['speedOverGround']).mean()*1000/60\n",
    "# df_st_rt['meas_rt'].loc['Time_dtsp_avg']=Time_dtsp_avg\n",
    "\n",
    "df_st=df_st.set_index(['date'])\n",
    "# df_st.T\n",
    "\n",
    "df_stats3['SOG_Meas']=df_st_rt3\n",
    "df_st_rt3"
   ]
  },
  {
   "cell_type": "markdown",
   "metadata": {},
   "source": [
    "#### Plot  fuel from LSTM Regression Model (22variables)"
   ]
  },
  {
   "cell_type": "code",
   "execution_count": 50,
   "metadata": {},
   "outputs": [
    {
     "data": {
      "image/png": "[encoded data removed]",
      "text/plain": [
       "<Figure size 1080x360 with 2 Axes>"
      ]
     },
     "metadata": {
      "needs_background": "light"
     },
     "output_type": "display_data"
    }
   ],
   "source": [
    "df_st_rt = pd.concat([df_st_rt1, df_st_rt3, df_st_rt2], axis=1) \n",
    "\n",
    "fig, ax = plt.subplots(figsize=(15,5))\n",
    "\n",
    "plt.subplot(1,2,1)\n",
    "df_st_rt.T['fuel'].plot.bar(color=['red', 'green', 'blue', ])\n",
    "plt.grid(axis='y', alpha=0.65)\n",
    "plt.ylabel('Fuel (L)', fontsize=15)\n",
    "plt.yticks(fontsize=15)\n",
    "plt.xticks(rotation=0, fontsize=15)\n",
    "\n",
    "plt.subplot(1,2,2)\n",
    "df_st_rt.T['time'].plot.bar(color=['red', 'green', 'blue', ])\n",
    "plt.grid(axis='y', alpha=0.65)\n",
    "plt.ylabel('Time (Hr)', fontsize=15)\n",
    "plt.yticks(fontsize=15)\n",
    "plt.xticks(rotation=0, fontsize=15) \n",
    "\n",
    "plt.subplots_adjust(wspace=0.2)\n",
    "\n",
    "# plt.tight_layout()\n",
    "# plt.savefig(Output_folder+'/Barplots_FL_Time_Seq2SeqReg'+file_nm_ext+'.png', dpi=300)\n",
    "\n",
    "plt.show()  "
   ]
  },
  {
   "cell_type": "code",
   "execution_count": 51,
   "metadata": {},
   "outputs": [
    {
     "data": {
      "text/plain": [
       "Measured   -14.319103\n",
       "SOG_Meas    10.997012\n",
       "SOG_Pred     0.000000\n",
       "Name: fuel, dtype: float64"
      ]
     },
     "execution_count": 51,
     "metadata": {},
     "output_type": "execute_result"
    }
   ],
   "source": [
    "improve_fuel=(df_st_rt.T.fuel-df_st_rt.SOG_Pred.fuel)/df_st_rt.T.fuel*100\n",
    "improve_fuel"
   ]
  },
  {
   "cell_type": "code",
   "execution_count": 52,
   "metadata": {},
   "outputs": [
    {
     "data": {
      "image/png": "[encoded data removed]",
      "text/plain": [
       "<Figure size 1080x360 with 2 Axes>"
      ]
     },
     "metadata": {
      "needs_background": "light"
     },
     "output_type": "display_data"
    }
   ],
   "source": [
    "df_st_rt = pd.concat([df_st_rt3, df_st_rt2], axis=1) \n",
    "\n",
    "fig, ax = plt.subplots(figsize=(15,5))\n",
    "\n",
    "plt.subplot(1,2,1)\n",
    "df_st_rt.T['fuel'].plot.bar(color=['red', 'green', 'blue', ])\n",
    "plt.grid(axis='y', alpha=0.65)\n",
    "plt.ylabel('Fuel (L)', fontsize=15)\n",
    "plt.yticks(fontsize=15)\n",
    "plt.xticks(rotation=0, fontsize=15)\n",
    "\n",
    "plt.subplot(1,2,2)\n",
    "df_st_rt.T['time'].plot.bar(color=['red', 'green', 'blue', ])\n",
    "plt.grid(axis='y', alpha=0.65)\n",
    "plt.ylabel('Time (Hr)', fontsize=15)\n",
    "plt.yticks(fontsize=15)\n",
    "plt.xticks(rotation=0, fontsize=15) \n",
    "\n",
    "plt.subplots_adjust(wspace=0.2)\n",
    "\n",
    "# plt.tight_layout()\n",
    "plt.savefig(Output_folder+'/Barplots_FL_Time_Seq2SeqReg'+file_nm_ext+'.png', dpi=300)\n",
    "\n",
    "plt.show()  "
   ]
  },
  {
   "cell_type": "code",
   "execution_count": 53,
   "metadata": {},
   "outputs": [
    {
     "name": "stdout",
     "output_type": "stream",
     "text": [
      "improve_fuel=\n",
      " SOG_Meas    10.997012\n",
      "SOG_Pred     0.000000\n",
      "Name: fuel, dtype: float64\n",
      "\n",
      "improve_time=\n",
      " SOG_Meas   -6.414048\n",
      "SOG_Pred    0.000000\n",
      "Name: time, dtype: float64\n"
     ]
    }
   ],
   "source": [
    "improve_fuel=(df_st_rt.T.fuel-df_st_rt.SOG_Pred.fuel)/df_st_rt.T.fuel*100\n",
    "print('improve_fuel=\\n',improve_fuel)\n",
    "print('')\n",
    "improve_time=(df_st_rt.T.time-df_st_rt.SOG_Pred.time)/df_st_rt.T.time*100\n",
    "print('improve_time=\\n',improve_time)"
   ]
  },
  {
   "cell_type": "code",
   "execution_count": 54,
   "metadata": {},
   "outputs": [
    {
     "data": {
      "text/html": [
       "<div>\n",
       "<style scoped>\n",
       "    .dataframe tbody tr th:only-of-type {\n",
       "        vertical-align: middle;\n",
       "    }\n",
       "\n",
       "    .dataframe tbody tr th {\n",
       "        vertical-align: top;\n",
       "    }\n",
       "\n",
       "    .dataframe thead th {\n",
       "        text-align: right;\n",
       "    }\n",
       "</style>\n",
       "<table border=\"1\" class=\"dataframe\">\n",
       "  <thead>\n",
       "    <tr style=\"text-align: right;\">\n",
       "      <th></th>\n",
       "      <th>SOG_Meas</th>\n",
       "      <th>SOG_Pred</th>\n",
       "      <th>improv</th>\n",
       "    </tr>\n",
       "  </thead>\n",
       "  <tbody>\n",
       "    <tr>\n",
       "      <th>fuel</th>\n",
       "      <td>1256.62</td>\n",
       "      <td>1118.43</td>\n",
       "      <td>11.00</td>\n",
       "    </tr>\n",
       "    <tr>\n",
       "      <th>time</th>\n",
       "      <td>22.32</td>\n",
       "      <td>23.75</td>\n",
       "      <td>-6.41</td>\n",
       "    </tr>\n",
       "    <tr>\n",
       "      <th>distance</th>\n",
       "      <td>349.20</td>\n",
       "      <td>336.28</td>\n",
       "      <td>3.70</td>\n",
       "    </tr>\n",
       "    <tr>\n",
       "      <th>sog_avg</th>\n",
       "      <td>1.67</td>\n",
       "      <td>1.57</td>\n",
       "      <td>5.56</td>\n",
       "    </tr>\n",
       "  </tbody>\n",
       "</table>\n",
       "</div>"
      ],
      "text/plain": [
       "          SOG_Meas  SOG_Pred  improv\n",
       "fuel       1256.62   1118.43   11.00\n",
       "time         22.32     23.75   -6.41\n",
       "distance    349.20    336.28    3.70\n",
       "sog_avg       1.67      1.57    5.56"
      ]
     },
     "metadata": {},
     "output_type": "display_data"
    }
   ],
   "source": [
    "# df_res=pd.DataFrame({'Sog_Mease':df_stats3.T})\n",
    "# df_res\n",
    "df_st_rt['improv']=(df_st_rt.SOG_Meas-df_st_rt.SOG_Pred)/df_st_rt.SOG_Meas*100\n",
    "display(df_st_rt.round(2))\n",
    "\n",
    "df_st_rt.round(2).to_excel(Output_folder+'/Results_'+str(Eff_limit_fg)+'_inp_'+str(var_inputs)+'_lag_'+str(lag_test)+'.xlsx')\n"
   ]
  },
  {
   "cell_type": "code",
   "execution_count": 55,
   "metadata": {},
   "outputs": [],
   "source": [
    "# st=stop"
   ]
  },
  {
   "cell_type": "code",
   "execution_count": 56,
   "metadata": {},
   "outputs": [
    {
     "name": "stdout",
     "output_type": "stream",
     "text": [
      "seq_idx= 5\n"
     ]
    }
   ],
   "source": [
    "print('seq_idx=', seq_idx)"
   ]
  },
  {
   "cell_type": "code",
   "execution_count": 57,
   "metadata": {},
   "outputs": [
    {
     "data": {
      "text/html": [
       "<div>\n",
       "<style scoped>\n",
       "    .dataframe tbody tr th:only-of-type {\n",
       "        vertical-align: middle;\n",
       "    }\n",
       "\n",
       "    .dataframe tbody tr th {\n",
       "        vertical-align: top;\n",
       "    }\n",
       "\n",
       "    .dataframe thead th {\n",
       "        text-align: right;\n",
       "    }\n",
       "</style>\n",
       "<table border=\"1\" class=\"dataframe\">\n",
       "  <thead>\n",
       "    <tr style=\"text-align: right;\">\n",
       "      <th></th>\n",
       "      <th>speedOverGround</th>\n",
       "      <th>speedApparent</th>\n",
       "    </tr>\n",
       "  </thead>\n",
       "  <tbody>\n",
       "    <tr>\n",
       "      <th>count</th>\n",
       "      <td>10665.000000</td>\n",
       "      <td>10665.000000</td>\n",
       "    </tr>\n",
       "    <tr>\n",
       "      <th>mean</th>\n",
       "      <td>3.476405</td>\n",
       "      <td>7.343194</td>\n",
       "    </tr>\n",
       "    <tr>\n",
       "      <th>std</th>\n",
       "      <td>1.216466</td>\n",
       "      <td>3.930607</td>\n",
       "    </tr>\n",
       "    <tr>\n",
       "      <th>min</th>\n",
       "      <td>0.503725</td>\n",
       "      <td>0.080349</td>\n",
       "    </tr>\n",
       "    <tr>\n",
       "      <th>25%</th>\n",
       "      <td>2.793400</td>\n",
       "      <td>4.379857</td>\n",
       "    </tr>\n",
       "    <tr>\n",
       "      <th>50%</th>\n",
       "      <td>3.914775</td>\n",
       "      <td>6.795093</td>\n",
       "    </tr>\n",
       "    <tr>\n",
       "      <th>75%</th>\n",
       "      <td>4.330200</td>\n",
       "      <td>9.704185</td>\n",
       "    </tr>\n",
       "    <tr>\n",
       "      <th>max</th>\n",
       "      <td>5.954200</td>\n",
       "      <td>31.113290</td>\n",
       "    </tr>\n",
       "  </tbody>\n",
       "</table>\n",
       "</div>"
      ],
      "text/plain": [
       "       speedOverGround  speedApparent\n",
       "count     10665.000000   10665.000000\n",
       "mean          3.476405       7.343194\n",
       "std           1.216466       3.930607\n",
       "min           0.503725       0.080349\n",
       "25%           2.793400       4.379857\n",
       "50%           3.914775       6.795093\n",
       "75%           4.330200       9.704185\n",
       "max           5.954200      31.113290"
      ]
     },
     "execution_count": 57,
     "metadata": {},
     "output_type": "execute_result"
    }
   ],
   "source": [
    "df[[\"speedOverGround\",\"speedApparent\"]].describe()"
   ]
  },
  {
   "cell_type": "code",
   "execution_count": 58,
   "metadata": {},
   "outputs": [
    {
     "name": "stdout",
     "output_type": "stream",
     "text": [
      "Time taken: 132.85932159423828 seconds\n"
     ]
    }
   ],
   "source": [
    "end_time_all = time.time()\n",
    "elapsed_time_all = end_time_all - start_time_all\n",
    "print(f\"Time taken: {elapsed_time_all} seconds\")"
   ]
  },
  {
   "cell_type": "code",
   "execution_count": 59,
   "metadata": {
    "scrolled": true
   },
   "outputs": [
    {
     "name": "stdout",
     "output_type": "stream",
     "text": [
      "2.2546844\n",
      "2.1072226\n"
     ]
    }
   ],
   "source": [
    "print(X[:,:, 0].max())\n",
    "print(X[:,:, 1].max())"
   ]
  },
  {
   "cell_type": "code",
   "execution_count": 60,
   "metadata": {},
   "outputs": [
    {
     "data": {
      "text/plain": [
       "'Cruising_Speeds'"
      ]
     },
     "execution_count": 60,
     "metadata": {},
     "output_type": "execute_result"
    }
   ],
   "source": [
    "nth_mid_sth_fg"
   ]
  },
  {
   "cell_type": "code",
   "execution_count": 61,
   "metadata": {},
   "outputs": [
    {
     "data": {
      "text/plain": [
       "1"
      ]
     },
     "execution_count": 61,
     "metadata": {},
     "output_type": "execute_result"
    }
   ],
   "source": [
    "gr_ock_fg"
   ]
  },
  {
   "cell_type": "code",
   "execution_count": 62,
   "metadata": {},
   "outputs": [
    {
     "data": {
      "text/plain": [
       "5"
      ]
     },
     "execution_count": 62,
     "metadata": {},
     "output_type": "execute_result"
    }
   ],
   "source": [
    "Reg_Mod_inps"
   ]
  },
  {
   "cell_type": "code",
   "execution_count": 63,
   "metadata": {},
   "outputs": [
    {
     "data": {
      "text/plain": [
       "12"
      ]
     },
     "execution_count": 63,
     "metadata": {},
     "output_type": "execute_result"
    }
   ],
   "source": [
    "var_inputs"
   ]
  },
  {
   "cell_type": "code",
   "execution_count": 64,
   "metadata": {},
   "outputs": [
    {
     "data": {
      "text/plain": [
       "['Top10']"
      ]
     },
     "execution_count": 64,
     "metadata": {},
     "output_type": "execute_result"
    }
   ],
   "source": [
    "Eff_limit_combs"
   ]
  },
  {
   "cell_type": "code",
   "execution_count": 65,
   "metadata": {},
   "outputs": [
    {
     "data": {
      "text/plain": [
       "1"
      ]
     },
     "execution_count": 65,
     "metadata": {},
     "output_type": "execute_result"
    }
   ],
   "source": [
    "lag_test"
   ]
  },
  {
   "cell_type": "code",
   "execution_count": 66,
   "metadata": {},
   "outputs": [
    {
     "data": {
      "text/plain": [
       "82"
      ]
     },
     "execution_count": 66,
     "metadata": {},
     "output_type": "execute_result"
    }
   ],
   "source": [
    "len(rt_id_train)"
   ]
  },
  {
   "cell_type": "code",
   "execution_count": 67,
   "metadata": {},
   "outputs": [],
   "source": [
    "# Simi_dict"
   ]
  },
  {
   "cell_type": "code",
   "execution_count": 68,
   "metadata": {},
   "outputs": [
    {
     "data": {
      "text/html": [
       "<div>\n",
       "<style scoped>\n",
       "    .dataframe tbody tr th:only-of-type {\n",
       "        vertical-align: middle;\n",
       "    }\n",
       "\n",
       "    .dataframe tbody tr th {\n",
       "        vertical-align: top;\n",
       "    }\n",
       "\n",
       "    .dataframe thead th {\n",
       "        text-align: right;\n",
       "    }\n",
       "</style>\n",
       "<table border=\"1\" class=\"dataframe\">\n",
       "  <thead>\n",
       "    <tr style=\"text-align: right;\">\n",
       "      <th></th>\n",
       "      <th>SOG_Meas</th>\n",
       "      <th>SOG_Pred</th>\n",
       "      <th>improv</th>\n",
       "    </tr>\n",
       "  </thead>\n",
       "  <tbody>\n",
       "    <tr>\n",
       "      <th>fuel</th>\n",
       "      <td>1256.62</td>\n",
       "      <td>1118.43</td>\n",
       "      <td>11.00</td>\n",
       "    </tr>\n",
       "    <tr>\n",
       "      <th>time</th>\n",
       "      <td>22.32</td>\n",
       "      <td>23.75</td>\n",
       "      <td>-6.41</td>\n",
       "    </tr>\n",
       "    <tr>\n",
       "      <th>distance</th>\n",
       "      <td>349.20</td>\n",
       "      <td>336.28</td>\n",
       "      <td>3.70</td>\n",
       "    </tr>\n",
       "    <tr>\n",
       "      <th>sog_avg</th>\n",
       "      <td>1.67</td>\n",
       "      <td>1.57</td>\n",
       "      <td>5.56</td>\n",
       "    </tr>\n",
       "  </tbody>\n",
       "</table>\n",
       "</div>"
      ],
      "text/plain": [
       "          SOG_Meas  SOG_Pred  improv\n",
       "fuel       1256.62   1118.43   11.00\n",
       "time         22.32     23.75   -6.41\n",
       "distance    349.20    336.28    3.70\n",
       "sog_avg       1.67      1.57    5.56"
      ]
     },
     "metadata": {},
     "output_type": "display_data"
    }
   ],
   "source": [
    "display(df_st_rt.round(2))"
   ]
  },
  {
   "cell_type": "code",
   "execution_count": 69,
   "metadata": {},
   "outputs": [
    {
     "name": "stdout",
     "output_type": "stream",
     "text": [
      "Time taken: 132.85932159423828 seconds\n"
     ]
    }
   ],
   "source": [
    "###Time taken: 124.30116391181946 seconds\n",
    "print(f\"Time taken: {elapsed_time_all} seconds\")"
   ]
  },
  {
   "cell_type": "code",
   "execution_count": 70,
   "metadata": {},
   "outputs": [],
   "source": [
    "# print(Simi_dict)"
   ]
  },
  {
   "cell_type": "code",
   "execution_count": 71,
   "metadata": {},
   "outputs": [],
   "source": [
    "# st=stop\n"
   ]
  },
  {
   "cell_type": "markdown",
   "metadata": {},
   "source": [
    "## Some Selected Plots"
   ]
  },
  {
   "cell_type": "code",
   "execution_count": 72,
   "metadata": {},
   "outputs": [
    {
     "data": {
      "text/plain": [
       "5"
      ]
     },
     "execution_count": 72,
     "metadata": {},
     "output_type": "execute_result"
    }
   ],
   "source": [
    "seq_idx"
   ]
  },
  {
   "cell_type": "code",
   "execution_count": 73,
   "metadata": {},
   "outputs": [],
   "source": [
    "### from Selected_Plots_HMM_WeathLag26_Cruis_SOG_v2.ipynb  ###\n",
    "most_likely_states = np.array([1, 1, 1, 1, 2, 2, 2, 0, 2, 0, 0, 0, 0, 1, 2, 0, 2, 0, 0, 0, 2, 0, 0, 1, 2, 0, 1, 1, 1, 2, 0, 0, 2, 0, 1, 2, 2, 0, 2, 1, 2, 1, 1, 2, 0, 0, 2, 2, 0, 0, 0, 1, 1, 1, 1, 2, 1, 2, 0, 0, 1, 1, 2, 0, 2, 2, 0, 1, 1, 2, 2, 0, 1, 1, 1, 1, 2, 0, 2, 0, 1, 2, 0, 0, 0, 0, 0, 0, 0, 1, 1, 2, 0, 1, 2, 0, 2, 0, 0, 2, 2, 1, 2, 0, 2, 0, 0, 0, 0, 0, 2, 1, 1, 2, 1, 2, 0, 1, 1, 2, 0, 1, 1, 1, 2, 0, 0, 1, 1, 2, 1, 1, 1, 1, 2, 2, 0, 1, 2, 0, 0, 0, 0, 0, 0, 2, 1, 1, 1, 2, 0, 0, 0, 2, 0, 0, 0, 1, 2, 2, 2, 1], dtype=int)\n"
   ]
  },
  {
   "cell_type": "code",
   "execution_count": 74,
   "metadata": {},
   "outputs": [],
   "source": [
    "sorted_weather_states={2: 'calm_weather', 1: 'moderate_weather', 0: 'extrem_weather'}"
   ]
  },
  {
   "cell_type": "code",
   "execution_count": 75,
   "metadata": {},
   "outputs": [
    {
     "data": {
      "text/plain": [
       "array([1, 1, 1, 1, 2, 2, 2, 0, 2, 0, 0, 0, 0, 1, 2, 0, 2, 0, 0, 0, 2, 0,\n",
       "       0, 1, 2, 0, 1, 1, 1, 2, 0, 0, 2, 0, 1, 2, 2, 0, 2, 1, 2, 1, 1, 2,\n",
       "       0, 0, 2, 2, 0, 0, 0, 1, 1, 1, 1, 2, 1, 2, 0, 0, 1, 1, 2, 0, 2, 2,\n",
       "       0, 1, 1, 2, 2, 0, 1, 1, 1, 1, 2, 0, 2, 0, 1, 2, 0, 0, 0, 0, 0, 0,\n",
       "       0, 1, 1, 2, 0, 1, 2, 0, 2, 0, 0, 2, 2, 1, 2, 0, 2, 0, 0, 0, 0, 0,\n",
       "       2, 1, 1, 2, 1, 2, 0, 1, 1, 2, 0, 1, 1, 1, 2, 0, 0, 1, 1, 2, 1, 1,\n",
       "       1, 1, 2, 2, 0, 1, 2, 0, 0, 0, 0, 0, 0, 2, 1, 1, 1, 2, 0, 0, 0, 2,\n",
       "       0, 0, 0, 1, 2, 2, 2, 1])"
      ]
     },
     "execution_count": 75,
     "metadata": {},
     "output_type": "execute_result"
    }
   ],
   "source": [
    "# states_to_sog_indexes\n",
    "# sog_opt_avg\n",
    "most_likely_states"
   ]
  },
  {
   "cell_type": "code",
   "execution_count": 76,
   "metadata": {},
   "outputs": [
    {
     "name": "stdout",
     "output_type": "stream",
     "text": [
      "seq_idx= 10\n",
      "weather_state= extrem_weather\n",
      "RT_id= 1034\n"
     ]
    }
   ],
   "source": [
    "# seq_idx=0\n",
    "# seq_idx=1\n",
    "# seq_idx=2\n",
    "# seq_idx=3\n",
    "# seq_idx=4\n",
    "# seq_idx=5\n",
    "# seq_idx=6\n",
    "# seq_idx=7\n",
    "# seq_idx=8\n",
    "# seq_idx=9\n",
    "seq_idx=10\n",
    "# seq_idx=11\n",
    "# seq_idx=12\n",
    "\n",
    "# seq_idx=25\n",
    "\n",
    "# seq_idx=97\n",
    "\n",
    "\n",
    "\n",
    "print('seq_idx=', seq_idx)\n",
    "print('weather_state=', sorted_weather_states[most_likely_states[seq_idx]])\n",
    "print('RT_id=', dfnew.RT_id.unique()[seq_idx])"
   ]
  },
  {
   "cell_type": "code",
   "execution_count": 77,
   "metadata": {},
   "outputs": [
    {
     "name": "stdout",
     "output_type": "stream",
     "text": [
      "(14, 6)\n",
      "fuel_sog_meas    1256.611084\n",
      "fuel_sog_pred    1118.424561\n",
      "dtype: float32\n",
      "Fuel_meas= 6.22\n",
      "Fuel_pred= 4.5\n"
     ]
    }
   ],
   "source": [
    "df_sog_fuel=dfnew.round(2) \n",
    "df_sog_fuel['fuel_sog_pred']=y_pred7.reshape(-1).round(2) \n",
    "df_sog_fuel['fuel_sog_meas']=y_pred7_sog_meas.reshape(-1).round(2) \n",
    "\n",
    "df_filter=df_sog_fuel[(dfnew['RT_id'] == df_sog_fuel.RT_id.unique()[seq_idx]) & (df_sog_fuel['speedOverGround'] > 0)][['RT_id','distance', 'speedOverGround', 'sog_pred', 'fuel_sog_meas', 'fuel_sog_pred']]\n",
    "print(df_filter.shape)\n",
    "print((df_sog_fuel[['fuel_sog_meas', 'fuel_sog_pred']]/(60)).sum())\n",
    "\n",
    "\n",
    "fuel_stats = (df_filter[['fuel_sog_meas', 'fuel_sog_pred']]/(60)).sum().round(2) \n",
    "\n",
    "print('Fuel_meas=', fuel_stats.fuel_sog_meas)\n",
    "print('Fuel_pred=', fuel_stats.fuel_sog_pred)"
   ]
  },
  {
   "cell_type": "code",
   "execution_count": 78,
   "metadata": {},
   "outputs": [
    {
     "name": "stdout",
     "output_type": "stream",
     "text": [
      "Total_time_meas= 13.42 min\n",
      "Total_time_pred= 15.68 min\n"
     ]
    }
   ],
   "source": [
    "sog_small_idx=(df_filter['speedOverGround']< 0.1)\n",
    "df_filter.loc[sog_small_idx, ['speedOverGround', 'distance']] = 0\n",
    "time_i=df_filter.distance/df_filter['speedOverGround']*1000/3600\n",
    "\n",
    "time_i=time_i.replace(np.inf,0)\n",
    "time_i=time_i.replace(np.nan,0)\n",
    "Time_meas=round(time_i.sum()*60,2)\n",
    "\n",
    "sog_small_idx=(df_filter['sog_pred']< 0.1)\n",
    "df_filter.loc[sog_small_idx, ['sog_pred', 'distance']] = 0\n",
    "time_i=df_filter.distance/df_filter['sog_pred']*1000/3600\n",
    "\n",
    "# time_i=time_i.replace(np.inf,0)\n",
    "# time_i=time_i.replace(np.nan,0)\n",
    "Time_pred=round(time_i.sum()*60,2)\n",
    "\n",
    "\n",
    "Total_time_meas = Time_meas  \n",
    "Total_time_pred = Time_pred  \n",
    "\n",
    "print('Total_time_meas=', Total_time_meas, 'min')\n",
    "print('Total_time_pred=', Total_time_pred, 'min')"
   ]
  },
  {
   "cell_type": "code",
   "execution_count": 79,
   "metadata": {},
   "outputs": [
    {
     "data": {
      "text/plain": [
       "'KNN'"
      ]
     },
     "execution_count": 79,
     "metadata": {},
     "output_type": "execute_result"
    }
   ],
   "source": [
    "model_name = Output_folder_main.split('_')[0]\n",
    "model_name"
   ]
  },
  {
   "cell_type": "code",
   "execution_count": 80,
   "metadata": {},
   "outputs": [
    {
     "data": {
      "image/png": "[encoded data removed]",
      "text/plain": [
       "<Figure size 1152x576 with 1 Axes>"
      ]
     },
     "metadata": {
      "needs_background": "light"
     },
     "output_type": "display_data"
    }
   ],
   "source": [
    "# Plot\n",
    "Waypts = 18\n",
    "\n",
    "if tempo_res == '1min':\n",
    "    tm = '(Min.)'\n",
    "if tempo_res == '1S':\n",
    "    tm = '(Sec.)'\n",
    "\n",
    "Ypred2 = y_pred2.reshape(-1)\n",
    "Ytest2 = Y_test2[:, 0]\n",
    "\n",
    "fig, ax1 = plt.subplots(figsize=(16, 8))\n",
    "\n",
    "x_ticks = np.arange(0, Waypts)\n",
    "\n",
    "# Offset the position of the new axis\n",
    "offset = 60  # Adjust the offset as needed to avoid overlapping\n",
    "# ax3.spines['right'].set_position(('outward', offset))\n",
    "\n",
    "ax1.plot(x_ticks, YTest1[seq_idx, 0:Waypts], 'b', label=\"SOG_Meas.: \"+\"Fuel = \"+str(fuel_stats.fuel_sog_meas)+\"L\"\n",
    "         +\", Time = \"+str(Total_time_meas)+\"min\", linewidth=5)\n",
    "\n",
    "ax1.plot(x_ticks,YPred1[seq_idx, 1:Waypts + 1], 'orange', label=\"SOG_Pred.: \"+\"Fuel = \"+str(fuel_stats.fuel_sog_pred)+\"L\"\n",
    "         +\", Time = \"+str(Total_time_pred)+\"min\", linewidth=5)\n",
    "\n",
    "\n",
    "\n",
    "plt.xticks(x_ticks)\n",
    "\n",
    "\n",
    "plt.title('Vessel Speed (SOG), measured (SOG_Meas.) and predicted (SOG_Pred.) for voyage '+str(seq_idx),  fontsize=20)\n",
    "\n",
    "ax1.set_xlabel('Waypoints', fontsize=18)\n",
    "ax1.set_ylabel('SpeedOverGround (SOG) (m/s)', fontsize=18)\n",
    "\n",
    "\n",
    "ax1.tick_params(axis='y', labelsize=16) \n",
    "ax1.tick_params(axis='x', labelsize=16) \n",
    "\n",
    "ax1.set_ylim(-0.5, 6)\n",
    "\n",
    "\n",
    "ax1.legend(loc=\"lower left\", bbox_to_anchor=(0.0, 0.15), ncol=1, borderaxespad=0, frameon=False, fontsize=20)\n",
    "\n",
    "ax1.grid(linestyle='--')\n",
    "\n",
    "ax1.grid(which='minor', linestyle='--', alpha=0.5)\n",
    "\n",
    "plt.tight_layout()\n",
    "plt.savefig(Output_folder+'/Fig_'+model_name+'_SOG_EFFscore_seq'+str(seq_idx)+'_Weathers'+'.png', dpi=500)\n",
    "\n",
    "\n",
    "plt.show()  \n"
   ]
  },
  {
   "cell_type": "code",
   "execution_count": 81,
   "metadata": {},
   "outputs": [],
   "source": [
    "# st=stop"
   ]
  },
  {
   "cell_type": "code",
   "execution_count": 82,
   "metadata": {},
   "outputs": [
    {
     "name": "stdout",
     "output_type": "stream",
     "text": [
      "(39193, 71)\n"
     ]
    },
    {
     "data": {
      "text/plain": [
       "fuel_total    12.922370\n",
       "time_total    29.567607\n",
       "dtype: float64"
      ]
     },
     "execution_count": 82,
     "metadata": {},
     "output_type": "execute_result"
    }
   ],
   "source": [
    "print(dforig.shape)\n",
    "df.columns\n",
    "df[['fuel_total', 'time_total']].max()"
   ]
  },
  {
   "cell_type": "code",
   "execution_count": 83,
   "metadata": {},
   "outputs": [
    {
     "name": "stdout",
     "output_type": "stream",
     "text": [
      "Fuel_meas= 6.22\n",
      "Fuel_pred= 4.5\n",
      "Total_time_meas= 13.42 min\n",
      "Total_time_pred= 15.68 min\n",
      "eff_meas for seq10= 0.5327977080906545\n",
      "eff_pred for seq10= 0.5795958540926252\n",
      "\n",
      "eff_meas for seq10= 0.53\n",
      "eff_pred for seq10= 0.58\n"
     ]
    }
   ],
   "source": [
    "print('Fuel_meas=', fuel_stats.fuel_sog_meas)\n",
    "print('Fuel_pred=', fuel_stats.fuel_sog_pred)\n",
    "print('Total_time_meas=', Total_time_meas, 'min')\n",
    "print('Total_time_pred=', Total_time_pred, 'min')\n",
    "\n",
    "fl_meas_norm=fuel_stats.fuel_sog_meas/df['fuel_total'].max()\n",
    "fl_pred_norm=fuel_stats.fuel_sog_pred/df['fuel_total'].max()\n",
    "\n",
    "tm_meas_norm=Total_time_meas/df['time_total'].max()\n",
    "tm_pred_norm=Total_time_pred/df['time_total'].max()\n",
    "\n",
    "eff_meas_seq=1-(2*(fl_meas_norm*tm_meas_norm)/(fl_meas_norm+tm_meas_norm))\n",
    "eff_pred_seq=1-(2*(fl_pred_norm*tm_pred_norm)/(fl_pred_norm+tm_pred_norm))\n",
    "\n",
    "print('eff_meas for seq'+str(seq_idx)+'=', eff_meas_seq)\n",
    "print('eff_pred for seq'+str(seq_idx)+'=', eff_pred_seq)\n",
    "\n",
    "print()\n",
    "print('eff_meas for seq'+str(seq_idx)+'=', round(eff_meas_seq,2))\n",
    "print('eff_pred for seq'+str(seq_idx)+'=', round(eff_pred_seq,2))"
   ]
  },
  {
   "cell_type": "code",
   "execution_count": 84,
   "metadata": {},
   "outputs": [
    {
     "data": {
      "image/png": "[encoded data removed]",
      "text/plain": [
       "<Figure size 1152x576 with 2 Axes>"
      ]
     },
     "metadata": {
      "needs_background": "light"
     },
     "output_type": "display_data"
    }
   ],
   "source": [
    "# Plot\n",
    "Waypts = 18\n",
    "\n",
    "if tempo_res == '1min':\n",
    "    tm = '(Min.)'\n",
    "if tempo_res == '1S':\n",
    "    tm = '(Sec.)'\n",
    "\n",
    "Ypred2 = y_pred2.reshape(-1)\n",
    "Ytest2 = Y_test2[:, 0]\n",
    "\n",
    "fig, ax1 = plt.subplots(figsize=(16, 8))\n",
    "\n",
    "x_ticks = np.arange(0, Waypts)\n",
    "ax2 = ax1.twinx()\n",
    "\n",
    "# Offset the position of the new axis\n",
    "offset = 60  # Adjust the offset as needed to avoid overlapping\n",
    "# ax3.spines['right'].set_position(('outward', offset))\n",
    "\n",
    "ax1.plot(x_ticks, YTest1[seq_idx, 0:Waypts], 'b', label=\"SOG_Meas.: \"+\"Fuel = \"+str(fuel_stats.fuel_sog_meas)+\"L\"\n",
    "         +\", Time = \"+str(Total_time_meas)+\"min\", linewidth=5)\n",
    "\n",
    "ax1.plot(x_ticks,YPred1[seq_idx, 1:Waypts + 1], 'orange', label=\"SOG_Pred.: \"+\"Fuel = \"+str(fuel_stats.fuel_sog_pred)+\"L\"\n",
    "         +\", Time = \"+str(Total_time_pred)+\"min\", linewidth=5)\n",
    "\n",
    "\n",
    "ax2.axhline(y=eff_meas_seq, color='b', linestyle=':', label=\"Eff_SOG_Meas.=\" + str(round(eff_meas_seq, 3)), linewidth=3)\n",
    "ax2.axhline(y=eff_pred_seq, color='orange', linestyle=':', label=\"Eff_SOG_Pred.=\" + str(round(eff_pred_seq, 3)), linewidth=3)\n",
    "\n",
    "ax2.legend(loc=\"upper right\", bbox_to_anchor=(0.95, 0.95), ncol=1, borderaxespad=0, frameon=False, fontsize=20)\n",
    "\n",
    "\n",
    "plt.xticks(x_ticks)\n",
    "\n",
    "\n",
    "plt.title('Vessel Speed (SOG), measured (SOG_Meas.) and predicted (SOG_Pred.) for voyage '+str(seq_idx),  fontsize=20)\n",
    "\n",
    "ax1.set_xlabel('Waypoints', fontsize=18)\n",
    "ax1.set_ylabel('SpeedOverGround (SOG) (m/s)', fontsize=18)\n",
    "ax2.set_ylabel('Eff-Score (Normalized)', fontsize=18)\n",
    "\n",
    "\n",
    "ax1.tick_params(axis='y', labelsize=16) \n",
    "ax1.tick_params(axis='x', labelsize=16) \n",
    "ax2.tick_params(axis='y', labelsize=16) \n",
    "\n",
    "\n",
    "ax1.set_ylim(-0.5, 6)\n",
    "ax2.set_ylim(0, 1)\n",
    "\n",
    "\n",
    "\n",
    "ax1.legend(loc=\"lower left\", bbox_to_anchor=(0.0, 0.10), ncol=1, borderaxespad=0, frameon=False, fontsize=20)\n",
    "\n",
    "ax1.grid(linestyle='--')\n",
    "\n",
    "ax1.grid(which='minor', linestyle='--', alpha=0.5)\n",
    "\n",
    "plt.tight_layout()\n",
    "plt.savefig(Output_folder+'/Fig_'+model_name+'_Line_EFFscore_SOG_seq'+str(seq_idx)+'_Weathers'+'.png', dpi=500)\n",
    "\n",
    "\n",
    "plt.show()  \n"
   ]
  },
  {
   "cell_type": "code",
   "execution_count": 85,
   "metadata": {},
   "outputs": [],
   "source": [
    "# st=stop"
   ]
  },
  {
   "cell_type": "markdown",
   "metadata": {},
   "source": [
    "## Caclulate Eff-meas and Eff-pred for test dataset"
   ]
  },
  {
   "cell_type": "code",
   "execution_count": 86,
   "metadata": {},
   "outputs": [
    {
     "data": {
      "text/plain": [
       "162"
      ]
     },
     "execution_count": 86,
     "metadata": {},
     "output_type": "execute_result"
    }
   ],
   "source": [
    "len(rt_id_test)"
   ]
  },
  {
   "cell_type": "code",
   "execution_count": 87,
   "metadata": {},
   "outputs": [],
   "source": [
    "df_90 = pd.read_excel('TSA_Results/Top10_LSTM_DTW_KNN_HMM.xlsx')"
   ]
  },
  {
   "cell_type": "code",
   "execution_count": 88,
   "metadata": {},
   "outputs": [
    {
     "name": "stdout",
     "output_type": "stream",
     "text": [
      "         Voyage Weather_State   Weather_String   fuel_meas  time_meas  \\\n",
      "sum      102540         149.0            Total  893.750001    1926.27   \n",
      "avg  632.962963      0.919753  extreme_weather    5.516975  11.890556   \n",
      "\n",
      "     eff_meas   fuel_pred  time_pred   eff_pred  eff_diff    eff_gain  \n",
      "sum  95.67018  789.200004    2067.23  97.609579  1.939399  345.179702  \n",
      "avg  0.590557    4.871605  12.760679   0.602528  0.011972    2.130739  \n"
     ]
    }
   ],
   "source": [
    "df_eff_test = pd.DataFrame(columns=['Voyage','Weather_State', 'Weather_String',\n",
    "                                    'fuel_meas', 'time_meas', 'eff_meas',\n",
    "                                    'fuel_pred', 'time_pred', 'eff_pred'])\n",
    "\n",
    "df_sog_fuel=dfnew.round(2) \n",
    "df_sog_fuel['fuel_sog_pred']=y_pred7.reshape(-1).round(2) \n",
    "df_sog_fuel['fuel_sog_meas']=y_pred7_sog_meas.reshape(-1).round(2) \n",
    "\n",
    "\n",
    "for voyag_id in rt_id_test:\n",
    "    w_st = df_90.loc[df_90['Voyage'] == voyag_id, 'Weather_State'].values[0]\n",
    "    w_str = df_90.loc[df_90['Voyage'] == voyag_id, 'Weather_String'].values[0]\n",
    "    df_sog_fuel=dfnew.round(2) \n",
    "    df_filter=df_sog_fuel[(dfnew['RT_id'] == voyag_id) & (df_sog_fuel['speedOverGround'] > 0)][['RT_id','distance', 'speedOverGround', 'sog_pred', 'fuel_sog_meas', 'fuel_sog_pred']]\n",
    "    fuel_stats = (df_filter[['fuel_sog_meas', 'fuel_sog_pred']]/(60)).sum().round(2) \n",
    "\n",
    "    sog_small_idx=(df_filter['speedOverGround']< 0.1)\n",
    "    df_filter.loc[sog_small_idx, ['speedOverGround', 'distance']] = 0\n",
    "    time_i=df_filter.distance/df_filter['speedOverGround']*1000/3600\n",
    "\n",
    "    time_i=time_i.replace(np.inf,0)\n",
    "    time_i=time_i.replace(np.nan,0)\n",
    "    Time_meas=round(time_i.sum()*60,2)\n",
    "\n",
    "    sog_small_idx=(df_filter['sog_pred']< 0.1)\n",
    "    df_filter.loc[sog_small_idx, ['sog_pred', 'distance']] = 0\n",
    "    time_i=df_filter.distance/df_filter['sog_pred']*1000/3600\n",
    "\n",
    "    time_i=time_i.replace(np.inf,0)\n",
    "    time_i=time_i.replace(np.nan,0)\n",
    "    Time_pred=round(time_i.sum()*60,2)\n",
    "\n",
    "    Total_time_meas = Time_meas  \n",
    "    Total_time_pred = Time_pred  \n",
    "\n",
    "    df[['fuel_total', 'time_total']].max()\n",
    "\n",
    "    fl_meas_norm=fuel_stats.fuel_sog_meas/df['fuel_total'].max()\n",
    "    fl_pred_norm=fuel_stats.fuel_sog_pred/df['fuel_total'].max()\n",
    "\n",
    "    tm_meas_norm=Total_time_meas/df['time_total'].max()\n",
    "    tm_pred_norm=Total_time_pred/df['time_total'].max()\n",
    "\n",
    "    eff_meas_seq=1-(2*(fl_meas_norm*tm_meas_norm)/(fl_meas_norm+tm_meas_norm))\n",
    "    eff_pred_seq=1-(2*(fl_pred_norm*tm_pred_norm)/(fl_pred_norm+tm_pred_norm))\n",
    "    \n",
    "#     print('Voyag_id=', voyag_id)\n",
    "\n",
    "    df_eff_test = df_eff_test.append({'Voyage': voyag_id, 'Weather_State':w_st, 'Weather_String':w_str,\n",
    "                                      'fuel_meas':fuel_stats.fuel_sog_meas, 'fuel_pred':fuel_stats.fuel_sog_pred,\n",
    "                                      'time_meas':Total_time_meas, 'time_pred':Total_time_pred,\n",
    "                                      'eff_meas': eff_meas_seq, 'eff_pred': eff_pred_seq}, ignore_index=True)\n",
    "    \n",
    "\n",
    "\n",
    "# Assuming df_eff_test is your existing DataFrame\n",
    "df_eff_test['eff_diff'] = df_eff_test['eff_pred'] - df_eff_test['eff_meas']\n",
    "df_eff_test['eff_gain'] = (df_eff_test['eff_diff'] / df_eff_test['eff_meas']) * 100\n",
    "\n",
    "\n",
    "# Calculate the sum and mean for each column\n",
    "sum_row = df_eff_test[['Voyage', 'Weather_State', 'Weather_String', 'fuel_meas','time_meas','eff_meas','fuel_pred','time_pred','eff_pred', 'eff_diff', 'eff_gain']].sum()\n",
    "avg_row = df_eff_test[['Voyage', 'Weather_State', 'Weather_String', 'fuel_meas','time_meas','eff_meas','fuel_pred','time_pred','eff_pred', 'eff_diff', 'eff_gain']].mean()\n",
    "\n",
    "sum_row['Weather_String'] = 'Total'\n",
    "avg_row['Weather_String']=df_eff_test['Weather_String'].mode()[0]\n",
    "\n",
    "# Create DataFrames for the sum and mean rows\n",
    "sum_df = pd.DataFrame(sum_row).T\n",
    "avg_df = pd.DataFrame(avg_row).T\n",
    "\n",
    "# Set the index for the sum and mean DataFrames\n",
    "sum_df.index = ['sum']\n",
    "avg_df.index = ['avg']\n",
    "\n",
    "# Concatenate the sum and mean DataFrames with the sorted DataFrame\n",
    "df_eff_test_sum_avg = pd.concat([df_eff_test, sum_df, avg_df])\n",
    "\n",
    "# print(df_eff_test_sum_avg.head())\n",
    "\n",
    "df_eff_test_sum_avg.to_excel(Output_folder+'/Eff_test_meas_pred_'+str(Eff_limit_fg)+'_inp_'+str(var_inputs)+'_lag_'+str(lag_test)+'.xlsx')\n",
    "df_eff_test_sum_avg.to_excel('Stats_Counts_v1/Results'+'/'+model_name+'_Eff_test_meas_pred_'+str(Eff_limit_fg)+'.xlsx')\n",
    "\n",
    "\n",
    "# Sort the DataFrame based on the \"eff_gain\" column\n",
    "df_sorted_eff_test = df_eff_test.sort_values(by='eff_gain', ascending=False)\n",
    "\n",
    "# If you want to reset the index of the sorted DataFrame\n",
    "df_sorted_eff_test = df_sorted_eff_test.reset_index(drop=True)\n",
    "\n",
    "# Concatenate the sum and mean DataFrames with the sorted DataFrame\n",
    "df_sorted_eff_test_sum_avg = pd.concat([df_sorted_eff_test, sum_df, avg_df])\n",
    "\n",
    "\n",
    "# print(df_sorted_eff_test_sum_avg.head())\n",
    "\n",
    "df_sorted_eff_test_sum_avg.to_excel(Output_folder+'/Sorted_Eff_test_meas_pred_'+str(Eff_limit_fg)+'_inp_'+str(var_inputs)+'_lag_'+str(lag_test)+'.xlsx')\n",
    "df_sorted_eff_test_sum_avg.to_excel('Stats_Counts_v1/Results'+'/'+model_name+'_Sorted_Eff_test_meas_pred_'+str(Eff_limit_fg)+'.xlsx')\n",
    "\n",
    "\n",
    "print(df_sorted_eff_test_sum_avg.tail(2))\n"
   ]
  },
  {
   "cell_type": "code",
   "execution_count": 89,
   "metadata": {},
   "outputs": [
    {
     "data": {
      "text/html": [
       "<div>\n",
       "<style scoped>\n",
       "    .dataframe tbody tr th:only-of-type {\n",
       "        vertical-align: middle;\n",
       "    }\n",
       "\n",
       "    .dataframe tbody tr th {\n",
       "        vertical-align: top;\n",
       "    }\n",
       "\n",
       "    .dataframe thead th {\n",
       "        text-align: right;\n",
       "    }\n",
       "</style>\n",
       "<table border=\"1\" class=\"dataframe\">\n",
       "  <thead>\n",
       "    <tr style=\"text-align: right;\">\n",
       "      <th></th>\n",
       "      <th>Voyage</th>\n",
       "      <th>Weather_State</th>\n",
       "      <th>Weather_String</th>\n",
       "      <th>fuel_meas</th>\n",
       "      <th>time_meas</th>\n",
       "      <th>eff_meas</th>\n",
       "      <th>fuel_pred</th>\n",
       "      <th>time_pred</th>\n",
       "      <th>eff_pred</th>\n",
       "      <th>eff_diff</th>\n",
       "      <th>eff_gain</th>\n",
       "    </tr>\n",
       "  </thead>\n",
       "  <tbody>\n",
       "    <tr>\n",
       "      <th>sum</th>\n",
       "      <td>102540</td>\n",
       "      <td>149.0</td>\n",
       "      <td>Total</td>\n",
       "      <td>893.750001</td>\n",
       "      <td>1926.27</td>\n",
       "      <td>95.67018</td>\n",
       "      <td>789.200004</td>\n",
       "      <td>2067.23</td>\n",
       "      <td>97.609579</td>\n",
       "      <td>1.939399</td>\n",
       "      <td>345.179702</td>\n",
       "    </tr>\n",
       "    <tr>\n",
       "      <th>avg</th>\n",
       "      <td>632.962963</td>\n",
       "      <td>0.919753</td>\n",
       "      <td>extreme_weather</td>\n",
       "      <td>5.516975</td>\n",
       "      <td>11.890556</td>\n",
       "      <td>0.590557</td>\n",
       "      <td>4.871605</td>\n",
       "      <td>12.760679</td>\n",
       "      <td>0.602528</td>\n",
       "      <td>0.011972</td>\n",
       "      <td>2.130739</td>\n",
       "    </tr>\n",
       "  </tbody>\n",
       "</table>\n",
       "</div>"
      ],
      "text/plain": [
       "         Voyage Weather_State   Weather_String   fuel_meas  time_meas  \\\n",
       "sum      102540         149.0            Total  893.750001    1926.27   \n",
       "avg  632.962963      0.919753  extreme_weather    5.516975  11.890556   \n",
       "\n",
       "     eff_meas   fuel_pred  time_pred   eff_pred  eff_diff    eff_gain  \n",
       "sum  95.67018  789.200004    2067.23  97.609579  1.939399  345.179702  \n",
       "avg  0.590557    4.871605  12.760679   0.602528  0.011972    2.130739  "
      ]
     },
     "execution_count": 89,
     "metadata": {},
     "output_type": "execute_result"
    }
   ],
   "source": [
    "# df_eff_test\n",
    "# df_sorted_eff_test\n",
    "df_sorted_eff_test_sum_avg.tail(2)"
   ]
  },
  {
   "cell_type": "code",
   "execution_count": 90,
   "metadata": {
    "scrolled": true
   },
   "outputs": [
    {
     "data": {
      "text/html": [
       "<div>\n",
       "<style scoped>\n",
       "    .dataframe tbody tr th:only-of-type {\n",
       "        vertical-align: middle;\n",
       "    }\n",
       "\n",
       "    .dataframe tbody tr th {\n",
       "        vertical-align: top;\n",
       "    }\n",
       "\n",
       "    .dataframe thead th {\n",
       "        text-align: right;\n",
       "    }\n",
       "</style>\n",
       "<table border=\"1\" class=\"dataframe\">\n",
       "  <thead>\n",
       "    <tr style=\"text-align: right;\">\n",
       "      <th></th>\n",
       "      <th>Improved_Fuel_Vs</th>\n",
       "      <th>Not_Improved_Fuel_Vs</th>\n",
       "      <th>Improved_Time_Vs</th>\n",
       "      <th>Not_Improved_Time_Vs</th>\n",
       "      <th>Improved_Eff_Vs</th>\n",
       "      <th>Not_Improved_Eff_Vs</th>\n",
       "    </tr>\n",
       "  </thead>\n",
       "  <tbody>\n",
       "    <tr>\n",
       "      <th>Count</th>\n",
       "      <td>141</td>\n",
       "      <td>21</td>\n",
       "      <td>19</td>\n",
       "      <td>143</td>\n",
       "      <td>114</td>\n",
       "      <td>48</td>\n",
       "    </tr>\n",
       "    <tr>\n",
       "      <th>Percentage</th>\n",
       "      <td>87.0</td>\n",
       "      <td>13.0</td>\n",
       "      <td>12.0</td>\n",
       "      <td>88.0</td>\n",
       "      <td>70.0</td>\n",
       "      <td>30.0</td>\n",
       "    </tr>\n",
       "  </tbody>\n",
       "</table>\n",
       "</div>"
      ],
      "text/plain": [
       "           Improved_Fuel_Vs Not_Improved_Fuel_Vs Improved_Time_Vs  \\\n",
       "Count                   141                   21               19   \n",
       "Percentage             87.0                 13.0             12.0   \n",
       "\n",
       "           Not_Improved_Time_Vs Improved_Eff_Vs Not_Improved_Eff_Vs  \n",
       "Count                       143             114                  48  \n",
       "Percentage                 88.0            70.0                30.0  "
      ]
     },
     "execution_count": 90,
     "metadata": {},
     "output_type": "execute_result"
    }
   ],
   "source": [
    "# Create a DataFrame df_counts\n",
    "df_counts = pd.DataFrame(columns=['Improved_Fuel_Vs', 'Not_Improved_Fuel_Vs', 'Improved_Time_Vs', 'Not_Improved_Time_Vs', 'Improved_Eff_Vs', 'Not_Improved_Eff_Vs'])\n",
    "\n",
    "# Calculate counts for improved conditions\n",
    "improved_fuel_vs = (df_eff_test['fuel_pred'] < df_eff_test['fuel_meas']).sum()\n",
    "improved_time_vs = (df_eff_test['time_pred'] < df_eff_test['time_meas']).sum()\n",
    "improved_eff_vs = (df_eff_test['eff_pred'] > df_eff_test['eff_meas']).sum()\n",
    "\n",
    "# Calculate counts for not improved conditions\n",
    "not_improved_fuel_vs = len(df_eff_test) - improved_fuel_vs\n",
    "not_improved_time_vs = len(df_eff_test) - improved_time_vs\n",
    "not_improved_eff_vs = len(df_eff_test) - improved_eff_vs\n",
    "\n",
    "# Calculate percentages\n",
    "total_voyages = len(df_eff_test)\n",
    "percentage_improved_fuel = round(improved_fuel_vs / total_voyages,2)*100\n",
    "percentage_not_improved_fuel = round(not_improved_fuel_vs / total_voyages,2)*100\n",
    "percentage_improved_time = round(improved_time_vs / total_voyages,2)*100\n",
    "percentage_not_improved_time = round(not_improved_time_vs / total_voyages,2)*100\n",
    "percentage_improved_eff = round(improved_eff_vs / total_voyages,2)*100\n",
    "percentage_not_improved_eff = round(not_improved_eff_vs / total_voyages,2)*100\n",
    "\n",
    "# Add rows to df_counts\n",
    "df_counts = df_counts.append({'Improved_Fuel_Vs': improved_fuel_vs, 'Not_Improved_Fuel_Vs': not_improved_fuel_vs,\n",
    "                              'Improved_Time_Vs': improved_time_vs, 'Not_Improved_Time_Vs': not_improved_time_vs,\n",
    "                              'Improved_Eff_Vs': improved_eff_vs, 'Not_Improved_Eff_Vs': not_improved_eff_vs}, ignore_index=True)\n",
    "df_counts = df_counts.append({'Improved_Fuel_Vs': percentage_improved_fuel, 'Not_Improved_Fuel_Vs': percentage_not_improved_fuel,\n",
    "                              'Improved_Time_Vs': percentage_improved_time, 'Not_Improved_Time_Vs': percentage_not_improved_time,\n",
    "                              'Improved_Eff_Vs': percentage_improved_eff, 'Not_Improved_Eff_Vs': percentage_not_improved_eff}, ignore_index=True)\n",
    "\n",
    "# Set index names\n",
    "df_counts.index = ['Count', 'Percentage']\n",
    "\n",
    "\n",
    "df_counts.to_excel(Output_folder+'/Counts_Eff_Test_Perc_'+str(Eff_limit_fg)+'_inp_'+str(var_inputs)+'_lag_'+str(lag_test)+'.xlsx')\n",
    "\n",
    "df_counts.to_excel('Stats_Counts_v1/Results'+'/'+model_name+'Counts_Perc_Eff_Test_'+str(Eff_limit_fg)+'.xlsx')\n",
    "\n",
    "# Display df_counts\n",
    "df_counts\n"
   ]
  },
  {
   "cell_type": "code",
   "execution_count": 91,
   "metadata": {},
   "outputs": [
    {
     "data": {
      "image/png": "[encoded data removed]",
      "text/plain": [
       "<Figure size 1152x576 with 1 Axes>"
      ]
     },
     "metadata": {
      "needs_background": "light"
     },
     "output_type": "display_data"
    }
   ],
   "source": [
    "####Plot\n",
    "\n",
    "plt.figure(figsize=(16,8))\n",
    "\n",
    "plt.plot(df_eff_test.eff_meas, label=\"Eff_SOG_Meas.\", color='blue')\n",
    "plt.plot(df_eff_test.eff_pred, label=\"Eff_SOG_Pred.\", color='orange')\n",
    "\n",
    "  \n",
    "# plt.title('Sum_Eff_diffs=' + str(np.round(eff_diff_sum, 4)) + ',   Sum_Eff_gains=' + str(np.round(eff_gain_sum, 4))\n",
    "#           , fontsize=18)\n",
    "\n",
    "# Define the title text\n",
    "# title_text = 'Sum of Eff_diffs='+str(np.round(df_eff_test_sum_avg.loc['sum', 'eff_diff'], 2))+'\\n \\n  Sum of Eff_gains='+str(np.round(df_eff_test_sum_avg.loc['avg', 'eff_gain'], 4))\n",
    "# title_text = 'Sum of Eff_diffs='+str(np.round(df_eff_test_sum_avg.loc['sum', 'eff_diff'], 2))\n",
    "title_text = 'Average of Eff_Gains=' + str(np.round(df_eff_test_sum_avg.loc['avg', 'eff_gain'], 2)) \n",
    "\n",
    "# Add the title inside the figure using plt.text\n",
    "plt.text(0.5, 0.80, title_text, horizontalalignment='center', fontsize=22, transform=plt.gca().transAxes)\n",
    "\n",
    "\n",
    "plt.xlabel(\"Voyage ID#\", fontsize=18)\n",
    "plt.ylabel('Eff_Score (Normalized)', fontsize=18)\n",
    "plt.ylim(0, 1.05)\n",
    "plt.yticks(fontsize=15);\n",
    "plt.xticks(fontsize=15);\n",
    "plt.legend(loc=\"upper right\", fontsize=22)\n",
    "plt.grid(linestyle='--')\n",
    "\n",
    "plt.tight_layout()\n",
    "plt.savefig(Output_folder+'/Fig_'+model_name+'_Eff_Seqs_Pred_Meas'+'.png', dpi=300)\n",
    "plt.show()"
   ]
  },
  {
   "cell_type": "code",
   "execution_count": 92,
   "metadata": {},
   "outputs": [
    {
     "name": "stdout",
     "output_type": "stream",
     "text": [
      "\n",
      " Metrics for Eff-score predictions using predicted SOG\n",
      " MSE: 0.061252\n",
      " RMSE: 0.247491\n",
      "Normalized RMSE: 0.411020\n",
      "R2: -19.494427\n",
      "MAE: 0.239198\n"
     ]
    },
    {
     "data": {
      "image/png": "[encoded data removed]",
      "text/plain": [
       "<Figure size 1152x576 with 1 Axes>"
      ]
     },
     "metadata": {
      "needs_background": "light"
     },
     "output_type": "display_data"
    }
   ],
   "source": [
    "####Plot\n",
    "\n",
    "plt.figure(figsize=(16,8))\n",
    "\n",
    "plt.plot(df_sorted_eff_test.eff_meas, label=\"Eff_SOG_Meas.\", color='blue')\n",
    "plt.plot(df_sorted_eff_test.eff_pred, label=\"Eff_SOG_Pred.\", color='orange')\n",
    "\n",
    "print('\\n Metrics for Eff-score predictions using predicted SOG')\n",
    "mse_eff2, rmse_eff2, R2_eff2, mae_eff2, rmse_n2=metrics_eval(Y_act2, df_eff_test.eff_meas)\n",
    "\n",
    "  \n",
    "# plt.title('Sum_Eff_diffs=' + str(np.round(eff_diff_sum, 4)) + ',   Sum_Eff_gains=' + str(np.round(eff_gain_sum, 4))\n",
    "#           , fontsize=18)\n",
    "\n",
    "# Define the title text\n",
    "# title_text = 'Sum of Eff_diffs='+str(np.round(df_eff_test_sum_avg.loc['sum', 'eff_diff'], 2))+'\\n \\n  Sum of Eff_gains='+str(np.round(df_eff_test_sum_avg.loc['avg', 'eff_gain'], 4))\n",
    "# title_text = 'Sum of Eff_diffs='+str(np.round(df_eff_test_sum_avg.loc['sum', 'eff_diff'], 2))\n",
    "title_text = 'Average of Eff_Gains=' + str(np.round(df_eff_test_sum_avg.loc['avg', 'eff_gain'], 2)) \n",
    "\n",
    "# Add the title inside the figure using plt.text\n",
    "plt.text(0.5, 0.80, title_text, horizontalalignment='center', fontsize=22, transform=plt.gca().transAxes)\n",
    "\n",
    "\n",
    "plt.xlabel(\"Voyage ID#\", fontsize=18)\n",
    "plt.ylabel('Eff_Score (Normalized)', fontsize=18)\n",
    "plt.ylim(0, 1.05)\n",
    "plt.yticks(fontsize=15);\n",
    "plt.xticks(fontsize=15);\n",
    "plt.legend(loc=\"upper right\", fontsize=22)\n",
    "plt.grid(linestyle='--')\n",
    "\n",
    "plt.tight_layout()\n",
    "plt.savefig(Output_folder+'/Fig_'+model_name+'_Sorted_Eff_Seqs_Pred_Meas'+'.png', dpi=300)\n",
    "plt.show()"
   ]
  },
  {
   "cell_type": "code",
   "execution_count": 93,
   "metadata": {},
   "outputs": [],
   "source": [
    "# st=stop"
   ]
  },
  {
   "cell_type": "code",
   "execution_count": 94,
   "metadata": {},
   "outputs": [
    {
     "name": "stdout",
     "output_type": "stream",
     "text": [
      "Number of times eff_pred > eff_meas: 114\n",
      "\n",
      "Indexes where eff_pred > eff_meas: Int64Index([  0,   2,   3,   4,   9,  10,  11,  13,  15,  16,\n",
      "            ...\n",
      "            146, 147, 148, 149, 151, 153, 156, 157, 158, 160],\n",
      "           dtype='int64', length=114)\n",
      "\n",
      "Number of times eff_pred < eff_meas: 48\n",
      "\n",
      "Indexes where eff_pred < eff_meas: Int64Index([  1,   5,   6,   7,   8,  12,  14,  17,  27,  28,  29,  31,  36,\n",
      "             40,  41,  42,  47,  51,  52,  53,  61,  63,  64,  71,  72,  73,\n",
      "             74,  76,  81,  87,  90,  94, 109, 112, 114, 116, 120, 124, 126,\n",
      "            127, 136, 140, 150, 152, 154, 155, 159, 161],\n",
      "           dtype='int64')\n",
      "Highest gain: 0.07518099028585234\n",
      "Lowest gain: -0.04875145325262542\n"
     ]
    }
   ],
   "source": [
    "# Find the indexes where eff_pred > eff_meas\n",
    "indexes = df_eff_test[df_eff_test['eff_pred'] > df_eff_test['eff_meas']].index\n",
    "\n",
    "# Count how many times this condition is met\n",
    "count = len(indexes)\n",
    "\n",
    "# Calculate the highest and lowest gain\n",
    "highest_gain = (df_eff_test['eff_pred'] - df_eff_test['eff_meas']).max()\n",
    "lowest_gain = (df_eff_test['eff_pred'] - df_eff_test['eff_meas']).min()\n",
    "\n",
    "# Find the indexes where eff_pred < eff_meas\n",
    "indexes_pred_less_than_meas = df_eff_test[df_eff_test['eff_pred'] < df_eff_test['eff_meas']].index\n",
    "\n",
    "# Count how many times eff_pred < eff_meas\n",
    "count_pred_less_than_meas = len(indexes_pred_less_than_meas)\n",
    "\n",
    "# Print the results\n",
    "print(\"Number of times eff_pred > eff_meas:\", count)\n",
    "print ('')\n",
    "print(\"Indexes where eff_pred > eff_meas:\", indexes)\n",
    "print ('')\n",
    "print(\"Number of times eff_pred < eff_meas:\", count_pred_less_than_meas)\n",
    "print ('')\n",
    "print(\"Indexes where eff_pred < eff_meas:\", indexes_pred_less_than_meas)\n",
    "\n",
    "print(\"Highest gain:\", highest_gain)\n",
    "print(\"Lowest gain:\", lowest_gain)\n"
   ]
  },
  {
   "cell_type": "code",
   "execution_count": 95,
   "metadata": {},
   "outputs": [
    {
     "name": "stdout",
     "output_type": "stream",
     "text": [
      "Number of times eff_pred > eff_meas: 114\n",
      "\n",
      "Indexes where eff_pred > eff_meas: Int64Index([  0,   2,   3,   4,   9,  10,  11,  13,  15,  16,\n",
      "            ...\n",
      "            146, 147, 148, 149, 151, 153, 156, 157, 158, 160],\n",
      "           dtype='int64', length=114)\n",
      "\n",
      "Number of times eff_pred < eff_meas: 48\n",
      "\n",
      "Indexes where eff_pred < eff_meas: Int64Index([  1,   5,   6,   7,   8,  12,  14,  17,  27,  28,  29,  31,  36,\n",
      "             40,  41,  42,  47,  51,  52,  53,  61,  63,  64,  71,  72,  73,\n",
      "             74,  76,  81,  87,  90,  94, 109, 112, 114, 116, 120, 124, 126,\n",
      "            127, 136, 140, 150, 152, 154, 155, 159, 161],\n",
      "           dtype='int64')\n",
      "Highest gain: 0.07518099028585234\n",
      "Lowest gain: -0.04875145325262542\n",
      "\n",
      "Percentage of eff_pred > eff_meas: 70.0 %\n",
      "Percentage of eff_pred < eff_meas: 30.0 %\n"
     ]
    }
   ],
   "source": [
    "# Find the indexes where eff_pred > eff_meas\n",
    "indexes = df_eff_test[df_eff_test['eff_pred'] > df_eff_test['eff_meas']].index\n",
    "\n",
    "# Count how many times this condition is met\n",
    "count = len(indexes)\n",
    "\n",
    "# Calculate the highest and lowest gain\n",
    "highest_gain = (df_eff_test['eff_pred'] - df_eff_test['eff_meas']).max()\n",
    "lowest_gain = (df_eff_test['eff_pred'] - df_eff_test['eff_meas']).min()\n",
    "\n",
    "# Find the indexes where eff_pred < eff_meas\n",
    "indexes_pred_less_than_meas = df_eff_test[df_eff_test['eff_pred'] < df_eff_test['eff_meas']].index\n",
    "\n",
    "# Count how many times eff_pred < eff_meas\n",
    "count_pred_less_than_meas = len(indexes_pred_less_than_meas)\n",
    "\n",
    "# Print the results\n",
    "print(\"Number of times eff_pred > eff_meas:\", count)\n",
    "print ('')\n",
    "print(\"Indexes where eff_pred > eff_meas:\", indexes)\n",
    "print ('')\n",
    "print(\"Number of times eff_pred < eff_meas:\", count_pred_less_than_meas)\n",
    "print ('')\n",
    "print(\"Indexes where eff_pred < eff_meas:\", indexes_pred_less_than_meas)\n",
    "\n",
    "print(\"Highest gain:\", highest_gain)\n",
    "print(\"Lowest gain:\", lowest_gain)\n",
    "\n",
    "\n",
    "# Calculate the percentage of eff_pred > eff_meas\n",
    "percentage_pred_greater_than_meas = round(count / len(df_eff_test),2) * 100\n",
    "\n",
    "# Calculate the percentage of eff_pred < eff_meas\n",
    "percentage_pred_less_than_meas = round(count_pred_less_than_meas / len(df_eff_test),2) * 100\n",
    "\n",
    "# Print the results\n",
    "print ('')\n",
    "\n",
    "print(\"Percentage of eff_pred > eff_meas:\", percentage_pred_greater_than_meas, \"%\")\n",
    "print(\"Percentage of eff_pred < eff_meas:\", percentage_pred_less_than_meas, \"%\")"
   ]
  },
  {
   "cell_type": "code",
   "execution_count": 96,
   "metadata": {},
   "outputs": [
    {
     "data": {
      "text/html": [
       "<div>\n",
       "<style scoped>\n",
       "    .dataframe tbody tr th:only-of-type {\n",
       "        vertical-align: middle;\n",
       "    }\n",
       "\n",
       "    .dataframe tbody tr th {\n",
       "        vertical-align: top;\n",
       "    }\n",
       "\n",
       "    .dataframe thead th {\n",
       "        text-align: right;\n",
       "    }\n",
       "</style>\n",
       "<table border=\"1\" class=\"dataframe\">\n",
       "  <thead>\n",
       "    <tr style=\"text-align: right;\">\n",
       "      <th></th>\n",
       "      <th>Improved_Fuel_Vs</th>\n",
       "      <th>Not_Improved_Fuel_Vs</th>\n",
       "      <th>Improved_Time_Vs</th>\n",
       "      <th>Not_Improved_Time_Vs</th>\n",
       "      <th>Improved_Eff_Vs</th>\n",
       "      <th>Not_Improved_Eff_Vs</th>\n",
       "    </tr>\n",
       "  </thead>\n",
       "  <tbody>\n",
       "    <tr>\n",
       "      <th>Count</th>\n",
       "      <td>141</td>\n",
       "      <td>21</td>\n",
       "      <td>19</td>\n",
       "      <td>143</td>\n",
       "      <td>114</td>\n",
       "      <td>48</td>\n",
       "    </tr>\n",
       "    <tr>\n",
       "      <th>Percentage</th>\n",
       "      <td>87.0</td>\n",
       "      <td>13.0</td>\n",
       "      <td>12.0</td>\n",
       "      <td>88.0</td>\n",
       "      <td>70.0</td>\n",
       "      <td>30.0</td>\n",
       "    </tr>\n",
       "  </tbody>\n",
       "</table>\n",
       "</div>"
      ],
      "text/plain": [
       "           Improved_Fuel_Vs Not_Improved_Fuel_Vs Improved_Time_Vs  \\\n",
       "Count                   141                   21               19   \n",
       "Percentage             87.0                 13.0             12.0   \n",
       "\n",
       "           Not_Improved_Time_Vs Improved_Eff_Vs Not_Improved_Eff_Vs  \n",
       "Count                       143             114                  48  \n",
       "Percentage                 88.0            70.0                30.0  "
      ]
     },
     "execution_count": 96,
     "metadata": {},
     "output_type": "execute_result"
    }
   ],
   "source": [
    "df_counts"
   ]
  },
  {
   "cell_type": "code",
   "execution_count": 97,
   "metadata": {},
   "outputs": [
    {
     "data": {
      "text/html": [
       "<div>\n",
       "<style scoped>\n",
       "    .dataframe tbody tr th:only-of-type {\n",
       "        vertical-align: middle;\n",
       "    }\n",
       "\n",
       "    .dataframe tbody tr th {\n",
       "        vertical-align: top;\n",
       "    }\n",
       "\n",
       "    .dataframe thead th {\n",
       "        text-align: right;\n",
       "    }\n",
       "</style>\n",
       "<table border=\"1\" class=\"dataframe\">\n",
       "  <thead>\n",
       "    <tr style=\"text-align: right;\">\n",
       "      <th></th>\n",
       "      <th>SOG_Meas</th>\n",
       "      <th>SOG_Pred</th>\n",
       "      <th>improv</th>\n",
       "    </tr>\n",
       "  </thead>\n",
       "  <tbody>\n",
       "    <tr>\n",
       "      <th>fuel</th>\n",
       "      <td>1256.62</td>\n",
       "      <td>1118.43</td>\n",
       "      <td>11.00</td>\n",
       "    </tr>\n",
       "    <tr>\n",
       "      <th>time</th>\n",
       "      <td>22.32</td>\n",
       "      <td>23.75</td>\n",
       "      <td>-6.41</td>\n",
       "    </tr>\n",
       "    <tr>\n",
       "      <th>distance</th>\n",
       "      <td>349.20</td>\n",
       "      <td>336.28</td>\n",
       "      <td>3.70</td>\n",
       "    </tr>\n",
       "    <tr>\n",
       "      <th>sog_avg</th>\n",
       "      <td>1.67</td>\n",
       "      <td>1.57</td>\n",
       "      <td>5.56</td>\n",
       "    </tr>\n",
       "  </tbody>\n",
       "</table>\n",
       "</div>"
      ],
      "text/plain": [
       "          SOG_Meas  SOG_Pred  improv\n",
       "fuel       1256.62   1118.43   11.00\n",
       "time         22.32     23.75   -6.41\n",
       "distance    349.20    336.28    3.70\n",
       "sog_avg       1.67      1.57    5.56"
      ]
     },
     "metadata": {},
     "output_type": "display_data"
    }
   ],
   "source": [
    "display(df_st_rt.round(2))"
   ]
  },
  {
   "cell_type": "code",
   "execution_count": 98,
   "metadata": {},
   "outputs": [
    {
     "name": "stdout",
     "output_type": "stream",
     "text": [
      "nth_mid_sth_fg= Cruising_Speeds\n",
      "gr_ock_fg= 1\n",
      "Eff_limit_combs= ['Top10']\n",
      "lag_test= 1\n",
      "inputs= Weathers\n"
     ]
    }
   ],
   "source": [
    "print('nth_mid_sth_fg=', nth_mid_sth_fg)\n",
    "print('gr_ock_fg=', gr_ock_fg)\n",
    "print('Eff_limit_combs=',Eff_limit_combs)\n",
    "print('lag_test=', lag_test)\n",
    "print('inputs=', inputs_str)"
   ]
  },
  {
   "cell_type": "code",
   "execution_count": null,
   "metadata": {},
   "outputs": [],
   "source": []
  },
  {
   "cell_type": "code",
   "execution_count": null,
   "metadata": {},
   "outputs": [],
   "source": []
  },
  {
   "cell_type": "code",
   "execution_count": null,
   "metadata": {},
   "outputs": [],
   "source": []
  },
  {
   "cell_type": "code",
   "execution_count": null,
   "metadata": {},
   "outputs": [],
   "source": []
  },
  {
   "cell_type": "code",
   "execution_count": null,
   "metadata": {},
   "outputs": [],
   "source": []
  },
  {
   "cell_type": "code",
   "execution_count": null,
   "metadata": {},
   "outputs": [],
   "source": []
  },
  {
   "cell_type": "code",
   "execution_count": null,
   "metadata": {},
   "outputs": [],
   "source": []
  },
  {
   "cell_type": "code",
   "execution_count": null,
   "metadata": {},
   "outputs": [],
   "source": []
  },
  {
   "cell_type": "code",
   "execution_count": null,
   "metadata": {},
   "outputs": [],
   "source": []
  },
  {
   "cell_type": "code",
   "execution_count": null,
   "metadata": {},
   "outputs": [],
   "source": []
  },
  {
   "cell_type": "code",
   "execution_count": null,
   "metadata": {},
   "outputs": [],
   "source": []
  },
  {
   "cell_type": "code",
   "execution_count": null,
   "metadata": {},
   "outputs": [],
   "source": []
  },
  {
   "cell_type": "code",
   "execution_count": null,
   "metadata": {},
   "outputs": [],
   "source": []
  },
  {
   "cell_type": "code",
   "execution_count": null,
   "metadata": {},
   "outputs": [],
   "source": []
  },
  {
   "cell_type": "code",
   "execution_count": null,
   "metadata": {},
   "outputs": [],
   "source": []
  },
  {
   "cell_type": "code",
   "execution_count": null,
   "metadata": {},
   "outputs": [],
   "source": []
  },
  {
   "cell_type": "code",
   "execution_count": null,
   "metadata": {},
   "outputs": [],
   "source": []
  },
  {
   "cell_type": "code",
   "execution_count": null,
   "metadata": {},
   "outputs": [],
   "source": []
  },
  {
   "cell_type": "code",
   "execution_count": null,
   "metadata": {},
   "outputs": [],
   "source": []
  }
 ],
 "metadata": {
  "colab": {
   "collapsed_sections": [],
   "provenance": []
  },
  "kernelspec": {
   "display_name": "Python 3",
   "language": "python",
   "name": "python3"
  },
  "language_info": {
   "codemirror_mode": {
    "name": "ipython",
    "version": 3
   },
   "file_extension": ".py",
   "mimetype": "text/x-python",
   "name": "python",
   "nbconvert_exporter": "python",
   "pygments_lexer": "ipython3",
   "version": "3.9.7"
  }
 },
 "nbformat": 4,
 "nbformat_minor": 1
}
